{
 "cells": [
  {
   "cell_type": "markdown",
   "id": "a8863937-3067-4a9d-bf28-f59b6b5ad043",
   "metadata": {},
   "source": [
    "## ISLR Classification Lab"
   ]
  },
  {
   "cell_type": "markdown",
   "id": "595ab229-7797-4e02-94d6-8192ea4b9b5d",
   "metadata": {},
   "source": [
    "### 4.7.1"
   ]
  },
  {
   "cell_type": "code",
   "execution_count": 1,
   "id": "76ee408c-07c4-44d8-bd84-0c2df7f0f5ce",
   "metadata": {},
   "outputs": [],
   "source": [
    "import pandas as pd\n",
    "import numpy as np\n",
    "import matplotlib.pyplot as plt\n",
    "import seaborn as sns\n",
    "\n",
    "# scikit-learn\n",
    "from sklearn.linear_model import LogisticRegression\n",
    "from sklearn.discriminant_analysis import LinearDiscriminantAnalysis as LDA\n",
    "from sklearn.discriminant_analysis import QuadraticDiscriminantAnalysis as QDA\n",
    "from sklearn.neighbors import KNeighborsClassifier\n",
    "from sklearn.preprocessing import scale\n",
    "from sklearn.naive_bayes import GaussianNB\n",
    "# statsmodels\n",
    "import statsmodels.api as sm\n",
    "import statsmodels.formula.api as smf\n",
    "\n",
    "%matplotlib inline\n",
    "sns.set_style(\"darkgrid\")"
   ]
  },
  {
   "cell_type": "code",
   "execution_count": 2,
   "id": "2e1fb6db-c77f-49d6-839e-9e7168152601",
   "metadata": {},
   "outputs": [],
   "source": [
    "df = pd.read_csv('D:\\Columbia\\课程\\第一学期\\machine learning\\hw\\data_export\\Smarket.csv', index_col=0)"
   ]
  },
  {
   "cell_type": "code",
   "execution_count": 3,
   "id": "c3dc20fe-11eb-4f12-88e0-43d45261e480",
   "metadata": {},
   "outputs": [
    {
     "name": "stdout",
     "output_type": "stream",
     "text": [
      "<class 'pandas.core.frame.DataFrame'>\n",
      "Int64Index: 1250 entries, 1 to 1250\n",
      "Data columns (total 9 columns):\n",
      " #   Column     Non-Null Count  Dtype  \n",
      "---  ------     --------------  -----  \n",
      " 0   Year       1250 non-null   int64  \n",
      " 1   Lag1       1250 non-null   float64\n",
      " 2   Lag2       1250 non-null   float64\n",
      " 3   Lag3       1250 non-null   float64\n",
      " 4   Lag4       1250 non-null   float64\n",
      " 5   Lag5       1250 non-null   float64\n",
      " 6   Volume     1250 non-null   float64\n",
      " 7   Today      1250 non-null   float64\n",
      " 8   Direction  1250 non-null   object \n",
      "dtypes: float64(7), int64(1), object(1)\n",
      "memory usage: 97.7+ KB\n"
     ]
    }
   ],
   "source": [
    "df.info()"
   ]
  },
  {
   "cell_type": "code",
   "execution_count": 4,
   "id": "c6e6df01-28ee-4ce4-ba19-5fb56cd2a708",
   "metadata": {},
   "outputs": [
    {
     "data": {
      "text/html": [
       "<div>\n",
       "<style scoped>\n",
       "    .dataframe tbody tr th:only-of-type {\n",
       "        vertical-align: middle;\n",
       "    }\n",
       "\n",
       "    .dataframe tbody tr th {\n",
       "        vertical-align: top;\n",
       "    }\n",
       "\n",
       "    .dataframe thead th {\n",
       "        text-align: right;\n",
       "    }\n",
       "</style>\n",
       "<table border=\"1\" class=\"dataframe\">\n",
       "  <thead>\n",
       "    <tr style=\"text-align: right;\">\n",
       "      <th></th>\n",
       "      <th>Year</th>\n",
       "      <th>Lag1</th>\n",
       "      <th>Lag2</th>\n",
       "      <th>Lag3</th>\n",
       "      <th>Lag4</th>\n",
       "      <th>Lag5</th>\n",
       "      <th>Volume</th>\n",
       "      <th>Today</th>\n",
       "    </tr>\n",
       "  </thead>\n",
       "  <tbody>\n",
       "    <tr>\n",
       "      <th>Year</th>\n",
       "      <td>1.000000</td>\n",
       "      <td>0.029700</td>\n",
       "      <td>0.030596</td>\n",
       "      <td>0.033195</td>\n",
       "      <td>0.035689</td>\n",
       "      <td>0.029788</td>\n",
       "      <td>0.539006</td>\n",
       "      <td>0.030095</td>\n",
       "    </tr>\n",
       "    <tr>\n",
       "      <th>Lag1</th>\n",
       "      <td>0.029700</td>\n",
       "      <td>1.000000</td>\n",
       "      <td>-0.026294</td>\n",
       "      <td>-0.010803</td>\n",
       "      <td>-0.002986</td>\n",
       "      <td>-0.005675</td>\n",
       "      <td>0.040910</td>\n",
       "      <td>-0.026155</td>\n",
       "    </tr>\n",
       "    <tr>\n",
       "      <th>Lag2</th>\n",
       "      <td>0.030596</td>\n",
       "      <td>-0.026294</td>\n",
       "      <td>1.000000</td>\n",
       "      <td>-0.025897</td>\n",
       "      <td>-0.010854</td>\n",
       "      <td>-0.003558</td>\n",
       "      <td>-0.043383</td>\n",
       "      <td>-0.010250</td>\n",
       "    </tr>\n",
       "    <tr>\n",
       "      <th>Lag3</th>\n",
       "      <td>0.033195</td>\n",
       "      <td>-0.010803</td>\n",
       "      <td>-0.025897</td>\n",
       "      <td>1.000000</td>\n",
       "      <td>-0.024051</td>\n",
       "      <td>-0.018808</td>\n",
       "      <td>-0.041824</td>\n",
       "      <td>-0.002448</td>\n",
       "    </tr>\n",
       "    <tr>\n",
       "      <th>Lag4</th>\n",
       "      <td>0.035689</td>\n",
       "      <td>-0.002986</td>\n",
       "      <td>-0.010854</td>\n",
       "      <td>-0.024051</td>\n",
       "      <td>1.000000</td>\n",
       "      <td>-0.027084</td>\n",
       "      <td>-0.048414</td>\n",
       "      <td>-0.006900</td>\n",
       "    </tr>\n",
       "    <tr>\n",
       "      <th>Lag5</th>\n",
       "      <td>0.029788</td>\n",
       "      <td>-0.005675</td>\n",
       "      <td>-0.003558</td>\n",
       "      <td>-0.018808</td>\n",
       "      <td>-0.027084</td>\n",
       "      <td>1.000000</td>\n",
       "      <td>-0.022002</td>\n",
       "      <td>-0.034860</td>\n",
       "    </tr>\n",
       "    <tr>\n",
       "      <th>Volume</th>\n",
       "      <td>0.539006</td>\n",
       "      <td>0.040910</td>\n",
       "      <td>-0.043383</td>\n",
       "      <td>-0.041824</td>\n",
       "      <td>-0.048414</td>\n",
       "      <td>-0.022002</td>\n",
       "      <td>1.000000</td>\n",
       "      <td>0.014592</td>\n",
       "    </tr>\n",
       "    <tr>\n",
       "      <th>Today</th>\n",
       "      <td>0.030095</td>\n",
       "      <td>-0.026155</td>\n",
       "      <td>-0.010250</td>\n",
       "      <td>-0.002448</td>\n",
       "      <td>-0.006900</td>\n",
       "      <td>-0.034860</td>\n",
       "      <td>0.014592</td>\n",
       "      <td>1.000000</td>\n",
       "    </tr>\n",
       "  </tbody>\n",
       "</table>\n",
       "</div>"
      ],
      "text/plain": [
       "            Year      Lag1      Lag2      Lag3      Lag4      Lag5    Volume  \\\n",
       "Year    1.000000  0.029700  0.030596  0.033195  0.035689  0.029788  0.539006   \n",
       "Lag1    0.029700  1.000000 -0.026294 -0.010803 -0.002986 -0.005675  0.040910   \n",
       "Lag2    0.030596 -0.026294  1.000000 -0.025897 -0.010854 -0.003558 -0.043383   \n",
       "Lag3    0.033195 -0.010803 -0.025897  1.000000 -0.024051 -0.018808 -0.041824   \n",
       "Lag4    0.035689 -0.002986 -0.010854 -0.024051  1.000000 -0.027084 -0.048414   \n",
       "Lag5    0.029788 -0.005675 -0.003558 -0.018808 -0.027084  1.000000 -0.022002   \n",
       "Volume  0.539006  0.040910 -0.043383 -0.041824 -0.048414 -0.022002  1.000000   \n",
       "Today   0.030095 -0.026155 -0.010250 -0.002448 -0.006900 -0.034860  0.014592   \n",
       "\n",
       "           Today  \n",
       "Year    0.030095  \n",
       "Lag1   -0.026155  \n",
       "Lag2   -0.010250  \n",
       "Lag3   -0.002448  \n",
       "Lag4   -0.006900  \n",
       "Lag5   -0.034860  \n",
       "Volume  0.014592  \n",
       "Today   1.000000  "
      ]
     },
     "execution_count": 4,
     "metadata": {},
     "output_type": "execute_result"
    }
   ],
   "source": [
    "df.corr()"
   ]
  },
  {
   "cell_type": "code",
   "execution_count": 5,
   "id": "6b21191a-6e4e-456a-b271-70b3cd0f6b94",
   "metadata": {},
   "outputs": [
    {
     "name": "stderr",
     "output_type": "stream",
     "text": [
      "C:\\Users\\LEN\\anaconda3\\lib\\site-packages\\seaborn\\_decorators.py:36: FutureWarning: Pass the following variables as keyword args: x, y. From version 0.12, the only valid positional argument will be `data`, and passing other arguments without an explicit keyword will result in an error or misinterpretation.\n",
      "  warnings.warn(\n",
      "C:\\Users\\LEN\\anaconda3\\lib\\site-packages\\seaborn\\_decorators.py:36: FutureWarning: Pass the following variables as keyword args: x, y. From version 0.12, the only valid positional argument will be `data`, and passing other arguments without an explicit keyword will result in an error or misinterpretation.\n",
      "  warnings.warn(\n"
     ]
    },
    {
     "data": {
      "text/plain": [
       "Text(0.5, 0, 'Day')"
      ]
     },
     "execution_count": 5,
     "metadata": {},
     "output_type": "execute_result"
    },
    {
     "data": {
      "image/png": "[encoded data removed]",
      "text/plain": [
       "<Figure size 864x432 with 2 Axes>"
      ]
     },
     "metadata": {},
     "output_type": "display_data"
    }
   ],
   "source": [
    "fig, (ax1, ax2) = plt.subplots(ncols=2, sharey=True, figsize=(12,6))\n",
    "sns.barplot(df.Year, df.Volume, ax=ax1)\n",
    "sns.scatterplot(df.index, df.Volume, ax=ax2)\n",
    "ax2.set_xlabel(\"Day\")"
   ]
  },
  {
   "cell_type": "markdown",
   "id": "6a49efc9-a9f0-462f-8b5c-319e2e0915e2",
   "metadata": {},
   "source": [
    "### 4.7.2 logistic regression"
   ]
  },
  {
   "cell_type": "code",
   "execution_count": 6,
   "id": "6991ed23-832c-4a24-a6bb-20132c321d10",
   "metadata": {},
   "outputs": [
    {
     "data": {
      "text/html": [
       "<table class=\"simpletable\">\n",
       "<caption>Generalized Linear Model Regression Results</caption>\n",
       "<tr>\n",
       "  <th>Dep. Variable:</th>   <td>['Direction[Down]', 'Direction[Up]']</td> <th>  No. Observations:  </th>  <td>  1250</td> \n",
       "</tr>\n",
       "<tr>\n",
       "  <th>Model:</th>                            <td>GLM</td>                 <th>  Df Residuals:      </th>  <td>  1243</td> \n",
       "</tr>\n",
       "<tr>\n",
       "  <th>Model Family:</th>                  <td>Binomial</td>               <th>  Df Model:          </th>  <td>     6</td> \n",
       "</tr>\n",
       "<tr>\n",
       "  <th>Link Function:</th>                   <td>logit</td>                <th>  Scale:             </th> <td>  1.0000</td>\n",
       "</tr>\n",
       "<tr>\n",
       "  <th>Method:</th>                          <td>IRLS</td>                 <th>  Log-Likelihood:    </th> <td> -863.79</td>\n",
       "</tr>\n",
       "<tr>\n",
       "  <th>Date:</th>                      <td>Mon, 18 Oct 2021</td>           <th>  Deviance:          </th> <td>  1727.6</td>\n",
       "</tr>\n",
       "<tr>\n",
       "  <th>Time:</th>                          <td>21:55:16</td>               <th>  Pearson chi2:      </th> <td>1.25e+03</td>\n",
       "</tr>\n",
       "<tr>\n",
       "  <th>No. Iterations:</th>                    <td>4</td>                  <th>                     </th>     <td> </td>   \n",
       "</tr>\n",
       "<tr>\n",
       "  <th>Covariance Type:</th>               <td>nonrobust</td>              <th>                     </th>     <td> </td>   \n",
       "</tr>\n",
       "</table>\n",
       "<table class=\"simpletable\">\n",
       "<tr>\n",
       "      <td></td>         <th>coef</th>     <th>std err</th>      <th>z</th>      <th>P>|z|</th>  <th>[0.025</th>    <th>0.975]</th>  \n",
       "</tr>\n",
       "<tr>\n",
       "  <th>Intercept</th> <td>    0.1260</td> <td>    0.241</td> <td>    0.523</td> <td> 0.601</td> <td>   -0.346</td> <td>    0.598</td>\n",
       "</tr>\n",
       "<tr>\n",
       "  <th>Lag1</th>      <td>    0.0731</td> <td>    0.050</td> <td>    1.457</td> <td> 0.145</td> <td>   -0.025</td> <td>    0.171</td>\n",
       "</tr>\n",
       "<tr>\n",
       "  <th>Lag2</th>      <td>    0.0423</td> <td>    0.050</td> <td>    0.845</td> <td> 0.398</td> <td>   -0.056</td> <td>    0.140</td>\n",
       "</tr>\n",
       "<tr>\n",
       "  <th>Lag3</th>      <td>   -0.0111</td> <td>    0.050</td> <td>   -0.222</td> <td> 0.824</td> <td>   -0.109</td> <td>    0.087</td>\n",
       "</tr>\n",
       "<tr>\n",
       "  <th>Lag4</th>      <td>   -0.0094</td> <td>    0.050</td> <td>   -0.187</td> <td> 0.851</td> <td>   -0.107</td> <td>    0.089</td>\n",
       "</tr>\n",
       "<tr>\n",
       "  <th>Lag5</th>      <td>   -0.0103</td> <td>    0.050</td> <td>   -0.208</td> <td> 0.835</td> <td>   -0.107</td> <td>    0.087</td>\n",
       "</tr>\n",
       "<tr>\n",
       "  <th>Volume</th>    <td>   -0.1354</td> <td>    0.158</td> <td>   -0.855</td> <td> 0.392</td> <td>   -0.446</td> <td>    0.175</td>\n",
       "</tr>\n",
       "</table>"
      ],
      "text/plain": [
       "<class 'statsmodels.iolib.summary.Summary'>\n",
       "\"\"\"\n",
       "                          Generalized Linear Model Regression Results                           \n",
       "================================================================================================\n",
       "Dep. Variable:     ['Direction[Down]', 'Direction[Up]']   No. Observations:                 1250\n",
       "Model:                                              GLM   Df Residuals:                     1243\n",
       "Model Family:                                  Binomial   Df Model:                            6\n",
       "Link Function:                                    logit   Scale:                          1.0000\n",
       "Method:                                            IRLS   Log-Likelihood:                -863.79\n",
       "Date:                                  Mon, 18 Oct 2021   Deviance:                       1727.6\n",
       "Time:                                          21:55:16   Pearson chi2:                 1.25e+03\n",
       "No. Iterations:                                       4                                         \n",
       "Covariance Type:                              nonrobust                                         \n",
       "==============================================================================\n",
       "                 coef    std err          z      P>|z|      [0.025      0.975]\n",
       "------------------------------------------------------------------------------\n",
       "Intercept      0.1260      0.241      0.523      0.601      -0.346       0.598\n",
       "Lag1           0.0731      0.050      1.457      0.145      -0.025       0.171\n",
       "Lag2           0.0423      0.050      0.845      0.398      -0.056       0.140\n",
       "Lag3          -0.0111      0.050     -0.222      0.824      -0.109       0.087\n",
       "Lag4          -0.0094      0.050     -0.187      0.851      -0.107       0.089\n",
       "Lag5          -0.0103      0.050     -0.208      0.835      -0.107       0.087\n",
       "Volume        -0.1354      0.158     -0.855      0.392      -0.446       0.175\n",
       "==============================================================================\n",
       "\"\"\""
      ]
     },
     "execution_count": 6,
     "metadata": {},
     "output_type": "execute_result"
    }
   ],
   "source": [
    "formula = 'Direction ~ Lag1 + Lag2 + Lag3 + Lag4 + Lag5 + Volume'\n",
    "smarket_glm = smf.glm(formula, data=df, family=sm.families.Binomial()).fit()\n",
    "smarket_glm.summary()"
   ]
  },
  {
   "cell_type": "code",
   "execution_count": 7,
   "id": "87d6ad30-df37-471b-b129-e3aa33dacad1",
   "metadata": {},
   "outputs": [
    {
     "data": {
      "text/html": [
       "<div>\n",
       "<style scoped>\n",
       "    .dataframe tbody tr th:only-of-type {\n",
       "        vertical-align: middle;\n",
       "    }\n",
       "\n",
       "    .dataframe tbody tr th {\n",
       "        vertical-align: top;\n",
       "    }\n",
       "\n",
       "    .dataframe thead th {\n",
       "        text-align: right;\n",
       "    }\n",
       "</style>\n",
       "<table border=\"1\" class=\"dataframe\">\n",
       "  <thead>\n",
       "    <tr style=\"text-align: right;\">\n",
       "      <th></th>\n",
       "      <th>Intercept</th>\n",
       "      <th>Lag1</th>\n",
       "      <th>Lag2</th>\n",
       "      <th>Lag3</th>\n",
       "      <th>Lag4</th>\n",
       "      <th>Lag5</th>\n",
       "      <th>Volume</th>\n",
       "    </tr>\n",
       "  </thead>\n",
       "  <tbody>\n",
       "    <tr>\n",
       "      <th>0</th>\n",
       "      <td>-0.126008</td>\n",
       "      <td>-0.073073</td>\n",
       "      <td>-0.042301</td>\n",
       "      <td>0.011086</td>\n",
       "      <td>0.00936</td>\n",
       "      <td>0.010313</td>\n",
       "      <td>0.135446</td>\n",
       "    </tr>\n",
       "  </tbody>\n",
       "</table>\n",
       "</div>"
      ],
      "text/plain": [
       "   Intercept      Lag1      Lag2      Lag3     Lag4      Lag5    Volume\n",
       "0  -0.126008 -0.073073 -0.042301  0.011086  0.00936  0.010313  0.135446"
      ]
     },
     "execution_count": 7,
     "metadata": {},
     "output_type": "execute_result"
    }
   ],
   "source": [
    "features = ['Lag1', 'Lag2', 'Lag3', 'Lag4', 'Lag5', 'Volume']\n",
    "response = 'Direction'\n",
    "X = df[features]\n",
    "y = df[response]\n",
    "\n",
    "logreg = LogisticRegression(penalty='none') \n",
    "logreg.fit(X, y)\n",
    "coefs = pd.DataFrame(logreg.coef_, columns = features)\n",
    "coefs.insert(loc=0, column=\"Intercept\", value=logreg.intercept_)\n",
    "coefs"
   ]
  },
  {
   "cell_type": "code",
   "execution_count": 8,
   "id": "c2274f71-d23c-47c0-8cdb-e4c76b7e6e78",
   "metadata": {},
   "outputs": [
    {
     "data": {
      "text/plain": [
       "array([0.50708369, 0.48146717, 0.48113874, 0.51522232, 0.51078106,\n",
       "       0.50695658, 0.49265099, 0.5092293 , 0.51761327, 0.48883779])"
      ]
     },
     "metadata": {},
     "output_type": "display_data"
    },
    {
     "data": {
      "text/plain": [
       "array(['Up', 'Down', 'Down', 'Up', 'Up', 'Up', 'Down', 'Up', 'Up', 'Down'],\n",
       "      dtype=object)"
      ]
     },
     "metadata": {},
     "output_type": "display_data"
    }
   ],
   "source": [
    "display(logreg.predict_proba(X)[0:10, 1])\n",
    "y_pred = logreg.predict(X)\n",
    "display(y_pred[0:10])"
   ]
  },
  {
   "cell_type": "code",
   "execution_count": 9,
   "id": "d6e6d90d-c817-47ff-b923-00496454f6d6",
   "metadata": {},
   "outputs": [
    {
     "data": {
      "text/html": [
       "<div>\n",
       "<style scoped>\n",
       "    .dataframe tbody tr th:only-of-type {\n",
       "        vertical-align: middle;\n",
       "    }\n",
       "\n",
       "    .dataframe tbody tr th {\n",
       "        vertical-align: top;\n",
       "    }\n",
       "\n",
       "    .dataframe thead th {\n",
       "        text-align: right;\n",
       "    }\n",
       "</style>\n",
       "<table border=\"1\" class=\"dataframe\">\n",
       "  <thead>\n",
       "    <tr style=\"text-align: right;\">\n",
       "      <th>Predicted</th>\n",
       "      <th>Down</th>\n",
       "      <th>Up</th>\n",
       "      <th>All</th>\n",
       "    </tr>\n",
       "    <tr>\n",
       "      <th>Actual</th>\n",
       "      <th></th>\n",
       "      <th></th>\n",
       "      <th></th>\n",
       "    </tr>\n",
       "  </thead>\n",
       "  <tbody>\n",
       "    <tr>\n",
       "      <th>Down</th>\n",
       "      <td>145</td>\n",
       "      <td>457</td>\n",
       "      <td>602</td>\n",
       "    </tr>\n",
       "    <tr>\n",
       "      <th>Up</th>\n",
       "      <td>141</td>\n",
       "      <td>507</td>\n",
       "      <td>648</td>\n",
       "    </tr>\n",
       "    <tr>\n",
       "      <th>All</th>\n",
       "      <td>286</td>\n",
       "      <td>964</td>\n",
       "      <td>1250</td>\n",
       "    </tr>\n",
       "  </tbody>\n",
       "</table>\n",
       "</div>"
      ],
      "text/plain": [
       "Predicted  Down   Up   All\n",
       "Actual                    \n",
       "Down        145  457   602\n",
       "Up          141  507   648\n",
       "All         286  964  1250"
      ]
     },
     "metadata": {},
     "output_type": "display_data"
    },
    {
     "name": "stdout",
     "output_type": "stream",
     "text": [
      "0.5216\n"
     ]
    }
   ],
   "source": [
    "df_confusion = pd.crosstab(y, y_pred)\n",
    "df_confusion = pd.crosstab(y, y_pred, rownames=['Actual'], colnames=['Predicted'], margins=True)\n",
    "display(df_confusion)\n",
    "print((df_confusion.at['Up', 'Up'] + df_confusion.at['Down', 'Down']) / df_confusion.at['All', 'All'])"
   ]
  },
  {
   "cell_type": "code",
   "execution_count": 10,
   "id": "87c9dfe2-958c-4068-93e8-7cdb1002047a",
   "metadata": {},
   "outputs": [
    {
     "name": "stdout",
     "output_type": "stream",
     "text": [
      "Training dataset shape:  (998, 9)\n",
      "Test dataset shape:  (252, 9)\n"
     ]
    }
   ],
   "source": [
    "df_train = df.loc[df.Year < 2005]\n",
    "df_test = df.loc[df.Year == 2005]\n",
    "print(\"Training dataset shape: \", df_train.shape)\n",
    "print(\"Test dataset shape: \", df_test.shape)"
   ]
  },
  {
   "cell_type": "code",
   "execution_count": 11,
   "id": "40e9226a-3ee6-41bd-85c6-be861a763794",
   "metadata": {},
   "outputs": [
    {
     "data": {
      "text/html": [
       "<div>\n",
       "<style scoped>\n",
       "    .dataframe tbody tr th:only-of-type {\n",
       "        vertical-align: middle;\n",
       "    }\n",
       "\n",
       "    .dataframe tbody tr th {\n",
       "        vertical-align: top;\n",
       "    }\n",
       "\n",
       "    .dataframe thead th {\n",
       "        text-align: right;\n",
       "    }\n",
       "</style>\n",
       "<table border=\"1\" class=\"dataframe\">\n",
       "  <thead>\n",
       "    <tr style=\"text-align: right;\">\n",
       "      <th>Predicted</th>\n",
       "      <th>Down</th>\n",
       "      <th>Up</th>\n",
       "      <th>All</th>\n",
       "    </tr>\n",
       "    <tr>\n",
       "      <th>Actual</th>\n",
       "      <th></th>\n",
       "      <th></th>\n",
       "      <th></th>\n",
       "    </tr>\n",
       "  </thead>\n",
       "  <tbody>\n",
       "    <tr>\n",
       "      <th>Down</th>\n",
       "      <td>77</td>\n",
       "      <td>34</td>\n",
       "      <td>111</td>\n",
       "    </tr>\n",
       "    <tr>\n",
       "      <th>Up</th>\n",
       "      <td>97</td>\n",
       "      <td>44</td>\n",
       "      <td>141</td>\n",
       "    </tr>\n",
       "    <tr>\n",
       "      <th>All</th>\n",
       "      <td>174</td>\n",
       "      <td>78</td>\n",
       "      <td>252</td>\n",
       "    </tr>\n",
       "  </tbody>\n",
       "</table>\n",
       "</div>"
      ],
      "text/plain": [
       "Predicted  Down  Up  All\n",
       "Actual                  \n",
       "Down         77  34  111\n",
       "Up           97  44  141\n",
       "All         174  78  252"
      ]
     },
     "metadata": {},
     "output_type": "display_data"
    },
    {
     "name": "stdout",
     "output_type": "stream",
     "text": [
      "0.4801587301587302\n"
     ]
    }
   ],
   "source": [
    "# Create training data and fit the model to it\n",
    "X = df_train[features]\n",
    "y = df_train[response]\n",
    "\n",
    "logreg = LogisticRegression(penalty='none') \n",
    "logreg.fit(X, y)\n",
    "\n",
    "# Predict on test data\n",
    "X_test = df_test[features]\n",
    "y_test = df_test[response]\n",
    "y_pred = logreg.predict(X_test)\n",
    "\n",
    "# Evaluate accuracy\n",
    "df_confusion = pd.crosstab(y_test, y_pred)\n",
    "df_confusion = pd.crosstab(y_test, y_pred, rownames=['Actual'], colnames=['Predicted'], margins=True)\n",
    "display(df_confusion)\n",
    "print((df_confusion.at['Up', 'Up'] + df_confusion.at['Down', 'Down']) / df_confusion.at['All', 'All'])"
   ]
  },
  {
   "cell_type": "code",
   "execution_count": 12,
   "id": "cf426013-0a74-4719-b0f8-279000e77704",
   "metadata": {},
   "outputs": [
    {
     "data": {
      "text/html": [
       "<div>\n",
       "<style scoped>\n",
       "    .dataframe tbody tr th:only-of-type {\n",
       "        vertical-align: middle;\n",
       "    }\n",
       "\n",
       "    .dataframe tbody tr th {\n",
       "        vertical-align: top;\n",
       "    }\n",
       "\n",
       "    .dataframe thead th {\n",
       "        text-align: right;\n",
       "    }\n",
       "</style>\n",
       "<table border=\"1\" class=\"dataframe\">\n",
       "  <thead>\n",
       "    <tr style=\"text-align: right;\">\n",
       "      <th>Predicted</th>\n",
       "      <th>Down</th>\n",
       "      <th>Up</th>\n",
       "      <th>All</th>\n",
       "    </tr>\n",
       "    <tr>\n",
       "      <th>Actual</th>\n",
       "      <th></th>\n",
       "      <th></th>\n",
       "      <th></th>\n",
       "    </tr>\n",
       "  </thead>\n",
       "  <tbody>\n",
       "    <tr>\n",
       "      <th>Down</th>\n",
       "      <td>35</td>\n",
       "      <td>76</td>\n",
       "      <td>111</td>\n",
       "    </tr>\n",
       "    <tr>\n",
       "      <th>Up</th>\n",
       "      <td>35</td>\n",
       "      <td>106</td>\n",
       "      <td>141</td>\n",
       "    </tr>\n",
       "    <tr>\n",
       "      <th>All</th>\n",
       "      <td>70</td>\n",
       "      <td>182</td>\n",
       "      <td>252</td>\n",
       "    </tr>\n",
       "  </tbody>\n",
       "</table>\n",
       "</div>"
      ],
      "text/plain": [
       "Predicted  Down   Up  All\n",
       "Actual                   \n",
       "Down         35   76  111\n",
       "Up           35  106  141\n",
       "All          70  182  252"
      ]
     },
     "metadata": {},
     "output_type": "display_data"
    },
    {
     "name": "stdout",
     "output_type": "stream",
     "text": [
      "0.5595238095238095\n",
      "0.5824175824175825\n"
     ]
    }
   ],
   "source": [
    "features = ['Lag1', 'Lag2']\n",
    "# Create training data and fit the model to it\n",
    "X = df_train[features]\n",
    "y = df_train[response]\n",
    "\n",
    "logreg = LogisticRegression(penalty='none') \n",
    "logreg.fit(X, y)\n",
    "\n",
    "# Predict on test data\n",
    "X_test = df_test[features]\n",
    "y_test = df_test[response]\n",
    "y_pred = logreg.predict(X_test)\n",
    "\n",
    "# Evaluate accuracy\n",
    "df_confusion = pd.crosstab(y_test, y_pred)\n",
    "df_confusion = pd.crosstab(y_test, y_pred, rownames=['Actual'], colnames=['Predicted'], margins=True)\n",
    "display(df_confusion)\n",
    "print((df_confusion.at['Up', 'Up'] + df_confusion.at['Down', 'Down']) / df_confusion.at['All', 'All'])\n",
    "print(df_confusion.at['Up', 'Up']  / df_confusion.at['All', 'Up'])"
   ]
  },
  {
   "cell_type": "markdown",
   "id": "57934481-b2c5-4cd6-bce2-b1bb3c6aaeda",
   "metadata": {},
   "source": [
    "### 4.7.3 LDA"
   ]
  },
  {
   "cell_type": "code",
   "execution_count": 13,
   "id": "32980e9a-9003-47e1-9387-012bc99035a3",
   "metadata": {},
   "outputs": [
    {
     "name": "stdout",
     "output_type": "stream",
     "text": [
      "Prior probabilities of groups:\n"
     ]
    },
    {
     "data": {
      "text/html": [
       "<div>\n",
       "<style scoped>\n",
       "    .dataframe tbody tr th:only-of-type {\n",
       "        vertical-align: middle;\n",
       "    }\n",
       "\n",
       "    .dataframe tbody tr th {\n",
       "        vertical-align: top;\n",
       "    }\n",
       "\n",
       "    .dataframe thead th {\n",
       "        text-align: right;\n",
       "    }\n",
       "</style>\n",
       "<table border=\"1\" class=\"dataframe\">\n",
       "  <thead>\n",
       "    <tr style=\"text-align: right;\">\n",
       "      <th></th>\n",
       "      <th>Down</th>\n",
       "      <th>Up</th>\n",
       "    </tr>\n",
       "  </thead>\n",
       "  <tbody>\n",
       "    <tr>\n",
       "      <th>0</th>\n",
       "      <td>0.491984</td>\n",
       "      <td>0.508016</td>\n",
       "    </tr>\n",
       "  </tbody>\n",
       "</table>\n",
       "</div>"
      ],
      "text/plain": [
       "       Down        Up\n",
       "0  0.491984  0.508016"
      ]
     },
     "metadata": {},
     "output_type": "display_data"
    },
    {
     "name": "stdout",
     "output_type": "stream",
     "text": [
      "\n",
      "Group means:\n"
     ]
    },
    {
     "data": {
      "text/html": [
       "<div>\n",
       "<style scoped>\n",
       "    .dataframe tbody tr th:only-of-type {\n",
       "        vertical-align: middle;\n",
       "    }\n",
       "\n",
       "    .dataframe tbody tr th {\n",
       "        vertical-align: top;\n",
       "    }\n",
       "\n",
       "    .dataframe thead th {\n",
       "        text-align: right;\n",
       "    }\n",
       "</style>\n",
       "<table border=\"1\" class=\"dataframe\">\n",
       "  <thead>\n",
       "    <tr style=\"text-align: right;\">\n",
       "      <th></th>\n",
       "      <th>Lag1</th>\n",
       "      <th>Lag2</th>\n",
       "    </tr>\n",
       "  </thead>\n",
       "  <tbody>\n",
       "    <tr>\n",
       "      <th>Down</th>\n",
       "      <td>0.042790</td>\n",
       "      <td>0.033894</td>\n",
       "    </tr>\n",
       "    <tr>\n",
       "      <th>Up</th>\n",
       "      <td>-0.039546</td>\n",
       "      <td>-0.031325</td>\n",
       "    </tr>\n",
       "  </tbody>\n",
       "</table>\n",
       "</div>"
      ],
      "text/plain": [
       "          Lag1      Lag2\n",
       "Down  0.042790  0.033894\n",
       "Up   -0.039546 -0.031325"
      ]
     },
     "metadata": {},
     "output_type": "display_data"
    },
    {
     "name": "stdout",
     "output_type": "stream",
     "text": [
      "\n",
      "Coefficients of linear discriminants:\n"
     ]
    },
    {
     "data": {
      "text/html": [
       "<div>\n",
       "<style scoped>\n",
       "    .dataframe tbody tr th:only-of-type {\n",
       "        vertical-align: middle;\n",
       "    }\n",
       "\n",
       "    .dataframe tbody tr th {\n",
       "        vertical-align: top;\n",
       "    }\n",
       "\n",
       "    .dataframe thead th {\n",
       "        text-align: right;\n",
       "    }\n",
       "</style>\n",
       "<table border=\"1\" class=\"dataframe\">\n",
       "  <thead>\n",
       "    <tr style=\"text-align: right;\">\n",
       "      <th></th>\n",
       "      <th>LD1</th>\n",
       "    </tr>\n",
       "  </thead>\n",
       "  <tbody>\n",
       "    <tr>\n",
       "      <th>Lag1</th>\n",
       "      <td>-0.642019</td>\n",
       "    </tr>\n",
       "    <tr>\n",
       "      <th>Lag2</th>\n",
       "      <td>-0.513529</td>\n",
       "    </tr>\n",
       "  </tbody>\n",
       "</table>\n",
       "</div>"
      ],
      "text/plain": [
       "           LD1\n",
       "Lag1 -0.642019\n",
       "Lag2 -0.513529"
      ]
     },
     "metadata": {},
     "output_type": "display_data"
    }
   ],
   "source": [
    "features = ['Lag1', 'Lag2']\n",
    "response = 'Direction'\n",
    "\n",
    "# Fit on training data\n",
    "X = df_train[features]\n",
    "y = df_train[response]\n",
    "lda = LDA()\n",
    "lda.fit(X, y)\n",
    "\n",
    "# Priors, group means, and coefficients of linear discriminants\n",
    "priors = pd.DataFrame(lda.priors_, index=lda.classes_).T\n",
    "print(\"Prior probabilities of groups:\")\n",
    "display(priors)\n",
    "gmeans = pd.DataFrame(lda.means_, index=lda.classes_, columns=features)\n",
    "print(\"\\nGroup means:\")\n",
    "display(gmeans)\n",
    "coef = pd.DataFrame(lda.scalings_, columns=['LD1'], index=features)\n",
    "print(\"\\nCoefficients of linear discriminants:\")\n",
    "display(coef)"
   ]
  },
  {
   "cell_type": "code",
   "execution_count": 14,
   "id": "9d2ee24d-6f17-4a6c-9155-7624fbcd4c08",
   "metadata": {},
   "outputs": [
    {
     "data": {
      "text/plain": [
       "<matplotlib.contour.QuadContourSet at 0x20cc79ea970>"
      ]
     },
     "execution_count": 14,
     "metadata": {},
     "output_type": "execute_result"
    },
    {
     "data": {
      "image/png": "[encoded data removed]",
      "text/plain": [
       "<Figure size 792x612 with 1 Axes>"
      ]
     },
     "metadata": {},
     "output_type": "display_data"
    }
   ],
   "source": [
    "fig, ax = plt.subplots(figsize=(11, 8.5))\n",
    "sns.scatterplot(data=df, x='Lag1', y='Lag2', ax=ax, hue='Direction')\n",
    "\n",
    "# create a mesh of (x,y) values. Plot the values where P(Y=1|X)=0.5, which yields the decision boundary\n",
    "nx, ny = 200, 100\n",
    "x_min, x_max = plt.xlim()\n",
    "y_min, y_max = plt.ylim()\n",
    "xx, yy = np.meshgrid(np.linspace(x_min, x_max, nx),\n",
    "                         np.linspace(y_min, y_max, ny))\n",
    "Z = lda.predict_proba(np.c_[xx.ravel(), yy.ravel()])\n",
    "Z = Z[:, 1].reshape(xx.shape)\n",
    "plt.contour(xx, yy, Z, [0.5], linewidths=2., colors='white')"
   ]
  },
  {
   "cell_type": "code",
   "execution_count": 15,
   "id": "03b570ef-7454-4a5b-a974-95d3b4bcc5b7",
   "metadata": {},
   "outputs": [
    {
     "data": {
      "text/html": [
       "<div>\n",
       "<style scoped>\n",
       "    .dataframe tbody tr th:only-of-type {\n",
       "        vertical-align: middle;\n",
       "    }\n",
       "\n",
       "    .dataframe tbody tr th {\n",
       "        vertical-align: top;\n",
       "    }\n",
       "\n",
       "    .dataframe thead th {\n",
       "        text-align: right;\n",
       "    }\n",
       "</style>\n",
       "<table border=\"1\" class=\"dataframe\">\n",
       "  <thead>\n",
       "    <tr style=\"text-align: right;\">\n",
       "      <th>Predicted</th>\n",
       "      <th>Down</th>\n",
       "      <th>Up</th>\n",
       "      <th>All</th>\n",
       "    </tr>\n",
       "    <tr>\n",
       "      <th>Actual</th>\n",
       "      <th></th>\n",
       "      <th></th>\n",
       "      <th></th>\n",
       "    </tr>\n",
       "  </thead>\n",
       "  <tbody>\n",
       "    <tr>\n",
       "      <th>Down</th>\n",
       "      <td>35</td>\n",
       "      <td>76</td>\n",
       "      <td>111</td>\n",
       "    </tr>\n",
       "    <tr>\n",
       "      <th>Up</th>\n",
       "      <td>35</td>\n",
       "      <td>106</td>\n",
       "      <td>141</td>\n",
       "    </tr>\n",
       "    <tr>\n",
       "      <th>All</th>\n",
       "      <td>70</td>\n",
       "      <td>182</td>\n",
       "      <td>252</td>\n",
       "    </tr>\n",
       "  </tbody>\n",
       "</table>\n",
       "</div>"
      ],
      "text/plain": [
       "Predicted  Down   Up  All\n",
       "Actual                   \n",
       "Down         35   76  111\n",
       "Up           35  106  141\n",
       "All          70  182  252"
      ]
     },
     "metadata": {},
     "output_type": "display_data"
    },
    {
     "name": "stdout",
     "output_type": "stream",
     "text": [
      "0.5595238095238095\n"
     ]
    }
   ],
   "source": [
    "X_test = df_test[features]\n",
    "y_test = df_test[response]\n",
    "y_pred = lda.predict(X_test)\n",
    "\n",
    "# Generate posterior probability matrix\n",
    "posterior = pd.DataFrame(lda.predict_proba(X_test), columns=lda.classes_)\n",
    "# Generate linear discriminants on the test subset\n",
    "discrim_test = lda.transform(X_test)\n",
    "\n",
    "# Evaluate accuracy\n",
    "df_confusion = pd.crosstab(y_test, y_pred)\n",
    "df_confusion = pd.crosstab(y_test, y_pred, rownames=['Actual'], colnames=['Predicted'], margins=True)\n",
    "display(df_confusion)\n",
    "print((df_confusion.at['Up', 'Up'] + df_confusion.at['Down', 'Down']) / df_confusion.at['All', 'All'])"
   ]
  },
  {
   "cell_type": "code",
   "execution_count": 16,
   "id": "e9b698a5-4d54-4554-8fcb-f5a35ddcc1e4",
   "metadata": {},
   "outputs": [
    {
     "name": "stdout",
     "output_type": "stream",
     "text": [
      "Posterior probabilities:\n",
      "        Down        Up\n",
      "0   0.490179  0.509821\n",
      "1   0.479218  0.520782\n",
      "2   0.466818  0.533182\n",
      "3   0.474001  0.525999\n",
      "4   0.492788  0.507212\n",
      "5   0.493856  0.506144\n",
      "6   0.495102  0.504898\n",
      "7   0.487286  0.512714\n",
      "8   0.490701  0.509299\n",
      "9   0.484403  0.515597\n",
      "10  0.490696  0.509304\n",
      "11  0.511999  0.488001\n",
      "12  0.489515  0.510485\n",
      "13  0.470676  0.529324\n",
      "14  0.474459  0.525541\n",
      "15  0.479958  0.520042\n",
      "16  0.493578  0.506422\n",
      "17  0.503089  0.496911\n",
      "18  0.497881  0.502119\n",
      "19  0.488633  0.511367\n",
      "\n",
      "First 20 prediction results: \n",
      " ['Up' 'Up' 'Up' 'Up' 'Up' 'Up' 'Up' 'Up' 'Up' 'Up' 'Up' 'Down' 'Up' 'Up'\n",
      " 'Up' 'Up' 'Up' 'Down' 'Up' 'Up']\n",
      "\n",
      "Number of Down class with threshold = 0.9:  0\n"
     ]
    }
   ],
   "source": [
    "# First 20 posterior probabilities\n",
    "print('Posterior probabilities:')\n",
    "print(posterior.iloc[:20])\n",
    "# First 20 prediction results\n",
    "print('\\nFirst 20 prediction results: \\n', y_pred[:20])\n",
    "# Number of Down class with threshold changed to 0.9\n",
    "print('\\nNumber of Down class with threshold = 0.9: ', sum(posterior['Down'] > 0.9))"
   ]
  },
  {
   "cell_type": "markdown",
   "id": "c91d2885-7466-4f66-9a8d-744cf53e8c05",
   "metadata": {},
   "source": [
    "### 4.7.4 QDA"
   ]
  },
  {
   "cell_type": "code",
   "execution_count": 17,
   "id": "b533bf92-78ff-4d73-a3f9-b9aa57f3c12a",
   "metadata": {},
   "outputs": [
    {
     "name": "stdout",
     "output_type": "stream",
     "text": [
      "Prior probabilities of groups:\n"
     ]
    },
    {
     "data": {
      "text/html": [
       "<div>\n",
       "<style scoped>\n",
       "    .dataframe tbody tr th:only-of-type {\n",
       "        vertical-align: middle;\n",
       "    }\n",
       "\n",
       "    .dataframe tbody tr th {\n",
       "        vertical-align: top;\n",
       "    }\n",
       "\n",
       "    .dataframe thead th {\n",
       "        text-align: right;\n",
       "    }\n",
       "</style>\n",
       "<table border=\"1\" class=\"dataframe\">\n",
       "  <thead>\n",
       "    <tr style=\"text-align: right;\">\n",
       "      <th></th>\n",
       "      <th>Down</th>\n",
       "      <th>Up</th>\n",
       "    </tr>\n",
       "  </thead>\n",
       "  <tbody>\n",
       "    <tr>\n",
       "      <th></th>\n",
       "      <td>0.491984</td>\n",
       "      <td>0.508016</td>\n",
       "    </tr>\n",
       "  </tbody>\n",
       "</table>\n",
       "</div>"
      ],
      "text/plain": [
       "      Down        Up\n",
       "  0.491984  0.508016"
      ]
     },
     "metadata": {},
     "output_type": "display_data"
    },
    {
     "name": "stdout",
     "output_type": "stream",
     "text": [
      "\n",
      "Group means:\n"
     ]
    },
    {
     "data": {
      "text/html": [
       "<div>\n",
       "<style scoped>\n",
       "    .dataframe tbody tr th:only-of-type {\n",
       "        vertical-align: middle;\n",
       "    }\n",
       "\n",
       "    .dataframe tbody tr th {\n",
       "        vertical-align: top;\n",
       "    }\n",
       "\n",
       "    .dataframe thead th {\n",
       "        text-align: right;\n",
       "    }\n",
       "</style>\n",
       "<table border=\"1\" class=\"dataframe\">\n",
       "  <thead>\n",
       "    <tr style=\"text-align: right;\">\n",
       "      <th></th>\n",
       "      <th>Lag1</th>\n",
       "      <th>Lag2</th>\n",
       "    </tr>\n",
       "  </thead>\n",
       "  <tbody>\n",
       "    <tr>\n",
       "      <th>Down</th>\n",
       "      <td>0.042790</td>\n",
       "      <td>0.033894</td>\n",
       "    </tr>\n",
       "    <tr>\n",
       "      <th>Up</th>\n",
       "      <td>-0.039546</td>\n",
       "      <td>-0.031325</td>\n",
       "    </tr>\n",
       "  </tbody>\n",
       "</table>\n",
       "</div>"
      ],
      "text/plain": [
       "          Lag1      Lag2\n",
       "Down  0.042790  0.033894\n",
       "Up   -0.039546 -0.031325"
      ]
     },
     "metadata": {},
     "output_type": "display_data"
    }
   ],
   "source": [
    "features = ['Lag1', 'Lag2']\n",
    "response = 'Direction'\n",
    "\n",
    "# Fit on training data\n",
    "X = df_train[features]\n",
    "y = df_train[response]\n",
    "qda = QDA()\n",
    "qda.fit(X, y)\n",
    "\n",
    "\n",
    "# Priors, group means, and coefficients of quadratic discriminants\n",
    "priors = pd.DataFrame(qda.priors_, index=qda.classes_, columns=['']).T\n",
    "print(\"Prior probabilities of groups:\")\n",
    "display(priors)\n",
    "gmeans = pd.DataFrame(qda.means_, index=qda.classes_, columns=features)\n",
    "print(\"\\nGroup means:\")\n",
    "display(gmeans)"
   ]
  },
  {
   "cell_type": "code",
   "execution_count": 18,
   "id": "3934951b-14d0-4c6a-b82f-e8b29daa9f93",
   "metadata": {},
   "outputs": [
    {
     "data": {
      "text/html": [
       "<div>\n",
       "<style scoped>\n",
       "    .dataframe tbody tr th:only-of-type {\n",
       "        vertical-align: middle;\n",
       "    }\n",
       "\n",
       "    .dataframe tbody tr th {\n",
       "        vertical-align: top;\n",
       "    }\n",
       "\n",
       "    .dataframe thead th {\n",
       "        text-align: right;\n",
       "    }\n",
       "</style>\n",
       "<table border=\"1\" class=\"dataframe\">\n",
       "  <thead>\n",
       "    <tr style=\"text-align: right;\">\n",
       "      <th>Predicted</th>\n",
       "      <th>Down</th>\n",
       "      <th>Up</th>\n",
       "      <th>All</th>\n",
       "    </tr>\n",
       "    <tr>\n",
       "      <th>Actual</th>\n",
       "      <th></th>\n",
       "      <th></th>\n",
       "      <th></th>\n",
       "    </tr>\n",
       "  </thead>\n",
       "  <tbody>\n",
       "    <tr>\n",
       "      <th>Down</th>\n",
       "      <td>30</td>\n",
       "      <td>81</td>\n",
       "      <td>111</td>\n",
       "    </tr>\n",
       "    <tr>\n",
       "      <th>Up</th>\n",
       "      <td>20</td>\n",
       "      <td>121</td>\n",
       "      <td>141</td>\n",
       "    </tr>\n",
       "    <tr>\n",
       "      <th>All</th>\n",
       "      <td>50</td>\n",
       "      <td>202</td>\n",
       "      <td>252</td>\n",
       "    </tr>\n",
       "  </tbody>\n",
       "</table>\n",
       "</div>"
      ],
      "text/plain": [
       "Predicted  Down   Up  All\n",
       "Actual                   \n",
       "Down         30   81  111\n",
       "Up           20  121  141\n",
       "All          50  202  252"
      ]
     },
     "metadata": {},
     "output_type": "display_data"
    },
    {
     "name": "stdout",
     "output_type": "stream",
     "text": [
      "0.5992063492063492\n"
     ]
    }
   ],
   "source": [
    "y_pred = qda.predict(X_test)\n",
    "\n",
    "# Evaluate accuracy\n",
    "df_confusion = pd.crosstab(y_test, y_pred)\n",
    "df_confusion = pd.crosstab(y_test, y_pred, rownames=['Actual'], colnames=['Predicted'], margins=True)\n",
    "display(df_confusion)\n",
    "print((df_confusion.at['Up', 'Up'] + df_confusion.at['Down', 'Down']) / df_confusion.at['All', 'All'])"
   ]
  },
  {
   "cell_type": "markdown",
   "id": "55b6d545-0b7d-4a5e-9aad-71f46d46ea5c",
   "metadata": {},
   "source": [
    "4.7.5 Naive Bayes"
   ]
  },
  {
   "cell_type": "code",
   "execution_count": 20,
   "id": "b5bd6f69-1508-4c46-ab96-624277fcafa2",
   "metadata": {},
   "outputs": [
    {
     "data": {
      "text/html": [
       "<div>\n",
       "<style scoped>\n",
       "    .dataframe tbody tr th:only-of-type {\n",
       "        vertical-align: middle;\n",
       "    }\n",
       "\n",
       "    .dataframe tbody tr th {\n",
       "        vertical-align: top;\n",
       "    }\n",
       "\n",
       "    .dataframe thead th {\n",
       "        text-align: right;\n",
       "    }\n",
       "</style>\n",
       "<table border=\"1\" class=\"dataframe\">\n",
       "  <thead>\n",
       "    <tr style=\"text-align: right;\">\n",
       "      <th>Predicted</th>\n",
       "      <th>Down</th>\n",
       "      <th>Up</th>\n",
       "      <th>All</th>\n",
       "    </tr>\n",
       "    <tr>\n",
       "      <th>Actual</th>\n",
       "      <th></th>\n",
       "      <th></th>\n",
       "      <th></th>\n",
       "    </tr>\n",
       "  </thead>\n",
       "  <tbody>\n",
       "    <tr>\n",
       "      <th>Down</th>\n",
       "      <td>30</td>\n",
       "      <td>81</td>\n",
       "      <td>111</td>\n",
       "    </tr>\n",
       "    <tr>\n",
       "      <th>Up</th>\n",
       "      <td>20</td>\n",
       "      <td>121</td>\n",
       "      <td>141</td>\n",
       "    </tr>\n",
       "    <tr>\n",
       "      <th>All</th>\n",
       "      <td>50</td>\n",
       "      <td>202</td>\n",
       "      <td>252</td>\n",
       "    </tr>\n",
       "  </tbody>\n",
       "</table>\n",
       "</div>"
      ],
      "text/plain": [
       "Predicted  Down   Up  All\n",
       "Actual                   \n",
       "Down         30   81  111\n",
       "Up           20  121  141\n",
       "All          50  202  252"
      ]
     },
     "metadata": {},
     "output_type": "display_data"
    },
    {
     "name": "stdout",
     "output_type": "stream",
     "text": [
      "0.4801587301587302\n"
     ]
    }
   ],
   "source": [
    "gnb = GaussianNB()\n",
    "gnb.fit(X, y)\n",
    "\n",
    "y_pred=gnb.predict(X_test)\n",
    "\n",
    "df_confusion_gnb = pd.crosstab(y_test, y_pred)\n",
    "df_confusion_gnb = pd.crosstab(y_test, y_pred, rownames=['Actual'], colnames=['Predicted'], margins=True)\n",
    "display(df_confusion)\n",
    "print((df_confusion.at['Up', 'Up']) / df_confusion.at['All', 'All'])\n"
   ]
  },
  {
   "cell_type": "code",
   "execution_count": null,
   "id": "1acc8553-cc3c-4843-95e5-8ff20c3761a0",
   "metadata": {},
   "outputs": [],
   "source": []
  },
  {
   "cell_type": "markdown",
   "id": "3169a2be-a2f7-40b9-ab45-5c9c04245e03",
   "metadata": {},
   "source": [
    "### 4.7.6 KNN"
   ]
  },
  {
   "cell_type": "code",
   "execution_count": 21,
   "id": "d8c9985d-3f3e-479e-a959-f920b86758a1",
   "metadata": {},
   "outputs": [
    {
     "data": {
      "text/html": [
       "<div>\n",
       "<style scoped>\n",
       "    .dataframe tbody tr th:only-of-type {\n",
       "        vertical-align: middle;\n",
       "    }\n",
       "\n",
       "    .dataframe tbody tr th {\n",
       "        vertical-align: top;\n",
       "    }\n",
       "\n",
       "    .dataframe thead th {\n",
       "        text-align: right;\n",
       "    }\n",
       "</style>\n",
       "<table border=\"1\" class=\"dataframe\">\n",
       "  <thead>\n",
       "    <tr style=\"text-align: right;\">\n",
       "      <th>Predicted</th>\n",
       "      <th>Down</th>\n",
       "      <th>Up</th>\n",
       "      <th>All</th>\n",
       "    </tr>\n",
       "    <tr>\n",
       "      <th>Actual</th>\n",
       "      <th></th>\n",
       "      <th></th>\n",
       "      <th></th>\n",
       "    </tr>\n",
       "  </thead>\n",
       "  <tbody>\n",
       "    <tr>\n",
       "      <th>Down</th>\n",
       "      <td>43</td>\n",
       "      <td>68</td>\n",
       "      <td>111</td>\n",
       "    </tr>\n",
       "    <tr>\n",
       "      <th>Up</th>\n",
       "      <td>58</td>\n",
       "      <td>83</td>\n",
       "      <td>141</td>\n",
       "    </tr>\n",
       "    <tr>\n",
       "      <th>All</th>\n",
       "      <td>101</td>\n",
       "      <td>151</td>\n",
       "      <td>252</td>\n",
       "    </tr>\n",
       "  </tbody>\n",
       "</table>\n",
       "</div>"
      ],
      "text/plain": [
       "Predicted  Down   Up  All\n",
       "Actual                   \n",
       "Down         43   68  111\n",
       "Up           58   83  141\n",
       "All         101  151  252"
      ]
     },
     "metadata": {},
     "output_type": "display_data"
    },
    {
     "name": "stdout",
     "output_type": "stream",
     "text": [
      "0.5\n"
     ]
    }
   ],
   "source": [
    "knn = KNeighborsClassifier(n_neighbors=1)\n",
    "knn.fit(X, y)\n",
    "y_pred = knn.predict(X_test)\n",
    "\n",
    "# Evaluate accuracy\n",
    "df_confusion = pd.crosstab(y_test, y_pred)\n",
    "df_confusion = pd.crosstab(y_test, y_pred, rownames=['Actual'], colnames=['Predicted'], margins=True)\n",
    "display(df_confusion)\n",
    "print((df_confusion.at['Up', 'Up'] + df_confusion.at['Down', 'Down']) / df_confusion.at['All', 'All'])"
   ]
  },
  {
   "cell_type": "code",
   "execution_count": 22,
   "id": "625f9d60-4fc2-4686-a5bf-846bf40b756e",
   "metadata": {},
   "outputs": [
    {
     "data": {
      "text/html": [
       "<div>\n",
       "<style scoped>\n",
       "    .dataframe tbody tr th:only-of-type {\n",
       "        vertical-align: middle;\n",
       "    }\n",
       "\n",
       "    .dataframe tbody tr th {\n",
       "        vertical-align: top;\n",
       "    }\n",
       "\n",
       "    .dataframe thead th {\n",
       "        text-align: right;\n",
       "    }\n",
       "</style>\n",
       "<table border=\"1\" class=\"dataframe\">\n",
       "  <thead>\n",
       "    <tr style=\"text-align: right;\">\n",
       "      <th>Predicted</th>\n",
       "      <th>Down</th>\n",
       "      <th>Up</th>\n",
       "      <th>All</th>\n",
       "    </tr>\n",
       "    <tr>\n",
       "      <th>Actual</th>\n",
       "      <th></th>\n",
       "      <th></th>\n",
       "      <th></th>\n",
       "    </tr>\n",
       "  </thead>\n",
       "  <tbody>\n",
       "    <tr>\n",
       "      <th>Down</th>\n",
       "      <td>48</td>\n",
       "      <td>63</td>\n",
       "      <td>111</td>\n",
       "    </tr>\n",
       "    <tr>\n",
       "      <th>Up</th>\n",
       "      <td>55</td>\n",
       "      <td>86</td>\n",
       "      <td>141</td>\n",
       "    </tr>\n",
       "    <tr>\n",
       "      <th>All</th>\n",
       "      <td>103</td>\n",
       "      <td>149</td>\n",
       "      <td>252</td>\n",
       "    </tr>\n",
       "  </tbody>\n",
       "</table>\n",
       "</div>"
      ],
      "text/plain": [
       "Predicted  Down   Up  All\n",
       "Actual                   \n",
       "Down         48   63  111\n",
       "Up           55   86  141\n",
       "All         103  149  252"
      ]
     },
     "metadata": {},
     "output_type": "display_data"
    },
    {
     "name": "stdout",
     "output_type": "stream",
     "text": [
      "0.5317460317460317\n"
     ]
    }
   ],
   "source": [
    "knn = KNeighborsClassifier(n_neighbors=3)\n",
    "knn.fit(X, y)\n",
    "y_pred = knn.predict(X_test)\n",
    "\n",
    "# Evaluate accuracy\n",
    "df_confusion = pd.crosstab(y_test, y_pred)\n",
    "df_confusion = pd.crosstab(y_test, y_pred, rownames=['Actual'], colnames=['Predicted'], margins=True)\n",
    "display(df_confusion)\n",
    "print((df_confusion.at['Up', 'Up'] + df_confusion.at['Down', 'Down']) / df_confusion.at['All', 'All'])"
   ]
  },
  {
   "cell_type": "markdown",
   "id": "82172920-f3d6-47c5-b303-3701e177e7fd",
   "metadata": {},
   "source": [
    "### 4.7.6 Insurance Data"
   ]
  },
  {
   "cell_type": "code",
   "execution_count": 23,
   "id": "ba76d60e-fcc9-4478-b102-b4aec08c64ef",
   "metadata": {},
   "outputs": [
    {
     "data": {
      "text/html": [
       "<div>\n",
       "<style scoped>\n",
       "    .dataframe tbody tr th:only-of-type {\n",
       "        vertical-align: middle;\n",
       "    }\n",
       "\n",
       "    .dataframe tbody tr th {\n",
       "        vertical-align: top;\n",
       "    }\n",
       "\n",
       "    .dataframe thead th {\n",
       "        text-align: right;\n",
       "    }\n",
       "</style>\n",
       "<table border=\"1\" class=\"dataframe\">\n",
       "  <thead>\n",
       "    <tr style=\"text-align: right;\">\n",
       "      <th></th>\n",
       "      <th>MOSTYPE</th>\n",
       "      <th>MAANTHUI</th>\n",
       "      <th>MGEMOMV</th>\n",
       "      <th>MGEMLEEF</th>\n",
       "      <th>MOSHOOFD</th>\n",
       "      <th>MGODRK</th>\n",
       "      <th>MGODPR</th>\n",
       "      <th>MGODOV</th>\n",
       "      <th>MGODGE</th>\n",
       "      <th>MRELGE</th>\n",
       "      <th>...</th>\n",
       "      <th>APERSONG</th>\n",
       "      <th>AGEZONG</th>\n",
       "      <th>AWAOREG</th>\n",
       "      <th>ABRAND</th>\n",
       "      <th>AZEILPL</th>\n",
       "      <th>APLEZIER</th>\n",
       "      <th>AFIETS</th>\n",
       "      <th>AINBOED</th>\n",
       "      <th>ABYSTAND</th>\n",
       "      <th>Purchase</th>\n",
       "    </tr>\n",
       "  </thead>\n",
       "  <tbody>\n",
       "    <tr>\n",
       "      <th>1</th>\n",
       "      <td>33</td>\n",
       "      <td>1</td>\n",
       "      <td>3</td>\n",
       "      <td>2</td>\n",
       "      <td>8</td>\n",
       "      <td>0</td>\n",
       "      <td>5</td>\n",
       "      <td>1</td>\n",
       "      <td>3</td>\n",
       "      <td>7</td>\n",
       "      <td>...</td>\n",
       "      <td>0</td>\n",
       "      <td>0</td>\n",
       "      <td>0</td>\n",
       "      <td>1</td>\n",
       "      <td>0</td>\n",
       "      <td>0</td>\n",
       "      <td>0</td>\n",
       "      <td>0</td>\n",
       "      <td>0</td>\n",
       "      <td>No</td>\n",
       "    </tr>\n",
       "    <tr>\n",
       "      <th>2</th>\n",
       "      <td>37</td>\n",
       "      <td>1</td>\n",
       "      <td>2</td>\n",
       "      <td>2</td>\n",
       "      <td>8</td>\n",
       "      <td>1</td>\n",
       "      <td>4</td>\n",
       "      <td>1</td>\n",
       "      <td>4</td>\n",
       "      <td>6</td>\n",
       "      <td>...</td>\n",
       "      <td>0</td>\n",
       "      <td>0</td>\n",
       "      <td>0</td>\n",
       "      <td>1</td>\n",
       "      <td>0</td>\n",
       "      <td>0</td>\n",
       "      <td>0</td>\n",
       "      <td>0</td>\n",
       "      <td>0</td>\n",
       "      <td>No</td>\n",
       "    </tr>\n",
       "    <tr>\n",
       "      <th>3</th>\n",
       "      <td>37</td>\n",
       "      <td>1</td>\n",
       "      <td>2</td>\n",
       "      <td>2</td>\n",
       "      <td>8</td>\n",
       "      <td>0</td>\n",
       "      <td>4</td>\n",
       "      <td>2</td>\n",
       "      <td>4</td>\n",
       "      <td>3</td>\n",
       "      <td>...</td>\n",
       "      <td>0</td>\n",
       "      <td>0</td>\n",
       "      <td>0</td>\n",
       "      <td>1</td>\n",
       "      <td>0</td>\n",
       "      <td>0</td>\n",
       "      <td>0</td>\n",
       "      <td>0</td>\n",
       "      <td>0</td>\n",
       "      <td>No</td>\n",
       "    </tr>\n",
       "    <tr>\n",
       "      <th>4</th>\n",
       "      <td>9</td>\n",
       "      <td>1</td>\n",
       "      <td>3</td>\n",
       "      <td>3</td>\n",
       "      <td>3</td>\n",
       "      <td>2</td>\n",
       "      <td>3</td>\n",
       "      <td>2</td>\n",
       "      <td>4</td>\n",
       "      <td>5</td>\n",
       "      <td>...</td>\n",
       "      <td>0</td>\n",
       "      <td>0</td>\n",
       "      <td>0</td>\n",
       "      <td>1</td>\n",
       "      <td>0</td>\n",
       "      <td>0</td>\n",
       "      <td>0</td>\n",
       "      <td>0</td>\n",
       "      <td>0</td>\n",
       "      <td>No</td>\n",
       "    </tr>\n",
       "    <tr>\n",
       "      <th>5</th>\n",
       "      <td>40</td>\n",
       "      <td>1</td>\n",
       "      <td>4</td>\n",
       "      <td>2</td>\n",
       "      <td>10</td>\n",
       "      <td>1</td>\n",
       "      <td>4</td>\n",
       "      <td>1</td>\n",
       "      <td>4</td>\n",
       "      <td>7</td>\n",
       "      <td>...</td>\n",
       "      <td>0</td>\n",
       "      <td>0</td>\n",
       "      <td>0</td>\n",
       "      <td>1</td>\n",
       "      <td>0</td>\n",
       "      <td>0</td>\n",
       "      <td>0</td>\n",
       "      <td>0</td>\n",
       "      <td>0</td>\n",
       "      <td>No</td>\n",
       "    </tr>\n",
       "  </tbody>\n",
       "</table>\n",
       "<p>5 rows × 86 columns</p>\n",
       "</div>"
      ],
      "text/plain": [
       "   MOSTYPE  MAANTHUI  MGEMOMV  MGEMLEEF  MOSHOOFD  MGODRK  MGODPR  MGODOV  \\\n",
       "1       33         1        3         2         8       0       5       1   \n",
       "2       37         1        2         2         8       1       4       1   \n",
       "3       37         1        2         2         8       0       4       2   \n",
       "4        9         1        3         3         3       2       3       2   \n",
       "5       40         1        4         2        10       1       4       1   \n",
       "\n",
       "   MGODGE  MRELGE  ...  APERSONG  AGEZONG  AWAOREG  ABRAND  AZEILPL  APLEZIER  \\\n",
       "1       3       7  ...         0        0        0       1        0         0   \n",
       "2       4       6  ...         0        0        0       1        0         0   \n",
       "3       4       3  ...         0        0        0       1        0         0   \n",
       "4       4       5  ...         0        0        0       1        0         0   \n",
       "5       4       7  ...         0        0        0       1        0         0   \n",
       "\n",
       "   AFIETS  AINBOED  ABYSTAND  Purchase  \n",
       "1       0        0         0        No  \n",
       "2       0        0         0        No  \n",
       "3       0        0         0        No  \n",
       "4       0        0         0        No  \n",
       "5       0        0         0        No  \n",
       "\n",
       "[5 rows x 86 columns]"
      ]
     },
     "execution_count": 23,
     "metadata": {},
     "output_type": "execute_result"
    }
   ],
   "source": [
    "df = pd.read_csv(\"D:\\Columbia\\课程\\第一学期\\machine learning\\hw\\data_export\\Caravan.csv\", index_col=0)\n",
    "df.head()"
   ]
  },
  {
   "cell_type": "code",
   "execution_count": 24,
   "id": "c29b57cb-44f4-47fd-865a-03fe19405509",
   "metadata": {},
   "outputs": [
    {
     "data": {
      "text/plain": [
       "count     5822\n",
       "unique       2\n",
       "top         No\n",
       "freq      5474\n",
       "Name: Purchase, dtype: object"
      ]
     },
     "metadata": {},
     "output_type": "display_data"
    },
    {
     "data": {
      "text/plain": [
       "0.05977327378907592"
      ]
     },
     "execution_count": 24,
     "metadata": {},
     "output_type": "execute_result"
    }
   ],
   "source": [
    "display(df.Purchase.describe())\n",
    "len(df.Purchase.loc[df.Purchase == \"Yes\"]) / len(df.Purchase)"
   ]
  },
  {
   "cell_type": "code",
   "execution_count": 25,
   "id": "4478709e-daaf-4bb6-a8e1-cf50cc6973ea",
   "metadata": {},
   "outputs": [
    {
     "data": {
      "text/plain": [
       "0.118"
      ]
     },
     "metadata": {},
     "output_type": "display_data"
    },
    {
     "data": {
      "text/plain": [
       "0.059"
      ]
     },
     "metadata": {},
     "output_type": "display_data"
    }
   ],
   "source": [
    "np.random.seed(0)\n",
    "X = scale(df.iloc[:,0:85].values, axis=0)\n",
    "\n",
    "Y = np.array([1 if y=='Yes' else 0 for y in df.Purchase.values])\n",
    "# split into train/test\n",
    "num_points = 1000\n",
    "X_test = X[0:1000]\n",
    "y_test = Y[0:1000]\n",
    "X_train = X[1000:]\n",
    "y_train = Y[1000:]\n",
    "\n",
    "\n",
    "knn = KNeighborsClassifier(n_neighbors=1)\n",
    "knn.fit(X_train, y_train)\n",
    "y_pred = knn.predict(X_test)\n",
    "display(np.mean(y_test != y_pred))\n",
    "display(np.mean(y_test != 0))"
   ]
  },
  {
   "cell_type": "code",
   "execution_count": 26,
   "id": "798a64cd-58f7-4cf5-ae61-cd1a7978ba2f",
   "metadata": {},
   "outputs": [
    {
     "data": {
      "text/html": [
       "<div>\n",
       "<style scoped>\n",
       "    .dataframe tbody tr th:only-of-type {\n",
       "        vertical-align: middle;\n",
       "    }\n",
       "\n",
       "    .dataframe tbody tr th {\n",
       "        vertical-align: top;\n",
       "    }\n",
       "\n",
       "    .dataframe thead th {\n",
       "        text-align: right;\n",
       "    }\n",
       "</style>\n",
       "<table border=\"1\" class=\"dataframe\">\n",
       "  <thead>\n",
       "    <tr style=\"text-align: right;\">\n",
       "      <th>Predicted</th>\n",
       "      <th>0</th>\n",
       "      <th>1</th>\n",
       "      <th>All</th>\n",
       "    </tr>\n",
       "    <tr>\n",
       "      <th>Actual</th>\n",
       "      <th></th>\n",
       "      <th></th>\n",
       "      <th></th>\n",
       "    </tr>\n",
       "  </thead>\n",
       "  <tbody>\n",
       "    <tr>\n",
       "      <th>0</th>\n",
       "      <td>873</td>\n",
       "      <td>68</td>\n",
       "      <td>941</td>\n",
       "    </tr>\n",
       "    <tr>\n",
       "      <th>1</th>\n",
       "      <td>50</td>\n",
       "      <td>9</td>\n",
       "      <td>59</td>\n",
       "    </tr>\n",
       "    <tr>\n",
       "      <th>All</th>\n",
       "      <td>923</td>\n",
       "      <td>77</td>\n",
       "      <td>1000</td>\n",
       "    </tr>\n",
       "  </tbody>\n",
       "</table>\n",
       "</div>"
      ],
      "text/plain": [
       "Predicted    0   1   All\n",
       "Actual                  \n",
       "0          873  68   941\n",
       "1           50   9    59\n",
       "All        923  77  1000"
      ]
     },
     "metadata": {},
     "output_type": "display_data"
    },
    {
     "name": "stdout",
     "output_type": "stream",
     "text": [
      "0.11688311688311688\n"
     ]
    }
   ],
   "source": [
    "# Evaluate accuracy\n",
    "df_confusion = pd.crosstab(y_test, y_pred)\n",
    "df_confusion = pd.crosstab(y_test, y_pred, rownames=['Actual'], colnames=['Predicted'], margins=True)\n",
    "display(df_confusion)\n",
    "print(df_confusion.at[1, 1] / df_confusion.at['All', 1])"
   ]
  },
  {
   "cell_type": "markdown",
   "id": "de378c92-6e1a-4e75-ae29-e13c452dc630",
   "metadata": {},
   "source": [
    "### logistic regression"
   ]
  },
  {
   "cell_type": "code",
   "execution_count": 27,
   "id": "e27be35b-bb53-48c6-9e61-f96d168b29ad",
   "metadata": {},
   "outputs": [
    {
     "name": "stderr",
     "output_type": "stream",
     "text": [
      "C:\\Users\\LEN\\anaconda3\\lib\\site-packages\\sklearn\\linear_model\\_logistic.py:763: ConvergenceWarning: lbfgs failed to converge (status=1):\n",
      "STOP: TOTAL NO. of ITERATIONS REACHED LIMIT.\n",
      "\n",
      "Increase the number of iterations (max_iter) or scale the data as shown in:\n",
      "    https://scikit-learn.org/stable/modules/preprocessing.html\n",
      "Please also refer to the documentation for alternative solver options:\n",
      "    https://scikit-learn.org/stable/modules/linear_model.html#logistic-regression\n",
      "  n_iter_i = _check_optimize_result(\n"
     ]
    },
    {
     "data": {
      "text/html": [
       "<div>\n",
       "<style scoped>\n",
       "    .dataframe tbody tr th:only-of-type {\n",
       "        vertical-align: middle;\n",
       "    }\n",
       "\n",
       "    .dataframe tbody tr th {\n",
       "        vertical-align: top;\n",
       "    }\n",
       "\n",
       "    .dataframe thead th {\n",
       "        text-align: right;\n",
       "    }\n",
       "</style>\n",
       "<table border=\"1\" class=\"dataframe\">\n",
       "  <thead>\n",
       "    <tr style=\"text-align: right;\">\n",
       "      <th>Predicted</th>\n",
       "      <th>0</th>\n",
       "      <th>1</th>\n",
       "      <th>All</th>\n",
       "    </tr>\n",
       "    <tr>\n",
       "      <th>Actual</th>\n",
       "      <th></th>\n",
       "      <th></th>\n",
       "      <th></th>\n",
       "    </tr>\n",
       "  </thead>\n",
       "  <tbody>\n",
       "    <tr>\n",
       "      <th>0</th>\n",
       "      <td>934</td>\n",
       "      <td>7</td>\n",
       "      <td>941</td>\n",
       "    </tr>\n",
       "    <tr>\n",
       "      <th>1</th>\n",
       "      <td>59</td>\n",
       "      <td>0</td>\n",
       "      <td>59</td>\n",
       "    </tr>\n",
       "    <tr>\n",
       "      <th>All</th>\n",
       "      <td>993</td>\n",
       "      <td>7</td>\n",
       "      <td>1000</td>\n",
       "    </tr>\n",
       "  </tbody>\n",
       "</table>\n",
       "</div>"
      ],
      "text/plain": [
       "Predicted    0  1   All\n",
       "Actual                 \n",
       "0          934  7   941\n",
       "1           59  0    59\n",
       "All        993  7  1000"
      ]
     },
     "metadata": {},
     "output_type": "display_data"
    },
    {
     "name": "stdout",
     "output_type": "stream",
     "text": [
      "0.0\n"
     ]
    }
   ],
   "source": [
    "logreg = LogisticRegression() \n",
    "logreg.fit(X_train, y_train)\n",
    "y_pred = logreg.predict(X_test)\n",
    "\n",
    "# Evaluate accuracy\n",
    "df_confusion = pd.crosstab(y_test, y_pred)\n",
    "df_confusion = pd.crosstab(y_test, y_pred, rownames=['Actual'], colnames=['Predicted'], margins=True)\n",
    "display(df_confusion)\n",
    "print(df_confusion.at[1, 1] / df_confusion.at['All', 1])"
   ]
  },
  {
   "cell_type": "code",
   "execution_count": 28,
   "id": "debfc1f1-a4ca-4102-a9f4-ec0c00d21364",
   "metadata": {},
   "outputs": [
    {
     "data": {
      "text/html": [
       "<div>\n",
       "<style scoped>\n",
       "    .dataframe tbody tr th:only-of-type {\n",
       "        vertical-align: middle;\n",
       "    }\n",
       "\n",
       "    .dataframe tbody tr th {\n",
       "        vertical-align: top;\n",
       "    }\n",
       "\n",
       "    .dataframe thead th {\n",
       "        text-align: right;\n",
       "    }\n",
       "</style>\n",
       "<table border=\"1\" class=\"dataframe\">\n",
       "  <thead>\n",
       "    <tr style=\"text-align: right;\">\n",
       "      <th>Predicted</th>\n",
       "      <th>0</th>\n",
       "      <th>1</th>\n",
       "      <th>All</th>\n",
       "    </tr>\n",
       "    <tr>\n",
       "      <th>Actual</th>\n",
       "      <th></th>\n",
       "      <th></th>\n",
       "      <th></th>\n",
       "    </tr>\n",
       "  </thead>\n",
       "  <tbody>\n",
       "    <tr>\n",
       "      <th>0</th>\n",
       "      <td>917</td>\n",
       "      <td>24</td>\n",
       "      <td>941</td>\n",
       "    </tr>\n",
       "    <tr>\n",
       "      <th>1</th>\n",
       "      <td>48</td>\n",
       "      <td>11</td>\n",
       "      <td>59</td>\n",
       "    </tr>\n",
       "    <tr>\n",
       "      <th>All</th>\n",
       "      <td>965</td>\n",
       "      <td>35</td>\n",
       "      <td>1000</td>\n",
       "    </tr>\n",
       "  </tbody>\n",
       "</table>\n",
       "</div>"
      ],
      "text/plain": [
       "Predicted    0   1   All\n",
       "Actual                  \n",
       "0          917  24   941\n",
       "1           48  11    59\n",
       "All        965  35  1000"
      ]
     },
     "metadata": {},
     "output_type": "display_data"
    },
    {
     "name": "stdout",
     "output_type": "stream",
     "text": [
      "0.3142857142857143\n"
     ]
    }
   ],
   "source": [
    "posterior = logreg.predict_proba(X_test)\n",
    "Yes_idx = np.where(logreg.classes_ == 1)[0][0]\n",
    "y_pred = pd.Series(posterior[:, Yes_idx] > 0.25)\n",
    "y_pred.replace([True, False], [1, 0], inplace=True)\n",
    "\n",
    "\n",
    "df_confusion = pd.crosstab(y_test, y_pred)\n",
    "df_confusion = pd.crosstab(y_test, y_pred, rownames=['Actual'], colnames=['Predicted'], margins=True)\n",
    "display(df_confusion)\n",
    "print(df_confusion.at[1, 1] / df_confusion.at['All', 1])"
   ]
  },
  {
   "cell_type": "code",
   "execution_count": null,
   "id": "b0d0463c-6803-40de-b6ac-ed0924bd3f37",
   "metadata": {},
   "outputs": [],
   "source": []
  },
  {
   "cell_type": "markdown",
   "id": "06266081-5c4e-4222-948f-324033ca7767",
   "metadata": {},
   "source": [
    "## 2 Classification Models for Stock Market Data"
   ]
  },
  {
   "cell_type": "markdown",
   "id": "3a795ca7-26a1-4a52-973b-13f4a6c02456",
   "metadata": {},
   "source": [
    "### (a) import data"
   ]
  },
  {
   "cell_type": "code",
   "execution_count": 29,
   "id": "4f08443c-8b05-4744-bca8-3b407c0468a9",
   "metadata": {},
   "outputs": [],
   "source": [
    "df_weekly=pd.read_csv('D:\\Columbia\\课程\\第一学期\\machine learning\\hw\\data_export\\Weekly.csv')"
   ]
  },
  {
   "cell_type": "code",
   "execution_count": 30,
   "id": "5505526a-ee32-4a11-96b4-87d70915e05b",
   "metadata": {},
   "outputs": [
    {
     "name": "stdout",
     "output_type": "stream",
     "text": [
      "<class 'pandas.core.frame.DataFrame'>\n",
      "RangeIndex: 1089 entries, 0 to 1088\n",
      "Data columns (total 9 columns):\n",
      " #   Column     Non-Null Count  Dtype  \n",
      "---  ------     --------------  -----  \n",
      " 0   Year       1089 non-null   int64  \n",
      " 1   Lag1       1089 non-null   float64\n",
      " 2   Lag2       1089 non-null   float64\n",
      " 3   Lag3       1089 non-null   float64\n",
      " 4   Lag4       1089 non-null   float64\n",
      " 5   Lag5       1089 non-null   float64\n",
      " 6   Volume     1089 non-null   float64\n",
      " 7   Today      1089 non-null   float64\n",
      " 8   Direction  1089 non-null   object \n",
      "dtypes: float64(7), int64(1), object(1)\n",
      "memory usage: 76.7+ KB\n"
     ]
    }
   ],
   "source": [
    "df_weekly.info()"
   ]
  },
  {
   "cell_type": "code",
   "execution_count": 31,
   "id": "cd3dc54d-122a-4fa6-9aeb-bf951ff66d55",
   "metadata": {},
   "outputs": [
    {
     "data": {
      "text/html": [
       "<div>\n",
       "<style scoped>\n",
       "    .dataframe tbody tr th:only-of-type {\n",
       "        vertical-align: middle;\n",
       "    }\n",
       "\n",
       "    .dataframe tbody tr th {\n",
       "        vertical-align: top;\n",
       "    }\n",
       "\n",
       "    .dataframe thead th {\n",
       "        text-align: right;\n",
       "    }\n",
       "</style>\n",
       "<table border=\"1\" class=\"dataframe\">\n",
       "  <thead>\n",
       "    <tr style=\"text-align: right;\">\n",
       "      <th></th>\n",
       "      <th>Year</th>\n",
       "      <th>Lag1</th>\n",
       "      <th>Lag2</th>\n",
       "      <th>Lag3</th>\n",
       "      <th>Lag4</th>\n",
       "      <th>Lag5</th>\n",
       "      <th>Volume</th>\n",
       "      <th>Today</th>\n",
       "    </tr>\n",
       "  </thead>\n",
       "  <tbody>\n",
       "    <tr>\n",
       "      <th>Year</th>\n",
       "      <td>1.000000</td>\n",
       "      <td>-0.032289</td>\n",
       "      <td>-0.033390</td>\n",
       "      <td>-0.030006</td>\n",
       "      <td>-0.031128</td>\n",
       "      <td>-0.030519</td>\n",
       "      <td>0.841942</td>\n",
       "      <td>-0.032460</td>\n",
       "    </tr>\n",
       "    <tr>\n",
       "      <th>Lag1</th>\n",
       "      <td>-0.032289</td>\n",
       "      <td>1.000000</td>\n",
       "      <td>-0.074853</td>\n",
       "      <td>0.058636</td>\n",
       "      <td>-0.071274</td>\n",
       "      <td>-0.008183</td>\n",
       "      <td>-0.064951</td>\n",
       "      <td>-0.075032</td>\n",
       "    </tr>\n",
       "    <tr>\n",
       "      <th>Lag2</th>\n",
       "      <td>-0.033390</td>\n",
       "      <td>-0.074853</td>\n",
       "      <td>1.000000</td>\n",
       "      <td>-0.075721</td>\n",
       "      <td>0.058382</td>\n",
       "      <td>-0.072499</td>\n",
       "      <td>-0.085513</td>\n",
       "      <td>0.059167</td>\n",
       "    </tr>\n",
       "    <tr>\n",
       "      <th>Lag3</th>\n",
       "      <td>-0.030006</td>\n",
       "      <td>0.058636</td>\n",
       "      <td>-0.075721</td>\n",
       "      <td>1.000000</td>\n",
       "      <td>-0.075396</td>\n",
       "      <td>0.060657</td>\n",
       "      <td>-0.069288</td>\n",
       "      <td>-0.071244</td>\n",
       "    </tr>\n",
       "    <tr>\n",
       "      <th>Lag4</th>\n",
       "      <td>-0.031128</td>\n",
       "      <td>-0.071274</td>\n",
       "      <td>0.058382</td>\n",
       "      <td>-0.075396</td>\n",
       "      <td>1.000000</td>\n",
       "      <td>-0.075675</td>\n",
       "      <td>-0.061075</td>\n",
       "      <td>-0.007826</td>\n",
       "    </tr>\n",
       "    <tr>\n",
       "      <th>Lag5</th>\n",
       "      <td>-0.030519</td>\n",
       "      <td>-0.008183</td>\n",
       "      <td>-0.072499</td>\n",
       "      <td>0.060657</td>\n",
       "      <td>-0.075675</td>\n",
       "      <td>1.000000</td>\n",
       "      <td>-0.058517</td>\n",
       "      <td>0.011013</td>\n",
       "    </tr>\n",
       "    <tr>\n",
       "      <th>Volume</th>\n",
       "      <td>0.841942</td>\n",
       "      <td>-0.064951</td>\n",
       "      <td>-0.085513</td>\n",
       "      <td>-0.069288</td>\n",
       "      <td>-0.061075</td>\n",
       "      <td>-0.058517</td>\n",
       "      <td>1.000000</td>\n",
       "      <td>-0.033078</td>\n",
       "    </tr>\n",
       "    <tr>\n",
       "      <th>Today</th>\n",
       "      <td>-0.032460</td>\n",
       "      <td>-0.075032</td>\n",
       "      <td>0.059167</td>\n",
       "      <td>-0.071244</td>\n",
       "      <td>-0.007826</td>\n",
       "      <td>0.011013</td>\n",
       "      <td>-0.033078</td>\n",
       "      <td>1.000000</td>\n",
       "    </tr>\n",
       "  </tbody>\n",
       "</table>\n",
       "</div>"
      ],
      "text/plain": [
       "            Year      Lag1      Lag2      Lag3      Lag4      Lag5    Volume  \\\n",
       "Year    1.000000 -0.032289 -0.033390 -0.030006 -0.031128 -0.030519  0.841942   \n",
       "Lag1   -0.032289  1.000000 -0.074853  0.058636 -0.071274 -0.008183 -0.064951   \n",
       "Lag2   -0.033390 -0.074853  1.000000 -0.075721  0.058382 -0.072499 -0.085513   \n",
       "Lag3   -0.030006  0.058636 -0.075721  1.000000 -0.075396  0.060657 -0.069288   \n",
       "Lag4   -0.031128 -0.071274  0.058382 -0.075396  1.000000 -0.075675 -0.061075   \n",
       "Lag5   -0.030519 -0.008183 -0.072499  0.060657 -0.075675  1.000000 -0.058517   \n",
       "Volume  0.841942 -0.064951 -0.085513 -0.069288 -0.061075 -0.058517  1.000000   \n",
       "Today  -0.032460 -0.075032  0.059167 -0.071244 -0.007826  0.011013 -0.033078   \n",
       "\n",
       "           Today  \n",
       "Year   -0.032460  \n",
       "Lag1   -0.075032  \n",
       "Lag2    0.059167  \n",
       "Lag3   -0.071244  \n",
       "Lag4   -0.007826  \n",
       "Lag5    0.011013  \n",
       "Volume -0.033078  \n",
       "Today   1.000000  "
      ]
     },
     "execution_count": 31,
     "metadata": {},
     "output_type": "execute_result"
    }
   ],
   "source": [
    "df_weekly.corr()"
   ]
  },
  {
   "cell_type": "markdown",
   "id": "6bee6858-159c-485e-bdf8-7267c7b2928e",
   "metadata": {},
   "source": [
    "<p>\n",
    "    According to the correlation figure, volume and year has strong relationship, while today's return has week correlation with lags.\n",
    "    <\\p>"
   ]
  },
  {
   "cell_type": "code",
   "execution_count": 32,
   "id": "e01e224d-9671-4870-9716-e8a602685064",
   "metadata": {},
   "outputs": [
    {
     "name": "stderr",
     "output_type": "stream",
     "text": [
      "C:\\Users\\LEN\\anaconda3\\lib\\site-packages\\seaborn\\_decorators.py:36: FutureWarning: Pass the following variables as keyword args: x, y. From version 0.12, the only valid positional argument will be `data`, and passing other arguments without an explicit keyword will result in an error or misinterpretation.\n",
      "  warnings.warn(\n",
      "C:\\Users\\LEN\\anaconda3\\lib\\site-packages\\seaborn\\_decorators.py:36: FutureWarning: Pass the following variables as keyword args: x, y. From version 0.12, the only valid positional argument will be `data`, and passing other arguments without an explicit keyword will result in an error or misinterpretation.\n",
      "  warnings.warn(\n"
     ]
    },
    {
     "data": {
      "text/plain": [
       "Text(0.5, 0, 'week')"
      ]
     },
     "execution_count": 32,
     "metadata": {},
     "output_type": "execute_result"
    },
    {
     "data": {
      "image/png": "[encoded data removed]",
      "text/plain": [
       "<Figure size 1440x360 with 2 Axes>"
      ]
     },
     "metadata": {},
     "output_type": "display_data"
    }
   ],
   "source": [
    "fig,(ax1,ax2)=plt.subplots(ncols=2,sharey=True,figsize=(20,5))\n",
    "sns.boxplot(df_weekly.Year, df_weekly.Volume,ax=ax1)\n",
    "sns.scatterplot(df_weekly.index, df_weekly.Volume,ax=ax2)\n",
    "ax2.set_xlabel('week')\n"
   ]
  },
  {
   "cell_type": "markdown",
   "id": "b1e8bb5f-fe8d-4fc1-890c-215c3304d73a",
   "metadata": {},
   "source": [
    "<p>The graph shows that the volume keep increases untill 2009. Then the volume decrease significently.</p>"
   ]
  },
  {
   "cell_type": "markdown",
   "id": "1d30b065-1120-4180-a410-0848f63719eb",
   "metadata": {},
   "source": [
    "### (b) logistic regression"
   ]
  },
  {
   "cell_type": "code",
   "execution_count": 33,
   "id": "e4f880c7-2ee5-45db-a4a8-459a7264be23",
   "metadata": {},
   "outputs": [
    {
     "data": {
      "text/html": [
       "<table class=\"simpletable\">\n",
       "<caption>Generalized Linear Model Regression Results</caption>\n",
       "<tr>\n",
       "  <th>Dep. Variable:</th>   <td>['Direction[Down]', 'Direction[Up]']</td> <th>  No. Observations:  </th>  <td>  1089</td> \n",
       "</tr>\n",
       "<tr>\n",
       "  <th>Model:</th>                            <td>GLM</td>                 <th>  Df Residuals:      </th>  <td>  1082</td> \n",
       "</tr>\n",
       "<tr>\n",
       "  <th>Model Family:</th>                  <td>Binomial</td>               <th>  Df Model:          </th>  <td>     6</td> \n",
       "</tr>\n",
       "<tr>\n",
       "  <th>Link Function:</th>                   <td>logit</td>                <th>  Scale:             </th> <td>  1.0000</td>\n",
       "</tr>\n",
       "<tr>\n",
       "  <th>Method:</th>                          <td>IRLS</td>                 <th>  Log-Likelihood:    </th> <td> -743.18</td>\n",
       "</tr>\n",
       "<tr>\n",
       "  <th>Date:</th>                      <td>Mon, 18 Oct 2021</td>           <th>  Deviance:          </th> <td>  1486.4</td>\n",
       "</tr>\n",
       "<tr>\n",
       "  <th>Time:</th>                          <td>21:56:27</td>               <th>  Pearson chi2:      </th> <td>1.09e+03</td>\n",
       "</tr>\n",
       "<tr>\n",
       "  <th>No. Iterations:</th>                    <td>4</td>                  <th>                     </th>     <td> </td>   \n",
       "</tr>\n",
       "<tr>\n",
       "  <th>Covariance Type:</th>               <td>nonrobust</td>              <th>                     </th>     <td> </td>   \n",
       "</tr>\n",
       "</table>\n",
       "<table class=\"simpletable\">\n",
       "<tr>\n",
       "      <td></td>         <th>coef</th>     <th>std err</th>      <th>z</th>      <th>P>|z|</th>  <th>[0.025</th>    <th>0.975]</th>  \n",
       "</tr>\n",
       "<tr>\n",
       "  <th>Intercept</th> <td>   -0.2669</td> <td>    0.086</td> <td>   -3.106</td> <td> 0.002</td> <td>   -0.435</td> <td>   -0.098</td>\n",
       "</tr>\n",
       "<tr>\n",
       "  <th>Lag1</th>      <td>    0.0413</td> <td>    0.026</td> <td>    1.563</td> <td> 0.118</td> <td>   -0.010</td> <td>    0.093</td>\n",
       "</tr>\n",
       "<tr>\n",
       "  <th>Lag2</th>      <td>   -0.0584</td> <td>    0.027</td> <td>   -2.175</td> <td> 0.030</td> <td>   -0.111</td> <td>   -0.006</td>\n",
       "</tr>\n",
       "<tr>\n",
       "  <th>Lag3</th>      <td>    0.0161</td> <td>    0.027</td> <td>    0.602</td> <td> 0.547</td> <td>   -0.036</td> <td>    0.068</td>\n",
       "</tr>\n",
       "<tr>\n",
       "  <th>Lag4</th>      <td>    0.0278</td> <td>    0.026</td> <td>    1.050</td> <td> 0.294</td> <td>   -0.024</td> <td>    0.080</td>\n",
       "</tr>\n",
       "<tr>\n",
       "  <th>Lag5</th>      <td>    0.0145</td> <td>    0.026</td> <td>    0.549</td> <td> 0.583</td> <td>   -0.037</td> <td>    0.066</td>\n",
       "</tr>\n",
       "<tr>\n",
       "  <th>Volume</th>    <td>    0.0227</td> <td>    0.037</td> <td>    0.616</td> <td> 0.538</td> <td>   -0.050</td> <td>    0.095</td>\n",
       "</tr>\n",
       "</table>"
      ],
      "text/plain": [
       "<class 'statsmodels.iolib.summary.Summary'>\n",
       "\"\"\"\n",
       "                          Generalized Linear Model Regression Results                           \n",
       "================================================================================================\n",
       "Dep. Variable:     ['Direction[Down]', 'Direction[Up]']   No. Observations:                 1089\n",
       "Model:                                              GLM   Df Residuals:                     1082\n",
       "Model Family:                                  Binomial   Df Model:                            6\n",
       "Link Function:                                    logit   Scale:                          1.0000\n",
       "Method:                                            IRLS   Log-Likelihood:                -743.18\n",
       "Date:                                  Mon, 18 Oct 2021   Deviance:                       1486.4\n",
       "Time:                                          21:56:27   Pearson chi2:                 1.09e+03\n",
       "No. Iterations:                                       4                                         \n",
       "Covariance Type:                              nonrobust                                         \n",
       "==============================================================================\n",
       "                 coef    std err          z      P>|z|      [0.025      0.975]\n",
       "------------------------------------------------------------------------------\n",
       "Intercept     -0.2669      0.086     -3.106      0.002      -0.435      -0.098\n",
       "Lag1           0.0413      0.026      1.563      0.118      -0.010       0.093\n",
       "Lag2          -0.0584      0.027     -2.175      0.030      -0.111      -0.006\n",
       "Lag3           0.0161      0.027      0.602      0.547      -0.036       0.068\n",
       "Lag4           0.0278      0.026      1.050      0.294      -0.024       0.080\n",
       "Lag5           0.0145      0.026      0.549      0.583      -0.037       0.066\n",
       "Volume         0.0227      0.037      0.616      0.538      -0.050       0.095\n",
       "==============================================================================\n",
       "\"\"\""
      ]
     },
     "execution_count": 33,
     "metadata": {},
     "output_type": "execute_result"
    }
   ],
   "source": [
    "formula=\"Direction~Lag1+Lag2+Lag3+Lag4+Lag5+Volume\"\n",
    "weekly_glm=smf.glm(formula,data=df_weekly,family=sm.families.Binomial()).fit()\n",
    "weekly_glm.summary()"
   ]
  },
  {
   "cell_type": "markdown",
   "id": "21018942-6bd0-4fb2-9fc8-cf13f34c6b54",
   "metadata": {},
   "source": [
    "<P>p-value of $Lag2=0.03<0.05$, thus, Lag2 is statistic significent at confidence level of 0.05.<\\p>"
   ]
  },
  {
   "cell_type": "code",
   "execution_count": 34,
   "id": "98787edb-5dbc-4b91-be35-4bb85aa5084d",
   "metadata": {},
   "outputs": [
    {
     "data": {
      "text/html": [
       "<div>\n",
       "<style scoped>\n",
       "    .dataframe tbody tr th:only-of-type {\n",
       "        vertical-align: middle;\n",
       "    }\n",
       "\n",
       "    .dataframe tbody tr th {\n",
       "        vertical-align: top;\n",
       "    }\n",
       "\n",
       "    .dataframe thead th {\n",
       "        text-align: right;\n",
       "    }\n",
       "</style>\n",
       "<table border=\"1\" class=\"dataframe\">\n",
       "  <thead>\n",
       "    <tr style=\"text-align: right;\">\n",
       "      <th></th>\n",
       "      <th>Intercept</th>\n",
       "      <th>Lag1</th>\n",
       "      <th>Lag2</th>\n",
       "      <th>Lag3</th>\n",
       "      <th>Lag4</th>\n",
       "      <th>Lag5</th>\n",
       "      <th>Volume</th>\n",
       "    </tr>\n",
       "  </thead>\n",
       "  <tbody>\n",
       "    <tr>\n",
       "      <th>0</th>\n",
       "      <td>0.266863</td>\n",
       "      <td>-0.041268</td>\n",
       "      <td>0.058442</td>\n",
       "      <td>-0.016062</td>\n",
       "      <td>-0.027789</td>\n",
       "      <td>-0.014474</td>\n",
       "      <td>-0.022741</td>\n",
       "    </tr>\n",
       "  </tbody>\n",
       "</table>\n",
       "</div>"
      ],
      "text/plain": [
       "   Intercept      Lag1      Lag2      Lag3      Lag4      Lag5    Volume\n",
       "0   0.266863 -0.041268  0.058442 -0.016062 -0.027789 -0.014474 -0.022741"
      ]
     },
     "execution_count": 34,
     "metadata": {},
     "output_type": "execute_result"
    }
   ],
   "source": [
    "features=['Lag1', 'Lag2', 'Lag3', 'Lag4', 'Lag5', 'Volume']\n",
    "response='Direction'\n",
    "X=df_weekly[features]\n",
    "y=df_weekly[response]\n",
    "\n",
    "logreg=LogisticRegression(penalty='none')\n",
    "logreg.fit(X,y)\n",
    "\n",
    "coefs=pd.DataFrame(logreg.coef_,columns=features)\n",
    "coefs.insert(loc=0, value=logreg.intercept_,column='Intercept')\n",
    "coefs"
   ]
  },
  {
   "cell_type": "markdown",
   "id": "de60a033-cdda-4093-bc40-774a17418d3e",
   "metadata": {},
   "source": [
    "### (c) confusion matrix"
   ]
  },
  {
   "cell_type": "code",
   "execution_count": 35,
   "id": "17c44c28-f37d-4fe5-be7e-4f7939fbdce4",
   "metadata": {},
   "outputs": [],
   "source": [
    "y_pre=logreg.predict(X)"
   ]
  },
  {
   "cell_type": "code",
   "execution_count": 36,
   "id": "e9072d12-87a5-4fe7-9c07-79a1b625e0ce",
   "metadata": {},
   "outputs": [
    {
     "data": {
      "text/html": [
       "<div>\n",
       "<style scoped>\n",
       "    .dataframe tbody tr th:only-of-type {\n",
       "        vertical-align: middle;\n",
       "    }\n",
       "\n",
       "    .dataframe tbody tr th {\n",
       "        vertical-align: top;\n",
       "    }\n",
       "\n",
       "    .dataframe thead th {\n",
       "        text-align: right;\n",
       "    }\n",
       "</style>\n",
       "<table border=\"1\" class=\"dataframe\">\n",
       "  <thead>\n",
       "    <tr style=\"text-align: right;\">\n",
       "      <th>predicted</th>\n",
       "      <th>Down</th>\n",
       "      <th>Up</th>\n",
       "      <th>All</th>\n",
       "    </tr>\n",
       "    <tr>\n",
       "      <th>Actural</th>\n",
       "      <th></th>\n",
       "      <th></th>\n",
       "      <th></th>\n",
       "    </tr>\n",
       "  </thead>\n",
       "  <tbody>\n",
       "    <tr>\n",
       "      <th>Down</th>\n",
       "      <td>54</td>\n",
       "      <td>430</td>\n",
       "      <td>484</td>\n",
       "    </tr>\n",
       "    <tr>\n",
       "      <th>Up</th>\n",
       "      <td>48</td>\n",
       "      <td>557</td>\n",
       "      <td>605</td>\n",
       "    </tr>\n",
       "    <tr>\n",
       "      <th>All</th>\n",
       "      <td>102</td>\n",
       "      <td>987</td>\n",
       "      <td>1089</td>\n",
       "    </tr>\n",
       "  </tbody>\n",
       "</table>\n",
       "</div>"
      ],
      "text/plain": [
       "predicted  Down   Up   All\n",
       "Actural                   \n",
       "Down         54  430   484\n",
       "Up           48  557   605\n",
       "All         102  987  1089"
      ]
     },
     "metadata": {},
     "output_type": "display_data"
    }
   ],
   "source": [
    "df_confusion=pd.crosstab(y,y_pre,rownames=['Actural'],colnames=['predicted'],margins=True)\n",
    "display(df_confusion)"
   ]
  },
  {
   "cell_type": "code",
   "execution_count": 37,
   "id": "56eb3bc1-c694-4828-9312-2a079b53bc46",
   "metadata": {},
   "outputs": [
    {
     "name": "stdout",
     "output_type": "stream",
     "text": [
      "correcct rate: 0.5610651974288338\n",
      "error rate: 0.4389348025711662\n",
      "False positive: 0.8884297520661157\n",
      "False negative: 0.07933884297520662\n",
      "Precision: 0.5643363728470111\n"
     ]
    }
   ],
   "source": [
    "print('correcct rate:',(df_confusion.at['Down','Down']+df_confusion.at['Up','Up'])/df_confusion.at['All','All'])\n",
    "print('error rate:',(df_confusion.at['Down','Up']+df_confusion.at['Up','Down'])/df_confusion.at['All','All'])\n",
    "print('False positive:',df_confusion.at['Down','Up']/df_confusion.at['Down','All'])\n",
    "print('False negative:',df_confusion.at['Up','Down']/df_confusion.at['Up','All'])\n",
    "print('Precision:',df_confusion.at['Up','Up']/df_confusion.at['All','Up'])"
   ]
  },
  {
   "cell_type": "markdown",
   "id": "f062b7e0-48c9-49cd-8eb1-1e228183485d",
   "metadata": {},
   "source": [
    "<p>error rate means the rate of predictions that are differenct from actural response amone all predictions<br>False positive means that the rate of prediction that is up but actual response is Down.<br>False negative means the rate of prediction that is Down but actual response is Up.<br> Precision means the percentage of actual Up among predicted Up."
   ]
  },
  {
   "cell_type": "markdown",
   "id": "5c853118-97bf-4673-8d8f-a4ba9d9e26f9",
   "metadata": {},
   "source": [
    "### (d)LR with Lags2"
   ]
  },
  {
   "cell_type": "code",
   "execution_count": 38,
   "id": "62e167bb-607d-464b-9db1-b3220a0f0679",
   "metadata": {},
   "outputs": [],
   "source": [
    "list_2=[]"
   ]
  },
  {
   "cell_type": "code",
   "execution_count": 39,
   "id": "58eeb82c-d1c2-40e9-a346-0786eeb05307",
   "metadata": {},
   "outputs": [],
   "source": [
    "df_train=df_weekly[df_weekly.Year<=2008]\n",
    "df_test=df_weekly[df_weekly.Year>2008]"
   ]
  },
  {
   "cell_type": "code",
   "execution_count": 40,
   "id": "8be908ff-b753-4bb5-860e-c375dfcd85f4",
   "metadata": {},
   "outputs": [
    {
     "data": {
      "text/html": [
       "<div>\n",
       "<style scoped>\n",
       "    .dataframe tbody tr th:only-of-type {\n",
       "        vertical-align: middle;\n",
       "    }\n",
       "\n",
       "    .dataframe tbody tr th {\n",
       "        vertical-align: top;\n",
       "    }\n",
       "\n",
       "    .dataframe thead th {\n",
       "        text-align: right;\n",
       "    }\n",
       "</style>\n",
       "<table border=\"1\" class=\"dataframe\">\n",
       "  <thead>\n",
       "    <tr style=\"text-align: right;\">\n",
       "      <th></th>\n",
       "      <th>Intercept</th>\n",
       "      <th>Lag2</th>\n",
       "    </tr>\n",
       "  </thead>\n",
       "  <tbody>\n",
       "    <tr>\n",
       "      <th>0</th>\n",
       "      <td>0.203257</td>\n",
       "      <td>0.058095</td>\n",
       "    </tr>\n",
       "  </tbody>\n",
       "</table>\n",
       "</div>"
      ],
      "text/plain": [
       "   Intercept      Lag2\n",
       "0   0.203257  0.058095"
      ]
     },
     "execution_count": 40,
     "metadata": {},
     "output_type": "execute_result"
    }
   ],
   "source": [
    "X_train=df_train[['Lag2']]\n",
    "y_train=df_train['Direction']\n",
    "X_test=df_test[['Lag2']]\n",
    "y_test=df_test['Direction']\n",
    "logreg2=LogisticRegression(penalty='none')\n",
    "logreg2.fit(X_train,y_train)\n",
    "coefs2=pd.DataFrame(logreg2.coef_,columns=['Lag2'])\n",
    "coefs2.insert(loc=0,value=logreg2.intercept_,column='Intercept')\n",
    "coefs2"
   ]
  },
  {
   "cell_type": "code",
   "execution_count": 41,
   "id": "23f3e43a-c51b-48cc-8e81-d69140284c16",
   "metadata": {},
   "outputs": [
    {
     "data": {
      "text/html": [
       "<div>\n",
       "<style scoped>\n",
       "    .dataframe tbody tr th:only-of-type {\n",
       "        vertical-align: middle;\n",
       "    }\n",
       "\n",
       "    .dataframe tbody tr th {\n",
       "        vertical-align: top;\n",
       "    }\n",
       "\n",
       "    .dataframe thead th {\n",
       "        text-align: right;\n",
       "    }\n",
       "</style>\n",
       "<table border=\"1\" class=\"dataframe\">\n",
       "  <thead>\n",
       "    <tr style=\"text-align: right;\">\n",
       "      <th>Predicted</th>\n",
       "      <th>Down</th>\n",
       "      <th>Up</th>\n",
       "      <th>All</th>\n",
       "    </tr>\n",
       "    <tr>\n",
       "      <th>Actural</th>\n",
       "      <th></th>\n",
       "      <th></th>\n",
       "      <th></th>\n",
       "    </tr>\n",
       "  </thead>\n",
       "  <tbody>\n",
       "    <tr>\n",
       "      <th>Down</th>\n",
       "      <td>9</td>\n",
       "      <td>34</td>\n",
       "      <td>43</td>\n",
       "    </tr>\n",
       "    <tr>\n",
       "      <th>Up</th>\n",
       "      <td>5</td>\n",
       "      <td>56</td>\n",
       "      <td>61</td>\n",
       "    </tr>\n",
       "    <tr>\n",
       "      <th>All</th>\n",
       "      <td>14</td>\n",
       "      <td>90</td>\n",
       "      <td>104</td>\n",
       "    </tr>\n",
       "  </tbody>\n",
       "</table>\n",
       "</div>"
      ],
      "text/plain": [
       "Predicted  Down  Up  All\n",
       "Actural                 \n",
       "Down          9  34   43\n",
       "Up            5  56   61\n",
       "All          14  90  104"
      ]
     },
     "metadata": {},
     "output_type": "display_data"
    },
    {
     "name": "stdout",
     "output_type": "stream",
     "text": [
      "correcct rate: 0.625\n",
      "error rate: 0.375\n",
      "False positive: 0.7906976744186046\n",
      "False negative: 0.08196721311475409\n",
      "Precision: 0.6222222222222222\n"
     ]
    }
   ],
   "source": [
    "y_pre=logreg2.predict(X_test)\n",
    "df_confusion2=pd.crosstab(y_test, y_pre, rownames=['Actural'],colnames=['Predicted'],margins=True)\n",
    "display(df_confusion2)\n",
    "print('correcct rate:',(df_confusion2.at['Down','Down']+df_confusion2.at['Up','Up'])/df_confusion2.at['All','All'])\n",
    "print('error rate:',(df_confusion2.at['Down','Up']+df_confusion2.at['Up','Down'])/df_confusion2.at['All','All'])\n",
    "print('False positive:',df_confusion2.at['Down','Up']/df_confusion2.at['Down','All'])\n",
    "print('False negative:',df_confusion2.at['Up','Down']/df_confusion2.at['Up','All'])\n",
    "print('Precision:',df_confusion2.at['Up','Up']/df_confusion2.at['All','Up'])\n",
    "list_2.append((df_confusion2.at['Down','Down']+df_confusion2.at['Up','Up'])/df_confusion2.at['All','All'])"
   ]
  },
  {
   "cell_type": "markdown",
   "id": "67de9588-6a18-47c0-91f8-411b44f236a6",
   "metadata": {},
   "source": [
    "<p>the error rate is 0.375 which is less than previous LR. While, the False positive is still very high.<\\p>"
   ]
  },
  {
   "cell_type": "markdown",
   "id": "44b1541b-1cb4-459e-83ff-742c48075ae2",
   "metadata": {},
   "source": [
    "### (e) LDA"
   ]
  },
  {
   "cell_type": "code",
   "execution_count": 42,
   "id": "41bffc26-c1df-46e2-81c5-fd891ef7bf24",
   "metadata": {},
   "outputs": [
    {
     "name": "stdout",
     "output_type": "stream",
     "text": [
      "Prior probabilities of groups:\n"
     ]
    },
    {
     "data": {
      "text/html": [
       "<div>\n",
       "<style scoped>\n",
       "    .dataframe tbody tr th:only-of-type {\n",
       "        vertical-align: middle;\n",
       "    }\n",
       "\n",
       "    .dataframe tbody tr th {\n",
       "        vertical-align: top;\n",
       "    }\n",
       "\n",
       "    .dataframe thead th {\n",
       "        text-align: right;\n",
       "    }\n",
       "</style>\n",
       "<table border=\"1\" class=\"dataframe\">\n",
       "  <thead>\n",
       "    <tr style=\"text-align: right;\">\n",
       "      <th></th>\n",
       "      <th>Down</th>\n",
       "      <th>Up</th>\n",
       "    </tr>\n",
       "  </thead>\n",
       "  <tbody>\n",
       "    <tr>\n",
       "      <th>0</th>\n",
       "      <td>0.447716</td>\n",
       "      <td>0.552284</td>\n",
       "    </tr>\n",
       "  </tbody>\n",
       "</table>\n",
       "</div>"
      ],
      "text/plain": [
       "       Down        Up\n",
       "0  0.447716  0.552284"
      ]
     },
     "metadata": {},
     "output_type": "display_data"
    },
    {
     "name": "stdout",
     "output_type": "stream",
     "text": [
      "\n",
      "Group means:\n"
     ]
    },
    {
     "data": {
      "text/html": [
       "<div>\n",
       "<style scoped>\n",
       "    .dataframe tbody tr th:only-of-type {\n",
       "        vertical-align: middle;\n",
       "    }\n",
       "\n",
       "    .dataframe tbody tr th {\n",
       "        vertical-align: top;\n",
       "    }\n",
       "\n",
       "    .dataframe thead th {\n",
       "        text-align: right;\n",
       "    }\n",
       "</style>\n",
       "<table border=\"1\" class=\"dataframe\">\n",
       "  <thead>\n",
       "    <tr style=\"text-align: right;\">\n",
       "      <th></th>\n",
       "      <th>Lag2</th>\n",
       "    </tr>\n",
       "  </thead>\n",
       "  <tbody>\n",
       "    <tr>\n",
       "      <th>Down</th>\n",
       "      <td>-0.035683</td>\n",
       "    </tr>\n",
       "    <tr>\n",
       "      <th>Up</th>\n",
       "      <td>0.260366</td>\n",
       "    </tr>\n",
       "  </tbody>\n",
       "</table>\n",
       "</div>"
      ],
      "text/plain": [
       "          Lag2\n",
       "Down -0.035683\n",
       "Up    0.260366"
      ]
     },
     "metadata": {},
     "output_type": "display_data"
    },
    {
     "name": "stdout",
     "output_type": "stream",
     "text": [
      "\n",
      "Coefficients of linear discriminants:\n"
     ]
    },
    {
     "data": {
      "text/html": [
       "<div>\n",
       "<style scoped>\n",
       "    .dataframe tbody tr th:only-of-type {\n",
       "        vertical-align: middle;\n",
       "    }\n",
       "\n",
       "    .dataframe tbody tr th {\n",
       "        vertical-align: top;\n",
       "    }\n",
       "\n",
       "    .dataframe thead th {\n",
       "        text-align: right;\n",
       "    }\n",
       "</style>\n",
       "<table border=\"1\" class=\"dataframe\">\n",
       "  <thead>\n",
       "    <tr style=\"text-align: right;\">\n",
       "      <th></th>\n",
       "      <th>LD1</th>\n",
       "    </tr>\n",
       "  </thead>\n",
       "  <tbody>\n",
       "    <tr>\n",
       "      <th>Lag2</th>\n",
       "      <td>0.441416</td>\n",
       "    </tr>\n",
       "  </tbody>\n",
       "</table>\n",
       "</div>"
      ],
      "text/plain": [
       "           LD1\n",
       "Lag2  0.441416"
      ]
     },
     "metadata": {},
     "output_type": "display_data"
    }
   ],
   "source": [
    "features = [ 'Lag2']\n",
    "response = 'Direction'\n",
    "\n",
    "# Fit on training data\n",
    "X_train = df_train[features]\n",
    "y_train = df_train[response]\n",
    "lda = LDA()\n",
    "lda.fit(X_train, y_train)\n",
    "\n",
    "# Priors, group means, and coefficients of linear discriminants\n",
    "priors = pd.DataFrame(lda.priors_, index=lda.classes_).T\n",
    "print(\"Prior probabilities of groups:\")\n",
    "display(priors)\n",
    "gmeans = pd.DataFrame(lda.means_, index=lda.classes_, columns=features)\n",
    "print(\"\\nGroup means:\")\n",
    "display(gmeans)\n",
    "coef = pd.DataFrame(lda.scalings_, columns=['LD1'], index=features)\n",
    "print(\"\\nCoefficients of linear discriminants:\")\n",
    "display(coef)"
   ]
  },
  {
   "cell_type": "code",
   "execution_count": 43,
   "id": "ba6f7e04-4c41-497a-aa9a-c7192815c503",
   "metadata": {},
   "outputs": [
    {
     "data": {
      "text/html": [
       "<div>\n",
       "<style scoped>\n",
       "    .dataframe tbody tr th:only-of-type {\n",
       "        vertical-align: middle;\n",
       "    }\n",
       "\n",
       "    .dataframe tbody tr th {\n",
       "        vertical-align: top;\n",
       "    }\n",
       "\n",
       "    .dataframe thead th {\n",
       "        text-align: right;\n",
       "    }\n",
       "</style>\n",
       "<table border=\"1\" class=\"dataframe\">\n",
       "  <thead>\n",
       "    <tr style=\"text-align: right;\">\n",
       "      <th>Predicted</th>\n",
       "      <th>Down</th>\n",
       "      <th>Up</th>\n",
       "      <th>All</th>\n",
       "    </tr>\n",
       "    <tr>\n",
       "      <th>Actual</th>\n",
       "      <th></th>\n",
       "      <th></th>\n",
       "      <th></th>\n",
       "    </tr>\n",
       "  </thead>\n",
       "  <tbody>\n",
       "    <tr>\n",
       "      <th>Down</th>\n",
       "      <td>9</td>\n",
       "      <td>34</td>\n",
       "      <td>43</td>\n",
       "    </tr>\n",
       "    <tr>\n",
       "      <th>Up</th>\n",
       "      <td>5</td>\n",
       "      <td>56</td>\n",
       "      <td>61</td>\n",
       "    </tr>\n",
       "    <tr>\n",
       "      <th>All</th>\n",
       "      <td>14</td>\n",
       "      <td>90</td>\n",
       "      <td>104</td>\n",
       "    </tr>\n",
       "  </tbody>\n",
       "</table>\n",
       "</div>"
      ],
      "text/plain": [
       "Predicted  Down  Up  All\n",
       "Actual                  \n",
       "Down          9  34   43\n",
       "Up            5  56   61\n",
       "All          14  90  104"
      ]
     },
     "metadata": {},
     "output_type": "display_data"
    },
    {
     "name": "stdout",
     "output_type": "stream",
     "text": [
      "0.625\n"
     ]
    }
   ],
   "source": [
    "X_test = df_test[features]\n",
    "y_test = df_test[response]\n",
    "y_pred = lda.predict(X_test)\n",
    "\n",
    "# Generate posterior probability matrix\n",
    "posterior = pd.DataFrame(lda.predict_proba(X_test), columns=lda.classes_)\n",
    "# Generate linear discriminants on the test subset\n",
    "discrim_test = lda.transform(X_test)\n",
    "\n",
    "# Evaluate accuracy\n",
    "df_confusion_lda = pd.crosstab(y_test, y_pred)\n",
    "df_confusion_lda = pd.crosstab(y_test, y_pred, rownames=['Actual'], colnames=['Predicted'], margins=True)\n",
    "display(df_confusion_lda)\n",
    "print((df_confusion_lda.at['Up', 'Up'] + df_confusion_lda.at['Down','Down']) / df_confusion_lda.at['All', 'All'])\n",
    "list_2.append((df_confusion_lda.at['Down','Down']+df_confusion_lda.at['Up','Up'])/df_confusion_lda.at['All','All'])"
   ]
  },
  {
   "cell_type": "markdown",
   "id": "3c7b7385-d222-4ff5-9feb-2d4cb5fe1074",
   "metadata": {},
   "source": [
    "### (f) QDA"
   ]
  },
  {
   "cell_type": "code",
   "execution_count": 44,
   "id": "2685c53c-54c7-4951-8732-c72f72ac16b1",
   "metadata": {},
   "outputs": [
    {
     "name": "stdout",
     "output_type": "stream",
     "text": [
      "Prior probabilities of groups:\n"
     ]
    },
    {
     "data": {
      "text/html": [
       "<div>\n",
       "<style scoped>\n",
       "    .dataframe tbody tr th:only-of-type {\n",
       "        vertical-align: middle;\n",
       "    }\n",
       "\n",
       "    .dataframe tbody tr th {\n",
       "        vertical-align: top;\n",
       "    }\n",
       "\n",
       "    .dataframe thead th {\n",
       "        text-align: right;\n",
       "    }\n",
       "</style>\n",
       "<table border=\"1\" class=\"dataframe\">\n",
       "  <thead>\n",
       "    <tr style=\"text-align: right;\">\n",
       "      <th></th>\n",
       "      <th>Down</th>\n",
       "      <th>Up</th>\n",
       "    </tr>\n",
       "  </thead>\n",
       "  <tbody>\n",
       "    <tr>\n",
       "      <th></th>\n",
       "      <td>0.447716</td>\n",
       "      <td>0.552284</td>\n",
       "    </tr>\n",
       "  </tbody>\n",
       "</table>\n",
       "</div>"
      ],
      "text/plain": [
       "      Down        Up\n",
       "  0.447716  0.552284"
      ]
     },
     "metadata": {},
     "output_type": "display_data"
    },
    {
     "name": "stdout",
     "output_type": "stream",
     "text": [
      "\n",
      "Group means:\n"
     ]
    },
    {
     "data": {
      "text/html": [
       "<div>\n",
       "<style scoped>\n",
       "    .dataframe tbody tr th:only-of-type {\n",
       "        vertical-align: middle;\n",
       "    }\n",
       "\n",
       "    .dataframe tbody tr th {\n",
       "        vertical-align: top;\n",
       "    }\n",
       "\n",
       "    .dataframe thead th {\n",
       "        text-align: right;\n",
       "    }\n",
       "</style>\n",
       "<table border=\"1\" class=\"dataframe\">\n",
       "  <thead>\n",
       "    <tr style=\"text-align: right;\">\n",
       "      <th></th>\n",
       "      <th>Lag2</th>\n",
       "    </tr>\n",
       "  </thead>\n",
       "  <tbody>\n",
       "    <tr>\n",
       "      <th>Down</th>\n",
       "      <td>-0.035683</td>\n",
       "    </tr>\n",
       "    <tr>\n",
       "      <th>Up</th>\n",
       "      <td>0.260366</td>\n",
       "    </tr>\n",
       "  </tbody>\n",
       "</table>\n",
       "</div>"
      ],
      "text/plain": [
       "          Lag2\n",
       "Down -0.035683\n",
       "Up    0.260366"
      ]
     },
     "metadata": {},
     "output_type": "display_data"
    }
   ],
   "source": [
    "features = ['Lag2']\n",
    "response = 'Direction'\n",
    "\n",
    "# Fit on training data\n",
    "X_train = df_train[features]\n",
    "y_train = df_train[response]\n",
    "qda = QDA()\n",
    "qda.fit(X_train, y_train)\n",
    "\n",
    "\n",
    "# Priors, group means, and coefficients of quadratic discriminants\n",
    "priors = pd.DataFrame(qda.priors_, index=qda.classes_, columns=['']).T\n",
    "print(\"Prior probabilities of groups:\")\n",
    "display(priors)\n",
    "gmeans = pd.DataFrame(qda.means_, index=qda.classes_, columns=features)\n",
    "print(\"\\nGroup means:\")\n",
    "display(gmeans)\n"
   ]
  },
  {
   "cell_type": "code",
   "execution_count": null,
   "id": "8780737a-01dc-4985-b64b-97e874114f39",
   "metadata": {},
   "outputs": [],
   "source": []
  },
  {
   "cell_type": "code",
   "execution_count": 45,
   "id": "a6a05552-a0f1-42a0-a75e-f80ca0a24434",
   "metadata": {},
   "outputs": [
    {
     "name": "stdout",
     "output_type": "stream",
     "text": [
      "QDA confusion matrix:\n"
     ]
    },
    {
     "data": {
      "text/html": [
       "<div>\n",
       "<style scoped>\n",
       "    .dataframe tbody tr th:only-of-type {\n",
       "        vertical-align: middle;\n",
       "    }\n",
       "\n",
       "    .dataframe tbody tr th {\n",
       "        vertical-align: top;\n",
       "    }\n",
       "\n",
       "    .dataframe thead th {\n",
       "        text-align: right;\n",
       "    }\n",
       "</style>\n",
       "<table border=\"1\" class=\"dataframe\">\n",
       "  <thead>\n",
       "    <tr style=\"text-align: right;\">\n",
       "      <th>Predicted</th>\n",
       "      <th>Up</th>\n",
       "      <th>All</th>\n",
       "    </tr>\n",
       "    <tr>\n",
       "      <th>Actural</th>\n",
       "      <th></th>\n",
       "      <th></th>\n",
       "    </tr>\n",
       "  </thead>\n",
       "  <tbody>\n",
       "    <tr>\n",
       "      <th>Down</th>\n",
       "      <td>43</td>\n",
       "      <td>43</td>\n",
       "    </tr>\n",
       "    <tr>\n",
       "      <th>Up</th>\n",
       "      <td>61</td>\n",
       "      <td>61</td>\n",
       "    </tr>\n",
       "    <tr>\n",
       "      <th>All</th>\n",
       "      <td>104</td>\n",
       "      <td>104</td>\n",
       "    </tr>\n",
       "  </tbody>\n",
       "</table>\n",
       "</div>"
      ],
      "text/plain": [
       "Predicted   Up  All\n",
       "Actural            \n",
       "Down        43   43\n",
       "Up          61   61\n",
       "All        104  104"
      ]
     },
     "metadata": {},
     "output_type": "display_data"
    },
    {
     "name": "stdout",
     "output_type": "stream",
     "text": [
      "0.5865384615384616\n"
     ]
    }
   ],
   "source": [
    "X_test=df_test[features]\n",
    "y_test=df_test[response]\n",
    "y_pred=qda.predict(X_test)\n",
    "\n",
    "df_confusion_qda=pd.crosstab(y_test,y_pred,rownames=['Actural'],colnames=['Predicted'],margins=True)\n",
    "print('QDA confusion matrix:')\n",
    "display(df_confusion_qda)\n",
    "print((df_confusion_qda.at['Up','Up'])/df_confusion_qda.at['All','All'])  \n",
    "list_2.append(df_confusion_qda.at['Up','Up']/df_confusion_qda.at['All','All'])"
   ]
  },
  {
   "cell_type": "markdown",
   "id": "262367d0-c14d-4ced-bf66-6943b1c62eea",
   "metadata": {},
   "source": [
    "### (g) KNN"
   ]
  },
  {
   "cell_type": "code",
   "execution_count": null,
   "id": "407084d7-68d9-4e96-b0ed-0ebcf3233248",
   "metadata": {},
   "outputs": [],
   "source": []
  },
  {
   "cell_type": "code",
   "execution_count": 46,
   "id": "b2502501-fb14-4d8f-8137-d95afb5d84e8",
   "metadata": {},
   "outputs": [
    {
     "name": "stdout",
     "output_type": "stream",
     "text": [
      "KNN confusion matrix:\n"
     ]
    },
    {
     "data": {
      "text/html": [
       "<div>\n",
       "<style scoped>\n",
       "    .dataframe tbody tr th:only-of-type {\n",
       "        vertical-align: middle;\n",
       "    }\n",
       "\n",
       "    .dataframe tbody tr th {\n",
       "        vertical-align: top;\n",
       "    }\n",
       "\n",
       "    .dataframe thead th {\n",
       "        text-align: right;\n",
       "    }\n",
       "</style>\n",
       "<table border=\"1\" class=\"dataframe\">\n",
       "  <thead>\n",
       "    <tr style=\"text-align: right;\">\n",
       "      <th>Predicted</th>\n",
       "      <th>Down</th>\n",
       "      <th>Up</th>\n",
       "      <th>All</th>\n",
       "    </tr>\n",
       "    <tr>\n",
       "      <th>Actual</th>\n",
       "      <th></th>\n",
       "      <th></th>\n",
       "      <th></th>\n",
       "    </tr>\n",
       "  </thead>\n",
       "  <tbody>\n",
       "    <tr>\n",
       "      <th>Down</th>\n",
       "      <td>21</td>\n",
       "      <td>22</td>\n",
       "      <td>43</td>\n",
       "    </tr>\n",
       "    <tr>\n",
       "      <th>Up</th>\n",
       "      <td>30</td>\n",
       "      <td>31</td>\n",
       "      <td>61</td>\n",
       "    </tr>\n",
       "    <tr>\n",
       "      <th>All</th>\n",
       "      <td>51</td>\n",
       "      <td>53</td>\n",
       "      <td>104</td>\n",
       "    </tr>\n",
       "  </tbody>\n",
       "</table>\n",
       "</div>"
      ],
      "text/plain": [
       "Predicted  Down  Up  All\n",
       "Actual                  \n",
       "Down         21  22   43\n",
       "Up           30  31   61\n",
       "All          51  53  104"
      ]
     },
     "metadata": {},
     "output_type": "display_data"
    },
    {
     "name": "stdout",
     "output_type": "stream",
     "text": [
      "0.5\n"
     ]
    }
   ],
   "source": [
    "knn = KNeighborsClassifier(n_neighbors=1)\n",
    "knn.fit(X_train, y_train)\n",
    "\n",
    "y_pred = knn.predict(X_test)\n",
    "\n",
    "# Evaluate accuracy\n",
    "df_confusion_KNN = pd.crosstab(y_test, y_pred)\n",
    "df_confusion_KNN = pd.crosstab(y_test, y_pred, rownames=['Actual'], colnames=['Predicted'], margins=True)\n",
    "print('KNN confusion matrix:')\n",
    "display(df_confusion_KNN)\n",
    "print((df_confusion_KNN.at['Up', 'Up'] + df_confusion_KNN.at['Down', 'Down']) / df_confusion_KNN.at['All', 'All'])\n"
   ]
  },
  {
   "cell_type": "code",
   "execution_count": 47,
   "id": "113b323e-c69c-4f9b-86ff-412e04e3c4ac",
   "metadata": {},
   "outputs": [
    {
     "name": "stdout",
     "output_type": "stream",
     "text": [
      "knn-17 with lag1 and lag2:\n"
     ]
    },
    {
     "data": {
      "text/html": [
       "<div>\n",
       "<style scoped>\n",
       "    .dataframe tbody tr th:only-of-type {\n",
       "        vertical-align: middle;\n",
       "    }\n",
       "\n",
       "    .dataframe tbody tr th {\n",
       "        vertical-align: top;\n",
       "    }\n",
       "\n",
       "    .dataframe thead th {\n",
       "        text-align: right;\n",
       "    }\n",
       "</style>\n",
       "<table border=\"1\" class=\"dataframe\">\n",
       "  <thead>\n",
       "    <tr style=\"text-align: right;\">\n",
       "      <th>Predicted</th>\n",
       "      <th>Down</th>\n",
       "      <th>Up</th>\n",
       "      <th>All</th>\n",
       "    </tr>\n",
       "    <tr>\n",
       "      <th>Actural</th>\n",
       "      <th></th>\n",
       "      <th></th>\n",
       "      <th></th>\n",
       "    </tr>\n",
       "  </thead>\n",
       "  <tbody>\n",
       "    <tr>\n",
       "      <th>Down</th>\n",
       "      <td>21</td>\n",
       "      <td>22</td>\n",
       "      <td>43</td>\n",
       "    </tr>\n",
       "    <tr>\n",
       "      <th>Up</th>\n",
       "      <td>20</td>\n",
       "      <td>41</td>\n",
       "      <td>61</td>\n",
       "    </tr>\n",
       "    <tr>\n",
       "      <th>All</th>\n",
       "      <td>41</td>\n",
       "      <td>63</td>\n",
       "      <td>104</td>\n",
       "    </tr>\n",
       "  </tbody>\n",
       "</table>\n",
       "</div>"
      ],
      "text/plain": [
       "Predicted  Down  Up  All\n",
       "Actural                 \n",
       "Down         21  22   43\n",
       "Up           20  41   61\n",
       "All          41  63  104"
      ]
     },
     "metadata": {},
     "output_type": "display_data"
    },
    {
     "name": "stdout",
     "output_type": "stream",
     "text": [
      "correct rate: 0.5961538461538461\n"
     ]
    }
   ],
   "source": [
    "correct_rate=0\n",
    "n=0\n",
    "for i in range(30):\n",
    "    knn = KNeighborsClassifier(n_neighbors=i+1)\n",
    "    knn.fit(X_train,y_train)\n",
    "    y_pred=knn.predict(X_test)\n",
    "    df_confusion=pd.crosstab(y_test,y_pred,rownames=['Actural'],colnames=['Predicted'],margins=True)\n",
    "    rate=(df_confusion.at['Up','Up']+df_confusion.at['Down','Down'])/df_confusion.at['All','All']\n",
    "    if rate>correct_rate:\n",
    "        correct_rate=rate\n",
    "        n=i+1\n",
    "\n",
    "knn=KNeighborsClassifier(n_neighbors=n)\n",
    "knn.fit(X_train,y_train)\n",
    "y_pred=knn.predict(X_test)\n",
    "df_confusion=pd.crosstab(y_test,y_pred,rownames=['Actural'],colnames=['Predicted'],margins=True)\n",
    "print(f'knn-{n} with lag1 and lag2:')\n",
    "display(df_confusion)\n",
    "print('correct rate:',(df_confusion.at['Up','Up']+df_confusion.at['Down','Down'])/df_confusion.at['All','All'])\n",
    "list_2.append((df_confusion.at['Up','Up']+df_confusion.at['Down','Down'])/df_confusion.at['All','All'])"
   ]
  },
  {
   "cell_type": "markdown",
   "id": "b4a6fb61-2655-4d3d-ab77-e50c58293259",
   "metadata": {},
   "source": [
    "### (h) naive Bayes"
   ]
  },
  {
   "cell_type": "code",
   "execution_count": 48,
   "id": "d72394ea-693b-4a4f-8936-62814e85f7a1",
   "metadata": {},
   "outputs": [
    {
     "name": "stdout",
     "output_type": "stream",
     "text": [
      "Gaussian naive Gayes confusion matrix:\n"
     ]
    },
    {
     "data": {
      "text/html": [
       "<div>\n",
       "<style scoped>\n",
       "    .dataframe tbody tr th:only-of-type {\n",
       "        vertical-align: middle;\n",
       "    }\n",
       "\n",
       "    .dataframe tbody tr th {\n",
       "        vertical-align: top;\n",
       "    }\n",
       "\n",
       "    .dataframe thead th {\n",
       "        text-align: right;\n",
       "    }\n",
       "</style>\n",
       "<table border=\"1\" class=\"dataframe\">\n",
       "  <thead>\n",
       "    <tr style=\"text-align: right;\">\n",
       "      <th>Predicted</th>\n",
       "      <th>Up</th>\n",
       "      <th>All</th>\n",
       "    </tr>\n",
       "    <tr>\n",
       "      <th>Actual</th>\n",
       "      <th></th>\n",
       "      <th></th>\n",
       "    </tr>\n",
       "  </thead>\n",
       "  <tbody>\n",
       "    <tr>\n",
       "      <th>Down</th>\n",
       "      <td>43</td>\n",
       "      <td>43</td>\n",
       "    </tr>\n",
       "    <tr>\n",
       "      <th>Up</th>\n",
       "      <td>61</td>\n",
       "      <td>61</td>\n",
       "    </tr>\n",
       "    <tr>\n",
       "      <th>All</th>\n",
       "      <td>104</td>\n",
       "      <td>104</td>\n",
       "    </tr>\n",
       "  </tbody>\n",
       "</table>\n",
       "</div>"
      ],
      "text/plain": [
       "Predicted   Up  All\n",
       "Actual             \n",
       "Down        43   43\n",
       "Up          61   61\n",
       "All        104  104"
      ]
     },
     "metadata": {},
     "output_type": "display_data"
    },
    {
     "name": "stdout",
     "output_type": "stream",
     "text": [
      "0.5865384615384616\n"
     ]
    }
   ],
   "source": [
    "gnb = GaussianNB()\n",
    "gnb.fit(X_train, y_train)\n",
    "\n",
    "y_pred=gnb.predict(X_test)\n",
    "\n",
    "df_confusion_gnb = pd.crosstab(y_test, y_pred)\n",
    "df_confusion_gnb = pd.crosstab(y_test, y_pred, rownames=['Actual'], colnames=['Predicted'], margins=True)\n",
    "print('Gaussian naive Gayes confusion matrix:')\n",
    "display(df_confusion_gnb)\n",
    "print((df_confusion_gnb.at['Up', 'Up']) / df_confusion_gnb.at['All', 'All'])\n",
    "list_2.append(df_confusion_gnb.at['Up','Up']/df_confusion_gnb.at['All','All'])"
   ]
  },
  {
   "cell_type": "markdown",
   "id": "7534871e-931d-4d64-84b1-e19866169a34",
   "metadata": {},
   "source": [
    "### (i) comparation"
   ]
  },
  {
   "cell_type": "markdown",
   "id": "fd35aa41-aa81-44af-aee6-4de73a7fe122",
   "metadata": {},
   "source": [
    "<p>In concusion, Logistic regression and LDA appear to provide better result with $0.625$ correct rate.<\\p>"
   ]
  },
  {
   "cell_type": "markdown",
   "id": "1f8dbd5f-5934-476c-9b7e-ccf6cc183306",
   "metadata": {},
   "source": [
    "### (j) different predictions"
   ]
  },
  {
   "cell_type": "markdown",
   "id": "d9ca0958-0c90-4ecf-ab4e-2759b3e88496",
   "metadata": {},
   "source": [
    "#### Lag1 and Lag2 "
   ]
  },
  {
   "cell_type": "code",
   "execution_count": 49,
   "id": "4af0d2f4-f426-4b5e-9653-5424ac975cdf",
   "metadata": {},
   "outputs": [],
   "source": [
    "features=['Lag1','Lag2']\n",
    "response='Direction'\n",
    "X_train=df_weekly[df_weekly.Year<=2008][features]\n",
    "y_train=df_weekly[df_weekly.Year<=2008][response]\n",
    "X_test=df_weekly[df_weekly.Year>2008][features]\n",
    "y_test=df_weekly[df_weekly.Year>2008][response]\n",
    "list_12=[]"
   ]
  },
  {
   "cell_type": "markdown",
   "id": "94b11ea7-7753-470d-8862-b11b79cf0412",
   "metadata": {},
   "source": [
    "LR"
   ]
  },
  {
   "cell_type": "code",
   "execution_count": 50,
   "id": "9e5e9422-d1b9-4819-9e6b-da9e8b5884f7",
   "metadata": {},
   "outputs": [
    {
     "name": "stdout",
     "output_type": "stream",
     "text": [
      "Logistic regression of lag1 and lag2 confusion matrix:\n"
     ]
    },
    {
     "data": {
      "text/html": [
       "<div>\n",
       "<style scoped>\n",
       "    .dataframe tbody tr th:only-of-type {\n",
       "        vertical-align: middle;\n",
       "    }\n",
       "\n",
       "    .dataframe tbody tr th {\n",
       "        vertical-align: top;\n",
       "    }\n",
       "\n",
       "    .dataframe thead th {\n",
       "        text-align: right;\n",
       "    }\n",
       "</style>\n",
       "<table border=\"1\" class=\"dataframe\">\n",
       "  <thead>\n",
       "    <tr style=\"text-align: right;\">\n",
       "      <th>Predicted</th>\n",
       "      <th>Down</th>\n",
       "      <th>Up</th>\n",
       "      <th>All</th>\n",
       "    </tr>\n",
       "    <tr>\n",
       "      <th>Actural</th>\n",
       "      <th></th>\n",
       "      <th></th>\n",
       "      <th></th>\n",
       "    </tr>\n",
       "  </thead>\n",
       "  <tbody>\n",
       "    <tr>\n",
       "      <th>Down</th>\n",
       "      <td>7</td>\n",
       "      <td>36</td>\n",
       "      <td>43</td>\n",
       "    </tr>\n",
       "    <tr>\n",
       "      <th>Up</th>\n",
       "      <td>8</td>\n",
       "      <td>53</td>\n",
       "      <td>61</td>\n",
       "    </tr>\n",
       "    <tr>\n",
       "      <th>All</th>\n",
       "      <td>15</td>\n",
       "      <td>89</td>\n",
       "      <td>104</td>\n",
       "    </tr>\n",
       "  </tbody>\n",
       "</table>\n",
       "</div>"
      ],
      "text/plain": [
       "Predicted  Down  Up  All\n",
       "Actural                 \n",
       "Down          7  36   43\n",
       "Up            8  53   61\n",
       "All          15  89  104"
      ]
     },
     "metadata": {},
     "output_type": "display_data"
    },
    {
     "name": "stdout",
     "output_type": "stream",
     "text": [
      "correct rate: 0.5769230769230769\n"
     ]
    }
   ],
   "source": [
    "logreg=LogisticRegression(penalty='none')\n",
    "logreg.fit(X_train,y_train)\n",
    "y_pred=logreg.predict(X_test)\n",
    "\n",
    "df_confusion=pd.crosstab(y_test,y_pred,rownames=['Actural'],colnames=['Predicted'],margins=True)\n",
    "print('Logistic regression of lag1 and lag2 confusion matrix:')\n",
    "display(df_confusion)\n",
    "correct_rate=(df_confusion.at['Up','Up']+df_confusion.at['Down','Down'])/df_confusion.at['All','All']\n",
    "print('correct rate:',correct_rate)\n",
    "list_12.append(correct_rate)"
   ]
  },
  {
   "cell_type": "markdown",
   "id": "3a219fe7-7eb7-413c-8e7d-5fe319c27e8c",
   "metadata": {},
   "source": [
    "LDA"
   ]
  },
  {
   "cell_type": "code",
   "execution_count": 51,
   "id": "f5f5be92-692d-49c9-8944-af823f589827",
   "metadata": {},
   "outputs": [
    {
     "name": "stdout",
     "output_type": "stream",
     "text": [
      "LDA with lag1 and lag2:\n"
     ]
    },
    {
     "data": {
      "text/html": [
       "<div>\n",
       "<style scoped>\n",
       "    .dataframe tbody tr th:only-of-type {\n",
       "        vertical-align: middle;\n",
       "    }\n",
       "\n",
       "    .dataframe tbody tr th {\n",
       "        vertical-align: top;\n",
       "    }\n",
       "\n",
       "    .dataframe thead th {\n",
       "        text-align: right;\n",
       "    }\n",
       "</style>\n",
       "<table border=\"1\" class=\"dataframe\">\n",
       "  <thead>\n",
       "    <tr style=\"text-align: right;\">\n",
       "      <th>Predicted</th>\n",
       "      <th>Down</th>\n",
       "      <th>Up</th>\n",
       "      <th>All</th>\n",
       "    </tr>\n",
       "    <tr>\n",
       "      <th>Actural</th>\n",
       "      <th></th>\n",
       "      <th></th>\n",
       "      <th></th>\n",
       "    </tr>\n",
       "  </thead>\n",
       "  <tbody>\n",
       "    <tr>\n",
       "      <th>Down</th>\n",
       "      <td>7</td>\n",
       "      <td>36</td>\n",
       "      <td>43</td>\n",
       "    </tr>\n",
       "    <tr>\n",
       "      <th>Up</th>\n",
       "      <td>8</td>\n",
       "      <td>53</td>\n",
       "      <td>61</td>\n",
       "    </tr>\n",
       "    <tr>\n",
       "      <th>All</th>\n",
       "      <td>15</td>\n",
       "      <td>89</td>\n",
       "      <td>104</td>\n",
       "    </tr>\n",
       "  </tbody>\n",
       "</table>\n",
       "</div>"
      ],
      "text/plain": [
       "Predicted  Down  Up  All\n",
       "Actural                 \n",
       "Down          7  36   43\n",
       "Up            8  53   61\n",
       "All          15  89  104"
      ]
     },
     "metadata": {},
     "output_type": "display_data"
    },
    {
     "name": "stdout",
     "output_type": "stream",
     "text": [
      "correct rate: 0.5769230769230769\n"
     ]
    }
   ],
   "source": [
    "lda=LDA()\n",
    "lda.fit(X_train,y_train)\n",
    "y_pred=lda.predict(X_test)\n",
    "\n",
    "df_confusion=pd.crosstab(y_test,y_pred,rownames=['Actural'],colnames=['Predicted'],margins=True)\n",
    "print('LDA with lag1 and lag2:')\n",
    "display(df_confusion)\n",
    "print('correct rate:',(df_confusion.at['Up','Up']+df_confusion.at['Down','Down'])/df_confusion.at['All','All'])\n",
    "list_12.append((df_confusion.at['Up','Up']+df_confusion.at['Down','Down'])/df_confusion.at['All','All'])"
   ]
  },
  {
   "cell_type": "markdown",
   "id": "dfbead8c-c3e8-46ad-a547-6360d8e4422c",
   "metadata": {},
   "source": [
    "QDA"
   ]
  },
  {
   "cell_type": "code",
   "execution_count": 52,
   "id": "1160364c-678d-484b-957b-f802ad348f6a",
   "metadata": {},
   "outputs": [
    {
     "name": "stdout",
     "output_type": "stream",
     "text": [
      "QDA with lag1 and lag2:\n"
     ]
    },
    {
     "data": {
      "text/html": [
       "<div>\n",
       "<style scoped>\n",
       "    .dataframe tbody tr th:only-of-type {\n",
       "        vertical-align: middle;\n",
       "    }\n",
       "\n",
       "    .dataframe tbody tr th {\n",
       "        vertical-align: top;\n",
       "    }\n",
       "\n",
       "    .dataframe thead th {\n",
       "        text-align: right;\n",
       "    }\n",
       "</style>\n",
       "<table border=\"1\" class=\"dataframe\">\n",
       "  <thead>\n",
       "    <tr style=\"text-align: right;\">\n",
       "      <th>Predicted</th>\n",
       "      <th>Down</th>\n",
       "      <th>Up</th>\n",
       "      <th>All</th>\n",
       "    </tr>\n",
       "    <tr>\n",
       "      <th>Actural</th>\n",
       "      <th></th>\n",
       "      <th></th>\n",
       "      <th></th>\n",
       "    </tr>\n",
       "  </thead>\n",
       "  <tbody>\n",
       "    <tr>\n",
       "      <th>Down</th>\n",
       "      <td>7</td>\n",
       "      <td>36</td>\n",
       "      <td>43</td>\n",
       "    </tr>\n",
       "    <tr>\n",
       "      <th>Up</th>\n",
       "      <td>10</td>\n",
       "      <td>51</td>\n",
       "      <td>61</td>\n",
       "    </tr>\n",
       "    <tr>\n",
       "      <th>All</th>\n",
       "      <td>17</td>\n",
       "      <td>87</td>\n",
       "      <td>104</td>\n",
       "    </tr>\n",
       "  </tbody>\n",
       "</table>\n",
       "</div>"
      ],
      "text/plain": [
       "Predicted  Down  Up  All\n",
       "Actural                 \n",
       "Down          7  36   43\n",
       "Up           10  51   61\n",
       "All          17  87  104"
      ]
     },
     "metadata": {},
     "output_type": "display_data"
    },
    {
     "name": "stdout",
     "output_type": "stream",
     "text": [
      "correct rate: 0.5576923076923077\n"
     ]
    }
   ],
   "source": [
    "lda=QDA()\n",
    "qda.fit(X_train,y_train)\n",
    "y_pred=qda.predict(X_test)\n",
    "\n",
    "df_confusion=pd.crosstab(y_test,y_pred,rownames=['Actural'],colnames=['Predicted'],margins=True)\n",
    "print('QDA with lag1 and lag2:')\n",
    "display(df_confusion)\n",
    "print('correct rate:',(df_confusion.at['Up','Up']+df_confusion.at['Down','Down'])/df_confusion.at['All','All'])\n",
    "list_12.append((df_confusion.at['Up','Up']+df_confusion.at['Down','Down'])/df_confusion.at['All','All'])"
   ]
  },
  {
   "cell_type": "markdown",
   "id": "2bc01ad5-3517-4acd-8808-8ca8593f11ab",
   "metadata": {},
   "source": [
    "KNN-k"
   ]
  },
  {
   "cell_type": "code",
   "execution_count": 53,
   "id": "ba5f462c-8796-4237-8867-e192fb8ad471",
   "metadata": {},
   "outputs": [
    {
     "name": "stdout",
     "output_type": "stream",
     "text": [
      "knn-25 with lag1 and lag2:\n"
     ]
    },
    {
     "data": {
      "text/html": [
       "<div>\n",
       "<style scoped>\n",
       "    .dataframe tbody tr th:only-of-type {\n",
       "        vertical-align: middle;\n",
       "    }\n",
       "\n",
       "    .dataframe tbody tr th {\n",
       "        vertical-align: top;\n",
       "    }\n",
       "\n",
       "    .dataframe thead th {\n",
       "        text-align: right;\n",
       "    }\n",
       "</style>\n",
       "<table border=\"1\" class=\"dataframe\">\n",
       "  <thead>\n",
       "    <tr style=\"text-align: right;\">\n",
       "      <th>Predicted</th>\n",
       "      <th>Down</th>\n",
       "      <th>Up</th>\n",
       "      <th>All</th>\n",
       "    </tr>\n",
       "    <tr>\n",
       "      <th>Actural</th>\n",
       "      <th></th>\n",
       "      <th></th>\n",
       "      <th></th>\n",
       "    </tr>\n",
       "  </thead>\n",
       "  <tbody>\n",
       "    <tr>\n",
       "      <th>Down</th>\n",
       "      <td>22</td>\n",
       "      <td>21</td>\n",
       "      <td>43</td>\n",
       "    </tr>\n",
       "    <tr>\n",
       "      <th>Up</th>\n",
       "      <td>18</td>\n",
       "      <td>43</td>\n",
       "      <td>61</td>\n",
       "    </tr>\n",
       "    <tr>\n",
       "      <th>All</th>\n",
       "      <td>40</td>\n",
       "      <td>64</td>\n",
       "      <td>104</td>\n",
       "    </tr>\n",
       "  </tbody>\n",
       "</table>\n",
       "</div>"
      ],
      "text/plain": [
       "Predicted  Down  Up  All\n",
       "Actural                 \n",
       "Down         22  21   43\n",
       "Up           18  43   61\n",
       "All          40  64  104"
      ]
     },
     "metadata": {},
     "output_type": "display_data"
    },
    {
     "name": "stdout",
     "output_type": "stream",
     "text": [
      "correct rate: 0.625\n"
     ]
    }
   ],
   "source": [
    "correct_rate=0\n",
    "n=0\n",
    "for i in range(30):\n",
    "    knn = KNeighborsClassifier(n_neighbors=i+1)\n",
    "    knn.fit(X_train,y_train)\n",
    "    y_pred=knn.predict(X_test)\n",
    "    df_confusion=pd.crosstab(y_test,y_pred,rownames=['Actural'],colnames=['Predicted'],margins=True)\n",
    "    rate=(df_confusion.at['Up','Up']+df_confusion.at['Down','Down'])/df_confusion.at['All','All']\n",
    "    if rate>correct_rate:\n",
    "        correct_rate=rate\n",
    "        n=i+1\n",
    "\n",
    "knn=KNeighborsClassifier(n_neighbors=n)\n",
    "knn.fit(X_train,y_train)\n",
    "y_pred=knn.predict(X_test)\n",
    "df_confusion=pd.crosstab(y_test,y_pred,rownames=['Actural'],colnames=['Predicted'],margins=True)\n",
    "print(f'knn-{n} with lag1 and lag2:')\n",
    "display(df_confusion)\n",
    "print('correct rate:',(df_confusion.at['Up','Up']+df_confusion.at['Down','Down'])/df_confusion.at['All','All'])\n",
    "list_12.append((df_confusion.at['Up','Up']+df_confusion.at['Down','Down'])/df_confusion.at['All','All'])"
   ]
  },
  {
   "cell_type": "markdown",
   "id": "830388a9-94d7-44aa-a718-5335b65428fd",
   "metadata": {},
   "source": [
    "naive Bayes"
   ]
  },
  {
   "cell_type": "code",
   "execution_count": 54,
   "id": "a7fadd76-f7e6-43c8-8435-c1aca24c32f3",
   "metadata": {},
   "outputs": [
    {
     "name": "stdout",
     "output_type": "stream",
     "text": [
      "Gaussian naive Gayes confusion matrix:\n"
     ]
    },
    {
     "data": {
      "text/html": [
       "<div>\n",
       "<style scoped>\n",
       "    .dataframe tbody tr th:only-of-type {\n",
       "        vertical-align: middle;\n",
       "    }\n",
       "\n",
       "    .dataframe tbody tr th {\n",
       "        vertical-align: top;\n",
       "    }\n",
       "\n",
       "    .dataframe thead th {\n",
       "        text-align: right;\n",
       "    }\n",
       "</style>\n",
       "<table border=\"1\" class=\"dataframe\">\n",
       "  <thead>\n",
       "    <tr style=\"text-align: right;\">\n",
       "      <th>Predicted</th>\n",
       "      <th>Down</th>\n",
       "      <th>Up</th>\n",
       "      <th>All</th>\n",
       "    </tr>\n",
       "    <tr>\n",
       "      <th>Actual</th>\n",
       "      <th></th>\n",
       "      <th></th>\n",
       "      <th></th>\n",
       "    </tr>\n",
       "  </thead>\n",
       "  <tbody>\n",
       "    <tr>\n",
       "      <th>Down</th>\n",
       "      <td>3</td>\n",
       "      <td>40</td>\n",
       "      <td>43</td>\n",
       "    </tr>\n",
       "    <tr>\n",
       "      <th>Up</th>\n",
       "      <td>8</td>\n",
       "      <td>53</td>\n",
       "      <td>61</td>\n",
       "    </tr>\n",
       "    <tr>\n",
       "      <th>All</th>\n",
       "      <td>11</td>\n",
       "      <td>93</td>\n",
       "      <td>104</td>\n",
       "    </tr>\n",
       "  </tbody>\n",
       "</table>\n",
       "</div>"
      ],
      "text/plain": [
       "Predicted  Down  Up  All\n",
       "Actual                  \n",
       "Down          3  40   43\n",
       "Up            8  53   61\n",
       "All          11  93  104"
      ]
     },
     "metadata": {},
     "output_type": "display_data"
    },
    {
     "name": "stdout",
     "output_type": "stream",
     "text": [
      "0.5384615384615384\n"
     ]
    }
   ],
   "source": [
    "gnb = GaussianNB()\n",
    "gnb.fit(X_train, y_train)\n",
    "\n",
    "y_pred=gnb.predict(X_test)\n",
    "\n",
    "df_confusion = pd.crosstab(y_test, y_pred)\n",
    "df_confusion = pd.crosstab(y_test, y_pred, rownames=['Actual'], colnames=['Predicted'], margins=True)\n",
    "print('Gaussian naive Gayes confusion matrix:')\n",
    "display(df_confusion)\n",
    "print((df_confusion.at['Up','Up']+df_confusion.at['Down','Down'])/df_confusion.at['All','All'])\n",
    "list_12.append((df_confusion.at['Up','Up']+df_confusion.at['Down','Down'])/df_confusion.at['All','All'])"
   ]
  },
  {
   "cell_type": "code",
   "execution_count": 55,
   "id": "e86031d9-4d3c-4cb9-b1c5-5f97b950f767",
   "metadata": {},
   "outputs": [
    {
     "data": {
      "text/plain": [
       "[0.5769230769230769,\n",
       " 0.5769230769230769,\n",
       " 0.5576923076923077,\n",
       " 0.625,\n",
       " 0.5384615384615384]"
      ]
     },
     "execution_count": 55,
     "metadata": {},
     "output_type": "execute_result"
    }
   ],
   "source": [
    "list_12"
   ]
  },
  {
   "cell_type": "markdown",
   "id": "de672bc0-b279-472b-bda2-4b63672336a9",
   "metadata": {},
   "source": [
    "#### Lag1 Lag2 Lag4"
   ]
  },
  {
   "cell_type": "code",
   "execution_count": 56,
   "id": "9b6ca8d8-6ee2-4345-99bb-a82d8669196a",
   "metadata": {},
   "outputs": [],
   "source": [
    "features=['Lag1','Lag2','Lag4']\n",
    "response='Direction'\n",
    "X_train=df_weekly[df_weekly.Year<=2008][features]\n",
    "y_train=df_weekly[df_weekly.Year<=2008][response]\n",
    "X_test=df_weekly[df_weekly.Year>2008][features]\n",
    "y_test=df_weekly[df_weekly.Year>2008][response]\n",
    "list_124=[]"
   ]
  },
  {
   "cell_type": "markdown",
   "id": "567391da-fd91-42aa-9787-129c3d57203c",
   "metadata": {},
   "source": [
    "LR"
   ]
  },
  {
   "cell_type": "code",
   "execution_count": 57,
   "id": "b37cb063-0543-4354-861e-3128df5b4bc8",
   "metadata": {},
   "outputs": [
    {
     "name": "stdout",
     "output_type": "stream",
     "text": [
      "Logistic regression of lag1 and lag2 confusion matrix:\n"
     ]
    },
    {
     "data": {
      "text/html": [
       "<div>\n",
       "<style scoped>\n",
       "    .dataframe tbody tr th:only-of-type {\n",
       "        vertical-align: middle;\n",
       "    }\n",
       "\n",
       "    .dataframe tbody tr th {\n",
       "        vertical-align: top;\n",
       "    }\n",
       "\n",
       "    .dataframe thead th {\n",
       "        text-align: right;\n",
       "    }\n",
       "</style>\n",
       "<table border=\"1\" class=\"dataframe\">\n",
       "  <thead>\n",
       "    <tr style=\"text-align: right;\">\n",
       "      <th>Predicted</th>\n",
       "      <th>Down</th>\n",
       "      <th>Up</th>\n",
       "      <th>All</th>\n",
       "    </tr>\n",
       "    <tr>\n",
       "      <th>Actural</th>\n",
       "      <th></th>\n",
       "      <th></th>\n",
       "      <th></th>\n",
       "    </tr>\n",
       "  </thead>\n",
       "  <tbody>\n",
       "    <tr>\n",
       "      <th>Down</th>\n",
       "      <td>9</td>\n",
       "      <td>34</td>\n",
       "      <td>43</td>\n",
       "    </tr>\n",
       "    <tr>\n",
       "      <th>Up</th>\n",
       "      <td>7</td>\n",
       "      <td>54</td>\n",
       "      <td>61</td>\n",
       "    </tr>\n",
       "    <tr>\n",
       "      <th>All</th>\n",
       "      <td>16</td>\n",
       "      <td>88</td>\n",
       "      <td>104</td>\n",
       "    </tr>\n",
       "  </tbody>\n",
       "</table>\n",
       "</div>"
      ],
      "text/plain": [
       "Predicted  Down  Up  All\n",
       "Actural                 \n",
       "Down          9  34   43\n",
       "Up            7  54   61\n",
       "All          16  88  104"
      ]
     },
     "metadata": {},
     "output_type": "display_data"
    },
    {
     "name": "stdout",
     "output_type": "stream",
     "text": [
      "correct rate: 0.6057692307692307\n"
     ]
    }
   ],
   "source": [
    "logreg=LogisticRegression(penalty='none')\n",
    "logreg.fit(X_train,y_train)\n",
    "y_pred=logreg.predict(X_test)\n",
    "\n",
    "df_confusion=pd.crosstab(y_test,y_pred,rownames=['Actural'],colnames=['Predicted'],margins=True)\n",
    "print('Logistic regression of lag1 and lag2 confusion matrix:')\n",
    "display(df_confusion)\n",
    "correct_rate=(df_confusion.at['Up','Up']+df_confusion.at['Down','Down'])/df_confusion.at['All','All']\n",
    "print('correct rate:',correct_rate)\n",
    "list_124.append(correct_rate)"
   ]
  },
  {
   "cell_type": "markdown",
   "id": "0e8c08ff-f56c-4421-9e6b-218cc65226f2",
   "metadata": {},
   "source": [
    "LDA"
   ]
  },
  {
   "cell_type": "code",
   "execution_count": 58,
   "id": "5cef41b2-04aa-4e60-9deb-e47322d27f5f",
   "metadata": {},
   "outputs": [
    {
     "name": "stdout",
     "output_type": "stream",
     "text": [
      "LDA with lag1 and lag2:\n"
     ]
    },
    {
     "data": {
      "text/html": [
       "<div>\n",
       "<style scoped>\n",
       "    .dataframe tbody tr th:only-of-type {\n",
       "        vertical-align: middle;\n",
       "    }\n",
       "\n",
       "    .dataframe tbody tr th {\n",
       "        vertical-align: top;\n",
       "    }\n",
       "\n",
       "    .dataframe thead th {\n",
       "        text-align: right;\n",
       "    }\n",
       "</style>\n",
       "<table border=\"1\" class=\"dataframe\">\n",
       "  <thead>\n",
       "    <tr style=\"text-align: right;\">\n",
       "      <th>Predicted</th>\n",
       "      <th>Down</th>\n",
       "      <th>Up</th>\n",
       "      <th>All</th>\n",
       "    </tr>\n",
       "    <tr>\n",
       "      <th>Actural</th>\n",
       "      <th></th>\n",
       "      <th></th>\n",
       "      <th></th>\n",
       "    </tr>\n",
       "  </thead>\n",
       "  <tbody>\n",
       "    <tr>\n",
       "      <th>Down</th>\n",
       "      <td>9</td>\n",
       "      <td>34</td>\n",
       "      <td>43</td>\n",
       "    </tr>\n",
       "    <tr>\n",
       "      <th>Up</th>\n",
       "      <td>7</td>\n",
       "      <td>54</td>\n",
       "      <td>61</td>\n",
       "    </tr>\n",
       "    <tr>\n",
       "      <th>All</th>\n",
       "      <td>16</td>\n",
       "      <td>88</td>\n",
       "      <td>104</td>\n",
       "    </tr>\n",
       "  </tbody>\n",
       "</table>\n",
       "</div>"
      ],
      "text/plain": [
       "Predicted  Down  Up  All\n",
       "Actural                 \n",
       "Down          9  34   43\n",
       "Up            7  54   61\n",
       "All          16  88  104"
      ]
     },
     "metadata": {},
     "output_type": "display_data"
    },
    {
     "name": "stdout",
     "output_type": "stream",
     "text": [
      "correct rate: 0.6057692307692307\n"
     ]
    }
   ],
   "source": [
    "lda=LDA()\n",
    "lda.fit(X_train,y_train)\n",
    "y_pred=lda.predict(X_test)\n",
    "\n",
    "df_confusion=pd.crosstab(y_test,y_pred,rownames=['Actural'],colnames=['Predicted'],margins=True)\n",
    "print('LDA with lag1 and lag2:')\n",
    "display(df_confusion)\n",
    "print('correct rate:',(df_confusion.at['Up','Up']+df_confusion.at['Down','Down'])/df_confusion.at['All','All'])\n",
    "list_124.append((df_confusion.at['Up','Up']+df_confusion.at['Down','Down'])/df_confusion.at['All','All'])"
   ]
  },
  {
   "cell_type": "markdown",
   "id": "a301c588-4b8f-4b06-8268-a3ded006df00",
   "metadata": {},
   "source": [
    "QDA"
   ]
  },
  {
   "cell_type": "code",
   "execution_count": 59,
   "id": "697910bd-b2b8-4f06-8917-8d56be63c889",
   "metadata": {},
   "outputs": [
    {
     "name": "stdout",
     "output_type": "stream",
     "text": [
      "QDA with lag1 and lag2:\n"
     ]
    },
    {
     "data": {
      "text/html": [
       "<div>\n",
       "<style scoped>\n",
       "    .dataframe tbody tr th:only-of-type {\n",
       "        vertical-align: middle;\n",
       "    }\n",
       "\n",
       "    .dataframe tbody tr th {\n",
       "        vertical-align: top;\n",
       "    }\n",
       "\n",
       "    .dataframe thead th {\n",
       "        text-align: right;\n",
       "    }\n",
       "</style>\n",
       "<table border=\"1\" class=\"dataframe\">\n",
       "  <thead>\n",
       "    <tr style=\"text-align: right;\">\n",
       "      <th>Predicted</th>\n",
       "      <th>Down</th>\n",
       "      <th>Up</th>\n",
       "      <th>All</th>\n",
       "    </tr>\n",
       "    <tr>\n",
       "      <th>Actural</th>\n",
       "      <th></th>\n",
       "      <th></th>\n",
       "      <th></th>\n",
       "    </tr>\n",
       "  </thead>\n",
       "  <tbody>\n",
       "    <tr>\n",
       "      <th>Down</th>\n",
       "      <td>9</td>\n",
       "      <td>34</td>\n",
       "      <td>43</td>\n",
       "    </tr>\n",
       "    <tr>\n",
       "      <th>Up</th>\n",
       "      <td>20</td>\n",
       "      <td>41</td>\n",
       "      <td>61</td>\n",
       "    </tr>\n",
       "    <tr>\n",
       "      <th>All</th>\n",
       "      <td>29</td>\n",
       "      <td>75</td>\n",
       "      <td>104</td>\n",
       "    </tr>\n",
       "  </tbody>\n",
       "</table>\n",
       "</div>"
      ],
      "text/plain": [
       "Predicted  Down  Up  All\n",
       "Actural                 \n",
       "Down          9  34   43\n",
       "Up           20  41   61\n",
       "All          29  75  104"
      ]
     },
     "metadata": {},
     "output_type": "display_data"
    },
    {
     "name": "stdout",
     "output_type": "stream",
     "text": [
      "correct rate: 0.4807692307692308\n"
     ]
    }
   ],
   "source": [
    "lda=QDA()\n",
    "qda.fit(X_train,y_train)\n",
    "y_pred=qda.predict(X_test)\n",
    "\n",
    "df_confusion=pd.crosstab(y_test,y_pred,rownames=['Actural'],colnames=['Predicted'],margins=True)\n",
    "print('QDA with lag1 and lag2:')\n",
    "display(df_confusion)\n",
    "print('correct rate:',(df_confusion.at['Up','Up']+df_confusion.at['Down','Down'])/df_confusion.at['All','All'])\n",
    "list_124.append((df_confusion.at['Up','Up']+df_confusion.at['Down','Down'])/df_confusion.at['All','All'])"
   ]
  },
  {
   "cell_type": "markdown",
   "id": "acf45622-ad55-42ab-b20a-dd816f5f04e8",
   "metadata": {},
   "source": [
    "KNN-k"
   ]
  },
  {
   "cell_type": "code",
   "execution_count": 60,
   "id": "1c1f0625-0a88-4b91-b3b7-c0a0fd25a4b5",
   "metadata": {},
   "outputs": [
    {
     "name": "stdout",
     "output_type": "stream",
     "text": [
      "knn-5 with lag1 and lag2:\n"
     ]
    },
    {
     "data": {
      "text/html": [
       "<div>\n",
       "<style scoped>\n",
       "    .dataframe tbody tr th:only-of-type {\n",
       "        vertical-align: middle;\n",
       "    }\n",
       "\n",
       "    .dataframe tbody tr th {\n",
       "        vertical-align: top;\n",
       "    }\n",
       "\n",
       "    .dataframe thead th {\n",
       "        text-align: right;\n",
       "    }\n",
       "</style>\n",
       "<table border=\"1\" class=\"dataframe\">\n",
       "  <thead>\n",
       "    <tr style=\"text-align: right;\">\n",
       "      <th>Predicted</th>\n",
       "      <th>Down</th>\n",
       "      <th>Up</th>\n",
       "      <th>All</th>\n",
       "    </tr>\n",
       "    <tr>\n",
       "      <th>Actural</th>\n",
       "      <th></th>\n",
       "      <th></th>\n",
       "      <th></th>\n",
       "    </tr>\n",
       "  </thead>\n",
       "  <tbody>\n",
       "    <tr>\n",
       "      <th>Down</th>\n",
       "      <td>19</td>\n",
       "      <td>24</td>\n",
       "      <td>43</td>\n",
       "    </tr>\n",
       "    <tr>\n",
       "      <th>Up</th>\n",
       "      <td>23</td>\n",
       "      <td>38</td>\n",
       "      <td>61</td>\n",
       "    </tr>\n",
       "    <tr>\n",
       "      <th>All</th>\n",
       "      <td>42</td>\n",
       "      <td>62</td>\n",
       "      <td>104</td>\n",
       "    </tr>\n",
       "  </tbody>\n",
       "</table>\n",
       "</div>"
      ],
      "text/plain": [
       "Predicted  Down  Up  All\n",
       "Actural                 \n",
       "Down         19  24   43\n",
       "Up           23  38   61\n",
       "All          42  62  104"
      ]
     },
     "metadata": {},
     "output_type": "display_data"
    },
    {
     "name": "stdout",
     "output_type": "stream",
     "text": [
      "correct rate: 0.5480769230769231\n"
     ]
    }
   ],
   "source": [
    "correct_rate=0\n",
    "n=0\n",
    "for i in range(30):\n",
    "    knn = KNeighborsClassifier(n_neighbors=i+1)\n",
    "    knn.fit(X_train,y_train)\n",
    "    y_pred=knn.predict(X_test)\n",
    "    df_confusion=pd.crosstab(y_test,y_pred,rownames=['Actural'],colnames=['Predicted'],margins=True)\n",
    "    rate=(df_confusion.at['Up','Up']+df_confusion.at['Down','Down'])/df_confusion.at['All','All']\n",
    "    if rate>correct_rate:\n",
    "        correct_rate=rate\n",
    "        n=i+1\n",
    "\n",
    "knn=KNeighborsClassifier(n_neighbors=n)\n",
    "knn.fit(X_train,y_train)\n",
    "y_pred=knn.predict(X_test)\n",
    "df_confusion=pd.crosstab(y_test,y_pred,rownames=['Actural'],colnames=['Predicted'],margins=True)\n",
    "print(f'knn-{n} with lag1 and lag2:')\n",
    "display(df_confusion)\n",
    "print('correct rate:',(df_confusion.at['Up','Up']+df_confusion.at['Down','Down'])/df_confusion.at['All','All'])\n",
    "list_124.append((df_confusion.at['Up','Up']+df_confusion.at['Down','Down'])/df_confusion.at['All','All'])"
   ]
  },
  {
   "cell_type": "markdown",
   "id": "5cfac46f-8b29-45bf-b927-160fb976a2eb",
   "metadata": {},
   "source": [
    "naive Bayes"
   ]
  },
  {
   "cell_type": "code",
   "execution_count": 61,
   "id": "51eeb2e5-22c0-4837-8309-344f8cfbf4c9",
   "metadata": {},
   "outputs": [
    {
     "name": "stdout",
     "output_type": "stream",
     "text": [
      "Gaussian naive Gayes confusion matrix:\n"
     ]
    },
    {
     "data": {
      "text/html": [
       "<div>\n",
       "<style scoped>\n",
       "    .dataframe tbody tr th:only-of-type {\n",
       "        vertical-align: middle;\n",
       "    }\n",
       "\n",
       "    .dataframe tbody tr th {\n",
       "        vertical-align: top;\n",
       "    }\n",
       "\n",
       "    .dataframe thead th {\n",
       "        text-align: right;\n",
       "    }\n",
       "</style>\n",
       "<table border=\"1\" class=\"dataframe\">\n",
       "  <thead>\n",
       "    <tr style=\"text-align: right;\">\n",
       "      <th>Predicted</th>\n",
       "      <th>Down</th>\n",
       "      <th>Up</th>\n",
       "      <th>All</th>\n",
       "    </tr>\n",
       "    <tr>\n",
       "      <th>Actual</th>\n",
       "      <th></th>\n",
       "      <th></th>\n",
       "      <th></th>\n",
       "    </tr>\n",
       "  </thead>\n",
       "  <tbody>\n",
       "    <tr>\n",
       "      <th>Down</th>\n",
       "      <td>8</td>\n",
       "      <td>35</td>\n",
       "      <td>43</td>\n",
       "    </tr>\n",
       "    <tr>\n",
       "      <th>Up</th>\n",
       "      <td>16</td>\n",
       "      <td>45</td>\n",
       "      <td>61</td>\n",
       "    </tr>\n",
       "    <tr>\n",
       "      <th>All</th>\n",
       "      <td>24</td>\n",
       "      <td>80</td>\n",
       "      <td>104</td>\n",
       "    </tr>\n",
       "  </tbody>\n",
       "</table>\n",
       "</div>"
      ],
      "text/plain": [
       "Predicted  Down  Up  All\n",
       "Actual                  \n",
       "Down          8  35   43\n",
       "Up           16  45   61\n",
       "All          24  80  104"
      ]
     },
     "metadata": {},
     "output_type": "display_data"
    },
    {
     "name": "stdout",
     "output_type": "stream",
     "text": [
      "0.5096153846153846\n"
     ]
    }
   ],
   "source": [
    "gnb = GaussianNB()\n",
    "gnb.fit(X_train, y_train)\n",
    "\n",
    "y_pred=gnb.predict(X_test)\n",
    "\n",
    "df_confusion = pd.crosstab(y_test, y_pred)\n",
    "df_confusion = pd.crosstab(y_test, y_pred, rownames=['Actual'], colnames=['Predicted'], margins=True)\n",
    "print('Gaussian naive Gayes confusion matrix:')\n",
    "display(df_confusion)\n",
    "print((df_confusion.at['Up','Up']+df_confusion.at['Down','Down'])/df_confusion.at['All','All'])\n",
    "list_124.append((df_confusion.at['Up','Up']+df_confusion.at['Down','Down'])/df_confusion.at['All','All'])"
   ]
  },
  {
   "cell_type": "code",
   "execution_count": 62,
   "id": "c46fe938-a647-4bf7-abe8-e7c2942ebe93",
   "metadata": {},
   "outputs": [
    {
     "data": {
      "text/plain": [
       "[0.6057692307692307,\n",
       " 0.6057692307692307,\n",
       " 0.4807692307692308,\n",
       " 0.5480769230769231,\n",
       " 0.5096153846153846]"
      ]
     },
     "execution_count": 62,
     "metadata": {},
     "output_type": "execute_result"
    }
   ],
   "source": [
    "list_124"
   ]
  },
  {
   "cell_type": "markdown",
   "id": "b7d4e5d1-9f3e-4dee-bcb8-6dfcf603b232",
   "metadata": {},
   "source": [
    "Lag2 Lag3"
   ]
  },
  {
   "cell_type": "code",
   "execution_count": 63,
   "id": "7c3e9276-e5a1-4965-8133-299771971386",
   "metadata": {},
   "outputs": [],
   "source": [
    "features=['Lag2','Lag3']\n",
    "response='Direction'\n",
    "X_train=df_weekly[df_weekly.Year<=2008][features]\n",
    "y_train=df_weekly[df_weekly.Year<=2008][response]\n",
    "X_test=df_weekly[df_weekly.Year>2008][features]\n",
    "y_test=df_weekly[df_weekly.Year>2008][response]\n",
    "list_23=[]"
   ]
  },
  {
   "cell_type": "markdown",
   "id": "61d4e7ff-e851-43cf-8fe9-61acf3ac35c2",
   "metadata": {},
   "source": [
    "LR"
   ]
  },
  {
   "cell_type": "code",
   "execution_count": 64,
   "id": "fe872ad4-ced1-4ed3-b409-d2770731fc99",
   "metadata": {},
   "outputs": [
    {
     "name": "stdout",
     "output_type": "stream",
     "text": [
      "Logistic regression of lag1 and lag2 confusion matrix:\n"
     ]
    },
    {
     "data": {
      "text/html": [
       "<div>\n",
       "<style scoped>\n",
       "    .dataframe tbody tr th:only-of-type {\n",
       "        vertical-align: middle;\n",
       "    }\n",
       "\n",
       "    .dataframe tbody tr th {\n",
       "        vertical-align: top;\n",
       "    }\n",
       "\n",
       "    .dataframe thead th {\n",
       "        text-align: right;\n",
       "    }\n",
       "</style>\n",
       "<table border=\"1\" class=\"dataframe\">\n",
       "  <thead>\n",
       "    <tr style=\"text-align: right;\">\n",
       "      <th>Predicted</th>\n",
       "      <th>Down</th>\n",
       "      <th>Up</th>\n",
       "      <th>All</th>\n",
       "    </tr>\n",
       "    <tr>\n",
       "      <th>Actural</th>\n",
       "      <th></th>\n",
       "      <th></th>\n",
       "      <th></th>\n",
       "    </tr>\n",
       "  </thead>\n",
       "  <tbody>\n",
       "    <tr>\n",
       "      <th>Down</th>\n",
       "      <td>8</td>\n",
       "      <td>35</td>\n",
       "      <td>43</td>\n",
       "    </tr>\n",
       "    <tr>\n",
       "      <th>Up</th>\n",
       "      <td>4</td>\n",
       "      <td>57</td>\n",
       "      <td>61</td>\n",
       "    </tr>\n",
       "    <tr>\n",
       "      <th>All</th>\n",
       "      <td>12</td>\n",
       "      <td>92</td>\n",
       "      <td>104</td>\n",
       "    </tr>\n",
       "  </tbody>\n",
       "</table>\n",
       "</div>"
      ],
      "text/plain": [
       "Predicted  Down  Up  All\n",
       "Actural                 \n",
       "Down          8  35   43\n",
       "Up            4  57   61\n",
       "All          12  92  104"
      ]
     },
     "metadata": {},
     "output_type": "display_data"
    },
    {
     "name": "stdout",
     "output_type": "stream",
     "text": [
      "correct rate: 0.625\n"
     ]
    }
   ],
   "source": [
    "logreg=LogisticRegression(penalty='none')\n",
    "logreg.fit(X_train,y_train)\n",
    "y_pred=logreg.predict(X_test)\n",
    "\n",
    "df_confusion=pd.crosstab(y_test,y_pred,rownames=['Actural'],colnames=['Predicted'],margins=True)\n",
    "print('Logistic regression of lag1 and lag2 confusion matrix:')\n",
    "display(df_confusion)\n",
    "correct_rate=(df_confusion.at['Up','Up']+df_confusion.at['Down','Down'])/df_confusion.at['All','All']\n",
    "print('correct rate:',correct_rate)\n",
    "list_23.append(correct_rate)"
   ]
  },
  {
   "cell_type": "markdown",
   "id": "0bfdd552-2d61-4b43-9c3f-a1e135cfab81",
   "metadata": {},
   "source": [
    "LDA"
   ]
  },
  {
   "cell_type": "code",
   "execution_count": 65,
   "id": "9c95bc31-a7e7-4541-b709-946e7e772560",
   "metadata": {},
   "outputs": [
    {
     "name": "stdout",
     "output_type": "stream",
     "text": [
      "LDA with lag1 and lag2:\n"
     ]
    },
    {
     "data": {
      "text/html": [
       "<div>\n",
       "<style scoped>\n",
       "    .dataframe tbody tr th:only-of-type {\n",
       "        vertical-align: middle;\n",
       "    }\n",
       "\n",
       "    .dataframe tbody tr th {\n",
       "        vertical-align: top;\n",
       "    }\n",
       "\n",
       "    .dataframe thead th {\n",
       "        text-align: right;\n",
       "    }\n",
       "</style>\n",
       "<table border=\"1\" class=\"dataframe\">\n",
       "  <thead>\n",
       "    <tr style=\"text-align: right;\">\n",
       "      <th>Predicted</th>\n",
       "      <th>Down</th>\n",
       "      <th>Up</th>\n",
       "      <th>All</th>\n",
       "    </tr>\n",
       "    <tr>\n",
       "      <th>Actural</th>\n",
       "      <th></th>\n",
       "      <th></th>\n",
       "      <th></th>\n",
       "    </tr>\n",
       "  </thead>\n",
       "  <tbody>\n",
       "    <tr>\n",
       "      <th>Down</th>\n",
       "      <td>8</td>\n",
       "      <td>35</td>\n",
       "      <td>43</td>\n",
       "    </tr>\n",
       "    <tr>\n",
       "      <th>Up</th>\n",
       "      <td>4</td>\n",
       "      <td>57</td>\n",
       "      <td>61</td>\n",
       "    </tr>\n",
       "    <tr>\n",
       "      <th>All</th>\n",
       "      <td>12</td>\n",
       "      <td>92</td>\n",
       "      <td>104</td>\n",
       "    </tr>\n",
       "  </tbody>\n",
       "</table>\n",
       "</div>"
      ],
      "text/plain": [
       "Predicted  Down  Up  All\n",
       "Actural                 \n",
       "Down          8  35   43\n",
       "Up            4  57   61\n",
       "All          12  92  104"
      ]
     },
     "metadata": {},
     "output_type": "display_data"
    },
    {
     "name": "stdout",
     "output_type": "stream",
     "text": [
      "correct rate: 0.625\n"
     ]
    }
   ],
   "source": [
    "lda=LDA()\n",
    "lda.fit(X_train,y_train)\n",
    "y_pred=lda.predict(X_test)\n",
    "\n",
    "df_confusion=pd.crosstab(y_test,y_pred,rownames=['Actural'],colnames=['Predicted'],margins=True)\n",
    "print('LDA with lag1 and lag2:')\n",
    "display(df_confusion)\n",
    "print('correct rate:',(df_confusion.at['Up','Up']+df_confusion.at['Down','Down'])/df_confusion.at['All','All'])\n",
    "list_23.append((df_confusion.at['Up','Up']+df_confusion.at['Down','Down'])/df_confusion.at['All','All'])"
   ]
  },
  {
   "cell_type": "markdown",
   "id": "12873f6f-be1b-4384-abb3-7c535b09bd8f",
   "metadata": {},
   "source": [
    "QDA"
   ]
  },
  {
   "cell_type": "code",
   "execution_count": 66,
   "id": "a04a6f2f-eb10-4080-9390-76adb433efdc",
   "metadata": {},
   "outputs": [
    {
     "name": "stdout",
     "output_type": "stream",
     "text": [
      "QDA with lag1 and lag2:\n"
     ]
    },
    {
     "data": {
      "text/html": [
       "<div>\n",
       "<style scoped>\n",
       "    .dataframe tbody tr th:only-of-type {\n",
       "        vertical-align: middle;\n",
       "    }\n",
       "\n",
       "    .dataframe tbody tr th {\n",
       "        vertical-align: top;\n",
       "    }\n",
       "\n",
       "    .dataframe thead th {\n",
       "        text-align: right;\n",
       "    }\n",
       "</style>\n",
       "<table border=\"1\" class=\"dataframe\">\n",
       "  <thead>\n",
       "    <tr style=\"text-align: right;\">\n",
       "      <th>Predicted</th>\n",
       "      <th>Down</th>\n",
       "      <th>Up</th>\n",
       "      <th>All</th>\n",
       "    </tr>\n",
       "    <tr>\n",
       "      <th>Actural</th>\n",
       "      <th></th>\n",
       "      <th></th>\n",
       "      <th></th>\n",
       "    </tr>\n",
       "  </thead>\n",
       "  <tbody>\n",
       "    <tr>\n",
       "      <th>Down</th>\n",
       "      <td>4</td>\n",
       "      <td>39</td>\n",
       "      <td>43</td>\n",
       "    </tr>\n",
       "    <tr>\n",
       "      <th>Up</th>\n",
       "      <td>2</td>\n",
       "      <td>59</td>\n",
       "      <td>61</td>\n",
       "    </tr>\n",
       "    <tr>\n",
       "      <th>All</th>\n",
       "      <td>6</td>\n",
       "      <td>98</td>\n",
       "      <td>104</td>\n",
       "    </tr>\n",
       "  </tbody>\n",
       "</table>\n",
       "</div>"
      ],
      "text/plain": [
       "Predicted  Down  Up  All\n",
       "Actural                 \n",
       "Down          4  39   43\n",
       "Up            2  59   61\n",
       "All           6  98  104"
      ]
     },
     "metadata": {},
     "output_type": "display_data"
    },
    {
     "name": "stdout",
     "output_type": "stream",
     "text": [
      "correct rate: 0.6057692307692307\n"
     ]
    }
   ],
   "source": [
    "lda=QDA()\n",
    "qda.fit(X_train,y_train)\n",
    "y_pred=qda.predict(X_test)\n",
    "\n",
    "df_confusion=pd.crosstab(y_test,y_pred,rownames=['Actural'],colnames=['Predicted'],margins=True)\n",
    "print('QDA with lag1 and lag2:')\n",
    "display(df_confusion)\n",
    "print('correct rate:',(df_confusion.at['Up','Up']+df_confusion.at['Down','Down'])/df_confusion.at['All','All'])\n",
    "list_23.append((df_confusion.at['Up','Up']+df_confusion.at['Down','Down'])/df_confusion.at['All','All'])"
   ]
  },
  {
   "cell_type": "markdown",
   "id": "dc9e159e-7e69-4d43-8158-d59d657c06ee",
   "metadata": {},
   "source": [
    "KNN-K"
   ]
  },
  {
   "cell_type": "code",
   "execution_count": 67,
   "id": "f17561ca-798e-481a-ae0a-518a9c913a46",
   "metadata": {},
   "outputs": [
    {
     "name": "stdout",
     "output_type": "stream",
     "text": [
      "knn-17 with lag1 and lag2:\n"
     ]
    },
    {
     "data": {
      "text/html": [
       "<div>\n",
       "<style scoped>\n",
       "    .dataframe tbody tr th:only-of-type {\n",
       "        vertical-align: middle;\n",
       "    }\n",
       "\n",
       "    .dataframe tbody tr th {\n",
       "        vertical-align: top;\n",
       "    }\n",
       "\n",
       "    .dataframe thead th {\n",
       "        text-align: right;\n",
       "    }\n",
       "</style>\n",
       "<table border=\"1\" class=\"dataframe\">\n",
       "  <thead>\n",
       "    <tr style=\"text-align: right;\">\n",
       "      <th>Predicted</th>\n",
       "      <th>Down</th>\n",
       "      <th>Up</th>\n",
       "      <th>All</th>\n",
       "    </tr>\n",
       "    <tr>\n",
       "      <th>Actural</th>\n",
       "      <th></th>\n",
       "      <th></th>\n",
       "      <th></th>\n",
       "    </tr>\n",
       "  </thead>\n",
       "  <tbody>\n",
       "    <tr>\n",
       "      <th>Down</th>\n",
       "      <td>16</td>\n",
       "      <td>27</td>\n",
       "      <td>43</td>\n",
       "    </tr>\n",
       "    <tr>\n",
       "      <th>Up</th>\n",
       "      <td>16</td>\n",
       "      <td>45</td>\n",
       "      <td>61</td>\n",
       "    </tr>\n",
       "    <tr>\n",
       "      <th>All</th>\n",
       "      <td>32</td>\n",
       "      <td>72</td>\n",
       "      <td>104</td>\n",
       "    </tr>\n",
       "  </tbody>\n",
       "</table>\n",
       "</div>"
      ],
      "text/plain": [
       "Predicted  Down  Up  All\n",
       "Actural                 \n",
       "Down         16  27   43\n",
       "Up           16  45   61\n",
       "All          32  72  104"
      ]
     },
     "metadata": {},
     "output_type": "display_data"
    },
    {
     "name": "stdout",
     "output_type": "stream",
     "text": [
      "correct rate: 0.5865384615384616\n"
     ]
    }
   ],
   "source": [
    "correct_rate=0\n",
    "n=0\n",
    "for i in range(30):\n",
    "    knn = KNeighborsClassifier(n_neighbors=i+1)\n",
    "    knn.fit(X_train,y_train)\n",
    "    y_pred=knn.predict(X_test)\n",
    "    df_confusion=pd.crosstab(y_test,y_pred,rownames=['Actural'],colnames=['Predicted'],margins=True)\n",
    "    rate=(df_confusion.at['Up','Up']+df_confusion.at['Down','Down'])/df_confusion.at['All','All']\n",
    "    if rate>correct_rate:\n",
    "        correct_rate=rate\n",
    "        n=i+1\n",
    "\n",
    "knn=KNeighborsClassifier(n_neighbors=n)\n",
    "knn.fit(X_train,y_train)\n",
    "y_pred=knn.predict(X_test)\n",
    "df_confusion=pd.crosstab(y_test,y_pred,rownames=['Actural'],colnames=['Predicted'],margins=True)\n",
    "print(f'knn-{n} with lag1 and lag2:')\n",
    "display(df_confusion)\n",
    "print('correct rate:',(df_confusion.at['Up','Up']+df_confusion.at['Down','Down'])/df_confusion.at['All','All'])\n",
    "list_23.append((df_confusion.at['Up','Up']+df_confusion.at['Down','Down'])/df_confusion.at['All','All'])"
   ]
  },
  {
   "cell_type": "markdown",
   "id": "863fb844-055c-4e57-a41f-6c4b2db132aa",
   "metadata": {},
   "source": [
    "naive Bayes"
   ]
  },
  {
   "cell_type": "code",
   "execution_count": 68,
   "id": "42c1c487-6543-4cd0-b55c-93da00f794b1",
   "metadata": {},
   "outputs": [
    {
     "name": "stdout",
     "output_type": "stream",
     "text": [
      "Gaussian naive Gayes confusion matrix:\n"
     ]
    },
    {
     "data": {
      "text/html": [
       "<div>\n",
       "<style scoped>\n",
       "    .dataframe tbody tr th:only-of-type {\n",
       "        vertical-align: middle;\n",
       "    }\n",
       "\n",
       "    .dataframe tbody tr th {\n",
       "        vertical-align: top;\n",
       "    }\n",
       "\n",
       "    .dataframe thead th {\n",
       "        text-align: right;\n",
       "    }\n",
       "</style>\n",
       "<table border=\"1\" class=\"dataframe\">\n",
       "  <thead>\n",
       "    <tr style=\"text-align: right;\">\n",
       "      <th>Predicted</th>\n",
       "      <th>Up</th>\n",
       "      <th>All</th>\n",
       "    </tr>\n",
       "    <tr>\n",
       "      <th>Actual</th>\n",
       "      <th></th>\n",
       "      <th></th>\n",
       "    </tr>\n",
       "  </thead>\n",
       "  <tbody>\n",
       "    <tr>\n",
       "      <th>Down</th>\n",
       "      <td>43</td>\n",
       "      <td>43</td>\n",
       "    </tr>\n",
       "    <tr>\n",
       "      <th>Up</th>\n",
       "      <td>61</td>\n",
       "      <td>61</td>\n",
       "    </tr>\n",
       "    <tr>\n",
       "      <th>All</th>\n",
       "      <td>104</td>\n",
       "      <td>104</td>\n",
       "    </tr>\n",
       "  </tbody>\n",
       "</table>\n",
       "</div>"
      ],
      "text/plain": [
       "Predicted   Up  All\n",
       "Actual             \n",
       "Down        43   43\n",
       "Up          61   61\n",
       "All        104  104"
      ]
     },
     "metadata": {},
     "output_type": "display_data"
    },
    {
     "name": "stdout",
     "output_type": "stream",
     "text": [
      "0.5865384615384616\n"
     ]
    }
   ],
   "source": [
    "gnb = GaussianNB()\n",
    "gnb.fit(X_train, y_train)\n",
    "\n",
    "y_pred=gnb.predict(X_test)\n",
    "\n",
    "df_confusion = pd.crosstab(y_test, y_pred)\n",
    "df_confusion = pd.crosstab(y_test, y_pred, rownames=['Actual'], colnames=['Predicted'], margins=True)\n",
    "print('Gaussian naive Gayes confusion matrix:')\n",
    "display(df_confusion)\n",
    "print(df_confusion.at['Up','Up']/df_confusion.at['All','All'])\n",
    "list_23.append(df_confusion.at['Up','Up']/df_confusion.at['All','All'])"
   ]
  },
  {
   "cell_type": "code",
   "execution_count": 69,
   "id": "12bf99f1-60bd-4d27-89ce-e31c9d2e1f0e",
   "metadata": {},
   "outputs": [
    {
     "data": {
      "text/plain": [
       "[0.625, 0.625, 0.6057692307692307, 0.5865384615384616, 0.5865384615384616]"
      ]
     },
     "execution_count": 69,
     "metadata": {},
     "output_type": "execute_result"
    }
   ],
   "source": [
    "list_23"
   ]
  },
  {
   "cell_type": "code",
   "execution_count": null,
   "id": "9f725b78-8920-459b-88c4-12beb9fa9081",
   "metadata": {},
   "outputs": [],
   "source": []
  },
  {
   "cell_type": "markdown",
   "id": "8bb59d96-8faa-4d88-8f23-88de65622a63",
   "metadata": {},
   "source": [
    "Lag2 Lag4"
   ]
  },
  {
   "cell_type": "code",
   "execution_count": 70,
   "id": "f0d37a82-7eba-4589-8ca2-ba56aa8ceadf",
   "metadata": {},
   "outputs": [],
   "source": [
    "features=['Lag2','Lag4']\n",
    "response='Direction'\n",
    "X_train=df_weekly[df_weekly.Year<=2008][features]\n",
    "y_train=df_weekly[df_weekly.Year<=2008][response]\n",
    "X_test=df_weekly[df_weekly.Year>2008][features]\n",
    "y_test=df_weekly[df_weekly.Year>2008][response]\n",
    "list_24=[]"
   ]
  },
  {
   "cell_type": "markdown",
   "id": "41bf8943-02b1-4f8c-a77d-086f9ba26069",
   "metadata": {},
   "source": [
    "LR"
   ]
  },
  {
   "cell_type": "code",
   "execution_count": 71,
   "id": "a3349ca4-ee02-43e2-aec6-203db0f2be1d",
   "metadata": {},
   "outputs": [
    {
     "name": "stdout",
     "output_type": "stream",
     "text": [
      "Logistic regression of lag1 and lag2 confusion matrix:\n"
     ]
    },
    {
     "data": {
      "text/html": [
       "<div>\n",
       "<style scoped>\n",
       "    .dataframe tbody tr th:only-of-type {\n",
       "        vertical-align: middle;\n",
       "    }\n",
       "\n",
       "    .dataframe tbody tr th {\n",
       "        vertical-align: top;\n",
       "    }\n",
       "\n",
       "    .dataframe thead th {\n",
       "        text-align: right;\n",
       "    }\n",
       "</style>\n",
       "<table border=\"1\" class=\"dataframe\">\n",
       "  <thead>\n",
       "    <tr style=\"text-align: right;\">\n",
       "      <th>Predicted</th>\n",
       "      <th>Down</th>\n",
       "      <th>Up</th>\n",
       "      <th>All</th>\n",
       "    </tr>\n",
       "    <tr>\n",
       "      <th>Actural</th>\n",
       "      <th></th>\n",
       "      <th></th>\n",
       "      <th></th>\n",
       "    </tr>\n",
       "  </thead>\n",
       "  <tbody>\n",
       "    <tr>\n",
       "      <th>Down</th>\n",
       "      <td>8</td>\n",
       "      <td>35</td>\n",
       "      <td>43</td>\n",
       "    </tr>\n",
       "    <tr>\n",
       "      <th>Up</th>\n",
       "      <td>4</td>\n",
       "      <td>57</td>\n",
       "      <td>61</td>\n",
       "    </tr>\n",
       "    <tr>\n",
       "      <th>All</th>\n",
       "      <td>12</td>\n",
       "      <td>92</td>\n",
       "      <td>104</td>\n",
       "    </tr>\n",
       "  </tbody>\n",
       "</table>\n",
       "</div>"
      ],
      "text/plain": [
       "Predicted  Down  Up  All\n",
       "Actural                 \n",
       "Down          8  35   43\n",
       "Up            4  57   61\n",
       "All          12  92  104"
      ]
     },
     "metadata": {},
     "output_type": "display_data"
    },
    {
     "name": "stdout",
     "output_type": "stream",
     "text": [
      "correct rate: 0.625\n"
     ]
    }
   ],
   "source": [
    "logreg=LogisticRegression(penalty='none')\n",
    "logreg.fit(X_train,y_train)\n",
    "y_pred=logreg.predict(X_test)\n",
    "\n",
    "df_confusion=pd.crosstab(y_test,y_pred,rownames=['Actural'],colnames=['Predicted'],margins=True)\n",
    "print('Logistic regression of lag1 and lag2 confusion matrix:')\n",
    "display(df_confusion)\n",
    "correct_rate=(df_confusion.at['Up','Up']+df_confusion.at['Down','Down'])/df_confusion.at['All','All']\n",
    "print('correct rate:',correct_rate)\n",
    "list_24.append(correct_rate)"
   ]
  },
  {
   "cell_type": "markdown",
   "id": "8f84aa87-f50c-4d51-b46a-38d3784d7a7e",
   "metadata": {},
   "source": [
    "LDA"
   ]
  },
  {
   "cell_type": "code",
   "execution_count": 72,
   "id": "f9e37419-3fce-4497-9c90-0d12bdc7df38",
   "metadata": {},
   "outputs": [
    {
     "name": "stdout",
     "output_type": "stream",
     "text": [
      "LDA with lag1 and lag2:\n"
     ]
    },
    {
     "data": {
      "text/html": [
       "<div>\n",
       "<style scoped>\n",
       "    .dataframe tbody tr th:only-of-type {\n",
       "        vertical-align: middle;\n",
       "    }\n",
       "\n",
       "    .dataframe tbody tr th {\n",
       "        vertical-align: top;\n",
       "    }\n",
       "\n",
       "    .dataframe thead th {\n",
       "        text-align: right;\n",
       "    }\n",
       "</style>\n",
       "<table border=\"1\" class=\"dataframe\">\n",
       "  <thead>\n",
       "    <tr style=\"text-align: right;\">\n",
       "      <th>Predicted</th>\n",
       "      <th>Down</th>\n",
       "      <th>Up</th>\n",
       "      <th>All</th>\n",
       "    </tr>\n",
       "    <tr>\n",
       "      <th>Actural</th>\n",
       "      <th></th>\n",
       "      <th></th>\n",
       "      <th></th>\n",
       "    </tr>\n",
       "  </thead>\n",
       "  <tbody>\n",
       "    <tr>\n",
       "      <th>Down</th>\n",
       "      <td>8</td>\n",
       "      <td>35</td>\n",
       "      <td>43</td>\n",
       "    </tr>\n",
       "    <tr>\n",
       "      <th>Up</th>\n",
       "      <td>4</td>\n",
       "      <td>57</td>\n",
       "      <td>61</td>\n",
       "    </tr>\n",
       "    <tr>\n",
       "      <th>All</th>\n",
       "      <td>12</td>\n",
       "      <td>92</td>\n",
       "      <td>104</td>\n",
       "    </tr>\n",
       "  </tbody>\n",
       "</table>\n",
       "</div>"
      ],
      "text/plain": [
       "Predicted  Down  Up  All\n",
       "Actural                 \n",
       "Down          8  35   43\n",
       "Up            4  57   61\n",
       "All          12  92  104"
      ]
     },
     "metadata": {},
     "output_type": "display_data"
    },
    {
     "name": "stdout",
     "output_type": "stream",
     "text": [
      "correct rate: 0.625\n"
     ]
    }
   ],
   "source": [
    "lda=LDA()\n",
    "lda.fit(X_train,y_train)\n",
    "y_pred=lda.predict(X_test)\n",
    "\n",
    "df_confusion=pd.crosstab(y_test,y_pred,rownames=['Actural'],colnames=['Predicted'],margins=True)\n",
    "print('LDA with lag1 and lag2:')\n",
    "display(df_confusion)\n",
    "print('correct rate:',(df_confusion.at['Up','Up']+df_confusion.at['Down','Down'])/df_confusion.at['All','All'])\n",
    "list_24.append((df_confusion.at['Up','Up']+df_confusion.at['Down','Down'])/df_confusion.at['All','All'])"
   ]
  },
  {
   "cell_type": "markdown",
   "id": "269c079d-7464-452f-be29-350c4b3f3443",
   "metadata": {},
   "source": [
    "QDA"
   ]
  },
  {
   "cell_type": "code",
   "execution_count": 73,
   "id": "cccb7bbb-afeb-4eb9-94a2-083ce610a05f",
   "metadata": {},
   "outputs": [
    {
     "name": "stdout",
     "output_type": "stream",
     "text": [
      "QDA with lag1 and lag2:\n"
     ]
    },
    {
     "data": {
      "text/html": [
       "<div>\n",
       "<style scoped>\n",
       "    .dataframe tbody tr th:only-of-type {\n",
       "        vertical-align: middle;\n",
       "    }\n",
       "\n",
       "    .dataframe tbody tr th {\n",
       "        vertical-align: top;\n",
       "    }\n",
       "\n",
       "    .dataframe thead th {\n",
       "        text-align: right;\n",
       "    }\n",
       "</style>\n",
       "<table border=\"1\" class=\"dataframe\">\n",
       "  <thead>\n",
       "    <tr style=\"text-align: right;\">\n",
       "      <th>Predicted</th>\n",
       "      <th>Down</th>\n",
       "      <th>Up</th>\n",
       "      <th>All</th>\n",
       "    </tr>\n",
       "    <tr>\n",
       "      <th>Actural</th>\n",
       "      <th></th>\n",
       "      <th></th>\n",
       "      <th></th>\n",
       "    </tr>\n",
       "  </thead>\n",
       "  <tbody>\n",
       "    <tr>\n",
       "      <th>Down</th>\n",
       "      <td>9</td>\n",
       "      <td>34</td>\n",
       "      <td>43</td>\n",
       "    </tr>\n",
       "    <tr>\n",
       "      <th>Up</th>\n",
       "      <td>14</td>\n",
       "      <td>47</td>\n",
       "      <td>61</td>\n",
       "    </tr>\n",
       "    <tr>\n",
       "      <th>All</th>\n",
       "      <td>23</td>\n",
       "      <td>81</td>\n",
       "      <td>104</td>\n",
       "    </tr>\n",
       "  </tbody>\n",
       "</table>\n",
       "</div>"
      ],
      "text/plain": [
       "Predicted  Down  Up  All\n",
       "Actural                 \n",
       "Down          9  34   43\n",
       "Up           14  47   61\n",
       "All          23  81  104"
      ]
     },
     "metadata": {},
     "output_type": "display_data"
    },
    {
     "name": "stdout",
     "output_type": "stream",
     "text": [
      "correct rate: 0.5384615384615384\n"
     ]
    }
   ],
   "source": [
    "lda=QDA()\n",
    "qda.fit(X_train,y_train)\n",
    "y_pred=qda.predict(X_test)\n",
    "\n",
    "df_confusion=pd.crosstab(y_test,y_pred,rownames=['Actural'],colnames=['Predicted'],margins=True)\n",
    "print('QDA with lag1 and lag2:')\n",
    "display(df_confusion)\n",
    "print('correct rate:',(df_confusion.at['Up','Up']+df_confusion.at['Down','Down'])/df_confusion.at['All','All'])\n",
    "list_24.append((df_confusion.at['Up','Up']+df_confusion.at['Down','Down'])/df_confusion.at['All','All'])"
   ]
  },
  {
   "cell_type": "markdown",
   "id": "bfc6a597-c074-4fdd-bce1-14ce1c84097e",
   "metadata": {},
   "source": [
    "KNN-K"
   ]
  },
  {
   "cell_type": "code",
   "execution_count": 74,
   "id": "ae85cd4e-df16-4948-b89e-2a8399b30e69",
   "metadata": {},
   "outputs": [
    {
     "name": "stdout",
     "output_type": "stream",
     "text": [
      "knn-2 with lag1 and lag2:\n"
     ]
    },
    {
     "data": {
      "text/html": [
       "<div>\n",
       "<style scoped>\n",
       "    .dataframe tbody tr th:only-of-type {\n",
       "        vertical-align: middle;\n",
       "    }\n",
       "\n",
       "    .dataframe tbody tr th {\n",
       "        vertical-align: top;\n",
       "    }\n",
       "\n",
       "    .dataframe thead th {\n",
       "        text-align: right;\n",
       "    }\n",
       "</style>\n",
       "<table border=\"1\" class=\"dataframe\">\n",
       "  <thead>\n",
       "    <tr style=\"text-align: right;\">\n",
       "      <th>Predicted</th>\n",
       "      <th>Down</th>\n",
       "      <th>Up</th>\n",
       "      <th>All</th>\n",
       "    </tr>\n",
       "    <tr>\n",
       "      <th>Actural</th>\n",
       "      <th></th>\n",
       "      <th></th>\n",
       "      <th></th>\n",
       "    </tr>\n",
       "  </thead>\n",
       "  <tbody>\n",
       "    <tr>\n",
       "      <th>Down</th>\n",
       "      <td>34</td>\n",
       "      <td>9</td>\n",
       "      <td>43</td>\n",
       "    </tr>\n",
       "    <tr>\n",
       "      <th>Up</th>\n",
       "      <td>31</td>\n",
       "      <td>30</td>\n",
       "      <td>61</td>\n",
       "    </tr>\n",
       "    <tr>\n",
       "      <th>All</th>\n",
       "      <td>65</td>\n",
       "      <td>39</td>\n",
       "      <td>104</td>\n",
       "    </tr>\n",
       "  </tbody>\n",
       "</table>\n",
       "</div>"
      ],
      "text/plain": [
       "Predicted  Down  Up  All\n",
       "Actural                 \n",
       "Down         34   9   43\n",
       "Up           31  30   61\n",
       "All          65  39  104"
      ]
     },
     "metadata": {},
     "output_type": "display_data"
    },
    {
     "name": "stdout",
     "output_type": "stream",
     "text": [
      "correct rate: 0.6153846153846154\n"
     ]
    }
   ],
   "source": [
    "correct_rate=0\n",
    "n=0\n",
    "for i in range(30):\n",
    "    knn = KNeighborsClassifier(n_neighbors=i+1)\n",
    "    knn.fit(X_train,y_train)\n",
    "    y_pred=knn.predict(X_test)\n",
    "    df_confusion=pd.crosstab(y_test,y_pred,rownames=['Actural'],colnames=['Predicted'],margins=True)\n",
    "    rate=(df_confusion.at['Up','Up']+df_confusion.at['Down','Down'])/df_confusion.at['All','All']\n",
    "    if rate>correct_rate:\n",
    "        correct_rate=rate\n",
    "        n=i+1\n",
    "\n",
    "knn=KNeighborsClassifier(n_neighbors=n)\n",
    "knn.fit(X_train,y_train)\n",
    "y_pred=knn.predict(X_test)\n",
    "df_confusion=pd.crosstab(y_test,y_pred,rownames=['Actural'],colnames=['Predicted'],margins=True)\n",
    "print(f'knn-{n} with lag1 and lag2:')\n",
    "display(df_confusion)\n",
    "print('correct rate:',(df_confusion.at['Up','Up']+df_confusion.at['Down','Down'])/df_confusion.at['All','All'])\n",
    "list_24.append((df_confusion.at['Up','Up']+df_confusion.at['Down','Down'])/df_confusion.at['All','All'])"
   ]
  },
  {
   "cell_type": "markdown",
   "id": "1f5a789f-4482-47e8-9262-f6be0bb3ce4d",
   "metadata": {},
   "source": [
    "naive Bayes"
   ]
  },
  {
   "cell_type": "code",
   "execution_count": 75,
   "id": "34d950a4-c27f-4872-b6d1-157d5c290a6e",
   "metadata": {},
   "outputs": [
    {
     "name": "stdout",
     "output_type": "stream",
     "text": [
      "Gaussian naive Gayes confusion matrix:\n"
     ]
    },
    {
     "data": {
      "text/html": [
       "<div>\n",
       "<style scoped>\n",
       "    .dataframe tbody tr th:only-of-type {\n",
       "        vertical-align: middle;\n",
       "    }\n",
       "\n",
       "    .dataframe tbody tr th {\n",
       "        vertical-align: top;\n",
       "    }\n",
       "\n",
       "    .dataframe thead th {\n",
       "        text-align: right;\n",
       "    }\n",
       "</style>\n",
       "<table border=\"1\" class=\"dataframe\">\n",
       "  <thead>\n",
       "    <tr style=\"text-align: right;\">\n",
       "      <th>Predicted</th>\n",
       "      <th>Down</th>\n",
       "      <th>Up</th>\n",
       "      <th>All</th>\n",
       "    </tr>\n",
       "    <tr>\n",
       "      <th>Actual</th>\n",
       "      <th></th>\n",
       "      <th></th>\n",
       "      <th></th>\n",
       "    </tr>\n",
       "  </thead>\n",
       "  <tbody>\n",
       "    <tr>\n",
       "      <th>Down</th>\n",
       "      <td>7</td>\n",
       "      <td>36</td>\n",
       "      <td>43</td>\n",
       "    </tr>\n",
       "    <tr>\n",
       "      <th>Up</th>\n",
       "      <td>12</td>\n",
       "      <td>49</td>\n",
       "      <td>61</td>\n",
       "    </tr>\n",
       "    <tr>\n",
       "      <th>All</th>\n",
       "      <td>19</td>\n",
       "      <td>85</td>\n",
       "      <td>104</td>\n",
       "    </tr>\n",
       "  </tbody>\n",
       "</table>\n",
       "</div>"
      ],
      "text/plain": [
       "Predicted  Down  Up  All\n",
       "Actual                  \n",
       "Down          7  36   43\n",
       "Up           12  49   61\n",
       "All          19  85  104"
      ]
     },
     "metadata": {},
     "output_type": "display_data"
    },
    {
     "name": "stdout",
     "output_type": "stream",
     "text": [
      "0.5384615384615384\n"
     ]
    }
   ],
   "source": [
    "gnb = GaussianNB()\n",
    "gnb.fit(X_train, y_train)\n",
    "\n",
    "y_pred=gnb.predict(X_test)\n",
    "\n",
    "df_confusion = pd.crosstab(y_test, y_pred)\n",
    "df_confusion = pd.crosstab(y_test, y_pred, rownames=['Actual'], colnames=['Predicted'], margins=True)\n",
    "print('Gaussian naive Gayes confusion matrix:')\n",
    "display(df_confusion)\n",
    "print((df_confusion.at['Up','Up']+df_confusion.at['Down','Down'])/df_confusion.at['All','All'])\n",
    "list_24.append((df_confusion.at['Up','Up']+df_confusion.at['Down','Down'])/df_confusion.at['All','All'])"
   ]
  },
  {
   "cell_type": "code",
   "execution_count": 76,
   "id": "b9b1ffea-bdef-4381-9c50-c81177eab7a4",
   "metadata": {},
   "outputs": [
    {
     "data": {
      "text/plain": [
       "[0.625, 0.625, 0.5384615384615384, 0.6153846153846154, 0.5384615384615384]"
      ]
     },
     "execution_count": 76,
     "metadata": {},
     "output_type": "execute_result"
    }
   ],
   "source": [
    "list_24"
   ]
  },
  {
   "cell_type": "markdown",
   "id": "42224275-134e-4c88-beeb-c5339d792ec5",
   "metadata": {},
   "source": [
    "Lag1 Lag2 Lag3"
   ]
  },
  {
   "cell_type": "code",
   "execution_count": 77,
   "id": "96141e53-73b6-47e1-97ef-deb331d8bb18",
   "metadata": {},
   "outputs": [],
   "source": [
    "features=['Lag1','Lag2','Lag3']\n",
    "response='Direction'\n",
    "X_train=df_weekly[df_weekly.Year<=2008][features]\n",
    "y_train=df_weekly[df_weekly.Year<=2008][response]\n",
    "X_test=df_weekly[df_weekly.Year>2008][features]\n",
    "y_test=df_weekly[df_weekly.Year>2008][response]\n",
    "list_123=[]"
   ]
  },
  {
   "cell_type": "markdown",
   "id": "223496cd-b2a2-4841-961e-e4321e54c046",
   "metadata": {},
   "source": [
    "LR"
   ]
  },
  {
   "cell_type": "code",
   "execution_count": 78,
   "id": "fa94ef15-f79c-4a73-a23c-701be17d81c9",
   "metadata": {},
   "outputs": [
    {
     "name": "stdout",
     "output_type": "stream",
     "text": [
      "Logistic regression of lag1 and lag2 confusion matrix:\n"
     ]
    },
    {
     "data": {
      "text/html": [
       "<div>\n",
       "<style scoped>\n",
       "    .dataframe tbody tr th:only-of-type {\n",
       "        vertical-align: middle;\n",
       "    }\n",
       "\n",
       "    .dataframe tbody tr th {\n",
       "        vertical-align: top;\n",
       "    }\n",
       "\n",
       "    .dataframe thead th {\n",
       "        text-align: right;\n",
       "    }\n",
       "</style>\n",
       "<table border=\"1\" class=\"dataframe\">\n",
       "  <thead>\n",
       "    <tr style=\"text-align: right;\">\n",
       "      <th>Predicted</th>\n",
       "      <th>Down</th>\n",
       "      <th>Up</th>\n",
       "      <th>All</th>\n",
       "    </tr>\n",
       "    <tr>\n",
       "      <th>Actural</th>\n",
       "      <th></th>\n",
       "      <th></th>\n",
       "      <th></th>\n",
       "    </tr>\n",
       "  </thead>\n",
       "  <tbody>\n",
       "    <tr>\n",
       "      <th>Down</th>\n",
       "      <td>8</td>\n",
       "      <td>35</td>\n",
       "      <td>43</td>\n",
       "    </tr>\n",
       "    <tr>\n",
       "      <th>Up</th>\n",
       "      <td>9</td>\n",
       "      <td>52</td>\n",
       "      <td>61</td>\n",
       "    </tr>\n",
       "    <tr>\n",
       "      <th>All</th>\n",
       "      <td>17</td>\n",
       "      <td>87</td>\n",
       "      <td>104</td>\n",
       "    </tr>\n",
       "  </tbody>\n",
       "</table>\n",
       "</div>"
      ],
      "text/plain": [
       "Predicted  Down  Up  All\n",
       "Actural                 \n",
       "Down          8  35   43\n",
       "Up            9  52   61\n",
       "All          17  87  104"
      ]
     },
     "metadata": {},
     "output_type": "display_data"
    },
    {
     "name": "stdout",
     "output_type": "stream",
     "text": [
      "correct rate: 0.5769230769230769\n"
     ]
    }
   ],
   "source": [
    "logreg=LogisticRegression(penalty='none')\n",
    "logreg.fit(X_train,y_train)\n",
    "y_pred=logreg.predict(X_test)\n",
    "\n",
    "df_confusion=pd.crosstab(y_test,y_pred,rownames=['Actural'],colnames=['Predicted'],margins=True)\n",
    "print('Logistic regression of lag1 and lag2 confusion matrix:')\n",
    "display(df_confusion)\n",
    "correct_rate=(df_confusion.at['Up','Up']+df_confusion.at['Down','Down'])/df_confusion.at['All','All']\n",
    "print('correct rate:',correct_rate)\n",
    "list_123.append(correct_rate)"
   ]
  },
  {
   "cell_type": "markdown",
   "id": "183bd9a0-1064-49b4-8d53-15fe3a1f342f",
   "metadata": {},
   "source": [
    "LDA"
   ]
  },
  {
   "cell_type": "code",
   "execution_count": 79,
   "id": "906b5ca1-ddf8-4310-a19e-34088077aeb5",
   "metadata": {},
   "outputs": [
    {
     "name": "stdout",
     "output_type": "stream",
     "text": [
      "LDA with lag1 and lag2:\n"
     ]
    },
    {
     "data": {
      "text/html": [
       "<div>\n",
       "<style scoped>\n",
       "    .dataframe tbody tr th:only-of-type {\n",
       "        vertical-align: middle;\n",
       "    }\n",
       "\n",
       "    .dataframe tbody tr th {\n",
       "        vertical-align: top;\n",
       "    }\n",
       "\n",
       "    .dataframe thead th {\n",
       "        text-align: right;\n",
       "    }\n",
       "</style>\n",
       "<table border=\"1\" class=\"dataframe\">\n",
       "  <thead>\n",
       "    <tr style=\"text-align: right;\">\n",
       "      <th>Predicted</th>\n",
       "      <th>Down</th>\n",
       "      <th>Up</th>\n",
       "      <th>All</th>\n",
       "    </tr>\n",
       "    <tr>\n",
       "      <th>Actural</th>\n",
       "      <th></th>\n",
       "      <th></th>\n",
       "      <th></th>\n",
       "    </tr>\n",
       "  </thead>\n",
       "  <tbody>\n",
       "    <tr>\n",
       "      <th>Down</th>\n",
       "      <td>8</td>\n",
       "      <td>35</td>\n",
       "      <td>43</td>\n",
       "    </tr>\n",
       "    <tr>\n",
       "      <th>Up</th>\n",
       "      <td>9</td>\n",
       "      <td>52</td>\n",
       "      <td>61</td>\n",
       "    </tr>\n",
       "    <tr>\n",
       "      <th>All</th>\n",
       "      <td>17</td>\n",
       "      <td>87</td>\n",
       "      <td>104</td>\n",
       "    </tr>\n",
       "  </tbody>\n",
       "</table>\n",
       "</div>"
      ],
      "text/plain": [
       "Predicted  Down  Up  All\n",
       "Actural                 \n",
       "Down          8  35   43\n",
       "Up            9  52   61\n",
       "All          17  87  104"
      ]
     },
     "metadata": {},
     "output_type": "display_data"
    },
    {
     "name": "stdout",
     "output_type": "stream",
     "text": [
      "correct rate: 0.5769230769230769\n"
     ]
    }
   ],
   "source": [
    "lda=LDA()\n",
    "lda.fit(X_train,y_train)\n",
    "y_pred=lda.predict(X_test)\n",
    "\n",
    "df_confusion=pd.crosstab(y_test,y_pred,rownames=['Actural'],colnames=['Predicted'],margins=True)\n",
    "print('LDA with lag1 and lag2:')\n",
    "display(df_confusion)\n",
    "print('correct rate:',(df_confusion.at['Up','Up']+df_confusion.at['Down','Down'])/df_confusion.at['All','All'])\n",
    "list_123.append((df_confusion.at['Up','Up']+df_confusion.at['Down','Down'])/df_confusion.at['All','All'])"
   ]
  },
  {
   "cell_type": "markdown",
   "id": "58e96407-df2e-4e3f-82ab-2607fe2c3dd7",
   "metadata": {},
   "source": [
    "QDA"
   ]
  },
  {
   "cell_type": "code",
   "execution_count": 80,
   "id": "99673c4a-05f1-4465-a5c8-507b8da879de",
   "metadata": {},
   "outputs": [
    {
     "name": "stdout",
     "output_type": "stream",
     "text": [
      "QDA with lag1 and lag2:\n"
     ]
    },
    {
     "data": {
      "text/html": [
       "<div>\n",
       "<style scoped>\n",
       "    .dataframe tbody tr th:only-of-type {\n",
       "        vertical-align: middle;\n",
       "    }\n",
       "\n",
       "    .dataframe tbody tr th {\n",
       "        vertical-align: top;\n",
       "    }\n",
       "\n",
       "    .dataframe thead th {\n",
       "        text-align: right;\n",
       "    }\n",
       "</style>\n",
       "<table border=\"1\" class=\"dataframe\">\n",
       "  <thead>\n",
       "    <tr style=\"text-align: right;\">\n",
       "      <th>Predicted</th>\n",
       "      <th>Down</th>\n",
       "      <th>Up</th>\n",
       "      <th>All</th>\n",
       "    </tr>\n",
       "    <tr>\n",
       "      <th>Actural</th>\n",
       "      <th></th>\n",
       "      <th></th>\n",
       "      <th></th>\n",
       "    </tr>\n",
       "  </thead>\n",
       "  <tbody>\n",
       "    <tr>\n",
       "      <th>Down</th>\n",
       "      <td>6</td>\n",
       "      <td>37</td>\n",
       "      <td>43</td>\n",
       "    </tr>\n",
       "    <tr>\n",
       "      <th>Up</th>\n",
       "      <td>10</td>\n",
       "      <td>51</td>\n",
       "      <td>61</td>\n",
       "    </tr>\n",
       "    <tr>\n",
       "      <th>All</th>\n",
       "      <td>16</td>\n",
       "      <td>88</td>\n",
       "      <td>104</td>\n",
       "    </tr>\n",
       "  </tbody>\n",
       "</table>\n",
       "</div>"
      ],
      "text/plain": [
       "Predicted  Down  Up  All\n",
       "Actural                 \n",
       "Down          6  37   43\n",
       "Up           10  51   61\n",
       "All          16  88  104"
      ]
     },
     "metadata": {},
     "output_type": "display_data"
    },
    {
     "name": "stdout",
     "output_type": "stream",
     "text": [
      "correct rate: 0.5480769230769231\n"
     ]
    }
   ],
   "source": [
    "lda=QDA()\n",
    "qda.fit(X_train,y_train)\n",
    "y_pred=qda.predict(X_test)\n",
    "\n",
    "df_confusion=pd.crosstab(y_test,y_pred,rownames=['Actural'],colnames=['Predicted'],margins=True)\n",
    "print('QDA with lag1 and lag2:')\n",
    "display(df_confusion)\n",
    "print('correct rate:',(df_confusion.at['Up','Up']+df_confusion.at['Down','Down'])/df_confusion.at['All','All'])\n",
    "list_123.append((df_confusion.at['Up','Up']+df_confusion.at['Down','Down'])/df_confusion.at['All','All'])"
   ]
  },
  {
   "cell_type": "markdown",
   "id": "7bf2c97e-98ee-4f13-9ad8-c730ac735adc",
   "metadata": {},
   "source": [
    "KNN-K"
   ]
  },
  {
   "cell_type": "code",
   "execution_count": 81,
   "id": "a69a4b96-d126-41d4-9fc1-852a78195242",
   "metadata": {},
   "outputs": [
    {
     "name": "stdout",
     "output_type": "stream",
     "text": [
      "knn-26 with lag1 and lag2:\n"
     ]
    },
    {
     "data": {
      "text/html": [
       "<div>\n",
       "<style scoped>\n",
       "    .dataframe tbody tr th:only-of-type {\n",
       "        vertical-align: middle;\n",
       "    }\n",
       "\n",
       "    .dataframe tbody tr th {\n",
       "        vertical-align: top;\n",
       "    }\n",
       "\n",
       "    .dataframe thead th {\n",
       "        text-align: right;\n",
       "    }\n",
       "</style>\n",
       "<table border=\"1\" class=\"dataframe\">\n",
       "  <thead>\n",
       "    <tr style=\"text-align: right;\">\n",
       "      <th>Predicted</th>\n",
       "      <th>Down</th>\n",
       "      <th>Up</th>\n",
       "      <th>All</th>\n",
       "    </tr>\n",
       "    <tr>\n",
       "      <th>Actural</th>\n",
       "      <th></th>\n",
       "      <th></th>\n",
       "      <th></th>\n",
       "    </tr>\n",
       "  </thead>\n",
       "  <tbody>\n",
       "    <tr>\n",
       "      <th>Down</th>\n",
       "      <td>28</td>\n",
       "      <td>15</td>\n",
       "      <td>43</td>\n",
       "    </tr>\n",
       "    <tr>\n",
       "      <th>Up</th>\n",
       "      <td>21</td>\n",
       "      <td>40</td>\n",
       "      <td>61</td>\n",
       "    </tr>\n",
       "    <tr>\n",
       "      <th>All</th>\n",
       "      <td>49</td>\n",
       "      <td>55</td>\n",
       "      <td>104</td>\n",
       "    </tr>\n",
       "  </tbody>\n",
       "</table>\n",
       "</div>"
      ],
      "text/plain": [
       "Predicted  Down  Up  All\n",
       "Actural                 \n",
       "Down         28  15   43\n",
       "Up           21  40   61\n",
       "All          49  55  104"
      ]
     },
     "metadata": {},
     "output_type": "display_data"
    },
    {
     "name": "stdout",
     "output_type": "stream",
     "text": [
      "correct rate: 0.6538461538461539\n"
     ]
    }
   ],
   "source": [
    "correct_rate=0\n",
    "n=0\n",
    "for i in range(30):\n",
    "    knn = KNeighborsClassifier(n_neighbors=i+1)\n",
    "    knn.fit(X_train,y_train)\n",
    "    y_pred=knn.predict(X_test)\n",
    "    df_confusion=pd.crosstab(y_test,y_pred,rownames=['Actural'],colnames=['Predicted'],margins=True)\n",
    "    rate=(df_confusion.at['Up','Up']+df_confusion.at['Down','Down'])/df_confusion.at['All','All']\n",
    "    if rate>correct_rate:\n",
    "        correct_rate=rate\n",
    "        n=i+1\n",
    "\n",
    "knn=KNeighborsClassifier(n_neighbors=n)\n",
    "knn.fit(X_train,y_train)\n",
    "y_pred=knn.predict(X_test)\n",
    "df_confusion=pd.crosstab(y_test,y_pred,rownames=['Actural'],colnames=['Predicted'],margins=True)\n",
    "print(f'knn-{n} with lag1 and lag2:')\n",
    "display(df_confusion)\n",
    "best_df=df_confusion\n",
    "print('correct rate:',(df_confusion.at['Up','Up']+df_confusion.at['Down','Down'])/df_confusion.at['All','All'])\n",
    "list_123.append((df_confusion.at['Up','Up']+df_confusion.at['Down','Down'])/df_confusion.at['All','All'])"
   ]
  },
  {
   "cell_type": "markdown",
   "id": "3efd979f-6a16-4785-b21d-b9ae3e793046",
   "metadata": {},
   "source": [
    "naive Bayes"
   ]
  },
  {
   "cell_type": "code",
   "execution_count": 82,
   "id": "5cc0fe80-0201-48df-b47b-f6b1b066a747",
   "metadata": {},
   "outputs": [
    {
     "name": "stdout",
     "output_type": "stream",
     "text": [
      "Gaussian naive Gayes confusion matrix:\n"
     ]
    },
    {
     "data": {
      "text/html": [
       "<div>\n",
       "<style scoped>\n",
       "    .dataframe tbody tr th:only-of-type {\n",
       "        vertical-align: middle;\n",
       "    }\n",
       "\n",
       "    .dataframe tbody tr th {\n",
       "        vertical-align: top;\n",
       "    }\n",
       "\n",
       "    .dataframe thead th {\n",
       "        text-align: right;\n",
       "    }\n",
       "</style>\n",
       "<table border=\"1\" class=\"dataframe\">\n",
       "  <thead>\n",
       "    <tr style=\"text-align: right;\">\n",
       "      <th>Predicted</th>\n",
       "      <th>Down</th>\n",
       "      <th>Up</th>\n",
       "      <th>All</th>\n",
       "    </tr>\n",
       "    <tr>\n",
       "      <th>Actual</th>\n",
       "      <th></th>\n",
       "      <th></th>\n",
       "      <th></th>\n",
       "    </tr>\n",
       "  </thead>\n",
       "  <tbody>\n",
       "    <tr>\n",
       "      <th>Down</th>\n",
       "      <td>5</td>\n",
       "      <td>38</td>\n",
       "      <td>43</td>\n",
       "    </tr>\n",
       "    <tr>\n",
       "      <th>Up</th>\n",
       "      <td>10</td>\n",
       "      <td>51</td>\n",
       "      <td>61</td>\n",
       "    </tr>\n",
       "    <tr>\n",
       "      <th>All</th>\n",
       "      <td>15</td>\n",
       "      <td>89</td>\n",
       "      <td>104</td>\n",
       "    </tr>\n",
       "  </tbody>\n",
       "</table>\n",
       "</div>"
      ],
      "text/plain": [
       "Predicted  Down  Up  All\n",
       "Actual                  \n",
       "Down          5  38   43\n",
       "Up           10  51   61\n",
       "All          15  89  104"
      ]
     },
     "metadata": {},
     "output_type": "display_data"
    },
    {
     "name": "stdout",
     "output_type": "stream",
     "text": [
      "0.5384615384615384\n"
     ]
    }
   ],
   "source": [
    "gnb = GaussianNB()\n",
    "gnb.fit(X_train, y_train)\n",
    "\n",
    "y_pred=gnb.predict(X_test)\n",
    "\n",
    "df_confusion = pd.crosstab(y_test, y_pred)\n",
    "df_confusion = pd.crosstab(y_test, y_pred, rownames=['Actual'], colnames=['Predicted'], margins=True)\n",
    "print('Gaussian naive Gayes confusion matrix:')\n",
    "display(df_confusion)\n",
    "print((df_confusion.at['Up','Up']+df_confusion.at['Down','Down'])/df_confusion.at['All','All'])\n",
    "list_123.append((df_confusion.at['Up','Up']+df_confusion.at['Down','Down'])/df_confusion.at['All','All'])"
   ]
  },
  {
   "cell_type": "code",
   "execution_count": 83,
   "id": "98433d03-2a64-43d5-bc41-3b6810fb3c94",
   "metadata": {},
   "outputs": [
    {
     "data": {
      "text/plain": [
       "[0.5769230769230769,\n",
       " 0.5769230769230769,\n",
       " 0.5480769230769231,\n",
       " 0.6538461538461539,\n",
       " 0.5384615384615384]"
      ]
     },
     "execution_count": 83,
     "metadata": {},
     "output_type": "execute_result"
    }
   ],
   "source": [
    "list_123"
   ]
  },
  {
   "cell_type": "markdown",
   "id": "0d71c461-3111-4a18-83e2-b58aa96102bb",
   "metadata": {},
   "source": [
    "Lag1 Lag2 Lag5"
   ]
  },
  {
   "cell_type": "code",
   "execution_count": 84,
   "id": "7cf5b9b2-ff78-4c86-83fe-816d3357de94",
   "metadata": {},
   "outputs": [],
   "source": [
    "features=['Lag1','Lag2','Lag5']\n",
    "response='Direction'\n",
    "X_train=df_weekly[df_weekly.Year<=2008][features]\n",
    "y_train=df_weekly[df_weekly.Year<=2008][response]\n",
    "X_test=df_weekly[df_weekly.Year>2008][features]\n",
    "y_test=df_weekly[df_weekly.Year>2008][response]\n",
    "list_125=[]"
   ]
  },
  {
   "cell_type": "markdown",
   "id": "f3974c81-bec0-4e37-978d-484fb2d2621a",
   "metadata": {},
   "source": [
    "LR"
   ]
  },
  {
   "cell_type": "code",
   "execution_count": 85,
   "id": "7734d560-713e-4fca-9ef2-2325e9d233d8",
   "metadata": {},
   "outputs": [
    {
     "name": "stdout",
     "output_type": "stream",
     "text": [
      "Logistic regression of lag1 and lag2 confusion matrix:\n"
     ]
    },
    {
     "data": {
      "text/html": [
       "<div>\n",
       "<style scoped>\n",
       "    .dataframe tbody tr th:only-of-type {\n",
       "        vertical-align: middle;\n",
       "    }\n",
       "\n",
       "    .dataframe tbody tr th {\n",
       "        vertical-align: top;\n",
       "    }\n",
       "\n",
       "    .dataframe thead th {\n",
       "        text-align: right;\n",
       "    }\n",
       "</style>\n",
       "<table border=\"1\" class=\"dataframe\">\n",
       "  <thead>\n",
       "    <tr style=\"text-align: right;\">\n",
       "      <th>Predicted</th>\n",
       "      <th>Down</th>\n",
       "      <th>Up</th>\n",
       "      <th>All</th>\n",
       "    </tr>\n",
       "    <tr>\n",
       "      <th>Actural</th>\n",
       "      <th></th>\n",
       "      <th></th>\n",
       "      <th></th>\n",
       "    </tr>\n",
       "  </thead>\n",
       "  <tbody>\n",
       "    <tr>\n",
       "      <th>Down</th>\n",
       "      <td>8</td>\n",
       "      <td>35</td>\n",
       "      <td>43</td>\n",
       "    </tr>\n",
       "    <tr>\n",
       "      <th>Up</th>\n",
       "      <td>11</td>\n",
       "      <td>50</td>\n",
       "      <td>61</td>\n",
       "    </tr>\n",
       "    <tr>\n",
       "      <th>All</th>\n",
       "      <td>19</td>\n",
       "      <td>85</td>\n",
       "      <td>104</td>\n",
       "    </tr>\n",
       "  </tbody>\n",
       "</table>\n",
       "</div>"
      ],
      "text/plain": [
       "Predicted  Down  Up  All\n",
       "Actural                 \n",
       "Down          8  35   43\n",
       "Up           11  50   61\n",
       "All          19  85  104"
      ]
     },
     "metadata": {},
     "output_type": "display_data"
    },
    {
     "name": "stdout",
     "output_type": "stream",
     "text": [
      "correct rate: 0.5576923076923077\n"
     ]
    }
   ],
   "source": [
    "logreg=LogisticRegression(penalty='none')\n",
    "logreg.fit(X_train,y_train)\n",
    "y_pred=logreg.predict(X_test)\n",
    "\n",
    "df_confusion=pd.crosstab(y_test,y_pred,rownames=['Actural'],colnames=['Predicted'],margins=True)\n",
    "print('Logistic regression of lag1 and lag2 confusion matrix:')\n",
    "display(df_confusion)\n",
    "correct_rate=(df_confusion.at['Up','Up']+df_confusion.at['Down','Down'])/df_confusion.at['All','All']\n",
    "print('correct rate:',correct_rate)\n",
    "list_125.append(correct_rate)"
   ]
  },
  {
   "cell_type": "markdown",
   "id": "659599cc-1c8c-4a7d-85f9-7976fd86c9bb",
   "metadata": {},
   "source": [
    "LDA"
   ]
  },
  {
   "cell_type": "code",
   "execution_count": 86,
   "id": "fa6db73f-ccfd-42f9-a9d8-68fb45d7c87e",
   "metadata": {},
   "outputs": [
    {
     "name": "stdout",
     "output_type": "stream",
     "text": [
      "LDA with lag1 and lag2:\n"
     ]
    },
    {
     "data": {
      "text/html": [
       "<div>\n",
       "<style scoped>\n",
       "    .dataframe tbody tr th:only-of-type {\n",
       "        vertical-align: middle;\n",
       "    }\n",
       "\n",
       "    .dataframe tbody tr th {\n",
       "        vertical-align: top;\n",
       "    }\n",
       "\n",
       "    .dataframe thead th {\n",
       "        text-align: right;\n",
       "    }\n",
       "</style>\n",
       "<table border=\"1\" class=\"dataframe\">\n",
       "  <thead>\n",
       "    <tr style=\"text-align: right;\">\n",
       "      <th>Predicted</th>\n",
       "      <th>Down</th>\n",
       "      <th>Up</th>\n",
       "      <th>All</th>\n",
       "    </tr>\n",
       "    <tr>\n",
       "      <th>Actural</th>\n",
       "      <th></th>\n",
       "      <th></th>\n",
       "      <th></th>\n",
       "    </tr>\n",
       "  </thead>\n",
       "  <tbody>\n",
       "    <tr>\n",
       "      <th>Down</th>\n",
       "      <td>8</td>\n",
       "      <td>35</td>\n",
       "      <td>43</td>\n",
       "    </tr>\n",
       "    <tr>\n",
       "      <th>Up</th>\n",
       "      <td>11</td>\n",
       "      <td>50</td>\n",
       "      <td>61</td>\n",
       "    </tr>\n",
       "    <tr>\n",
       "      <th>All</th>\n",
       "      <td>19</td>\n",
       "      <td>85</td>\n",
       "      <td>104</td>\n",
       "    </tr>\n",
       "  </tbody>\n",
       "</table>\n",
       "</div>"
      ],
      "text/plain": [
       "Predicted  Down  Up  All\n",
       "Actural                 \n",
       "Down          8  35   43\n",
       "Up           11  50   61\n",
       "All          19  85  104"
      ]
     },
     "metadata": {},
     "output_type": "display_data"
    },
    {
     "name": "stdout",
     "output_type": "stream",
     "text": [
      "correct rate: 0.5576923076923077\n"
     ]
    }
   ],
   "source": [
    "lda=LDA()\n",
    "lda.fit(X_train,y_train)\n",
    "y_pred=lda.predict(X_test)\n",
    "\n",
    "df_confusion=pd.crosstab(y_test,y_pred,rownames=['Actural'],colnames=['Predicted'],margins=True)\n",
    "print('LDA with lag1 and lag2:')\n",
    "display(df_confusion)\n",
    "print('correct rate:',(df_confusion.at['Up','Up']+df_confusion.at['Down','Down'])/df_confusion.at['All','All'])\n",
    "list_125.append((df_confusion.at['Up','Up']+df_confusion.at['Down','Down'])/df_confusion.at['All','All'])"
   ]
  },
  {
   "cell_type": "markdown",
   "id": "abc9196e-42f7-4921-a193-42a40f8e8a7d",
   "metadata": {},
   "source": [
    "QDA"
   ]
  },
  {
   "cell_type": "code",
   "execution_count": 87,
   "id": "f8608e61-b11a-49ea-91ec-586c6ef34a10",
   "metadata": {},
   "outputs": [
    {
     "name": "stdout",
     "output_type": "stream",
     "text": [
      "QDA with lag1 and lag2:\n"
     ]
    },
    {
     "data": {
      "text/html": [
       "<div>\n",
       "<style scoped>\n",
       "    .dataframe tbody tr th:only-of-type {\n",
       "        vertical-align: middle;\n",
       "    }\n",
       "\n",
       "    .dataframe tbody tr th {\n",
       "        vertical-align: top;\n",
       "    }\n",
       "\n",
       "    .dataframe thead th {\n",
       "        text-align: right;\n",
       "    }\n",
       "</style>\n",
       "<table border=\"1\" class=\"dataframe\">\n",
       "  <thead>\n",
       "    <tr style=\"text-align: right;\">\n",
       "      <th>Predicted</th>\n",
       "      <th>Down</th>\n",
       "      <th>Up</th>\n",
       "      <th>All</th>\n",
       "    </tr>\n",
       "    <tr>\n",
       "      <th>Actural</th>\n",
       "      <th></th>\n",
       "      <th></th>\n",
       "      <th></th>\n",
       "    </tr>\n",
       "  </thead>\n",
       "  <tbody>\n",
       "    <tr>\n",
       "      <th>Down</th>\n",
       "      <td>6</td>\n",
       "      <td>37</td>\n",
       "      <td>43</td>\n",
       "    </tr>\n",
       "    <tr>\n",
       "      <th>Up</th>\n",
       "      <td>17</td>\n",
       "      <td>44</td>\n",
       "      <td>61</td>\n",
       "    </tr>\n",
       "    <tr>\n",
       "      <th>All</th>\n",
       "      <td>23</td>\n",
       "      <td>81</td>\n",
       "      <td>104</td>\n",
       "    </tr>\n",
       "  </tbody>\n",
       "</table>\n",
       "</div>"
      ],
      "text/plain": [
       "Predicted  Down  Up  All\n",
       "Actural                 \n",
       "Down          6  37   43\n",
       "Up           17  44   61\n",
       "All          23  81  104"
      ]
     },
     "metadata": {},
     "output_type": "display_data"
    },
    {
     "name": "stdout",
     "output_type": "stream",
     "text": [
      "correct rate: 0.4807692307692308\n"
     ]
    }
   ],
   "source": [
    "lda=QDA()\n",
    "qda.fit(X_train,y_train)\n",
    "y_pred=qda.predict(X_test)\n",
    "\n",
    "df_confusion=pd.crosstab(y_test,y_pred,rownames=['Actural'],colnames=['Predicted'],margins=True)\n",
    "print('QDA with lag1 and lag2:')\n",
    "display(df_confusion)\n",
    "print('correct rate:',(df_confusion.at['Up','Up']+df_confusion.at['Down','Down'])/df_confusion.at['All','All'])\n",
    "list_125.append((df_confusion.at['Up','Up']+df_confusion.at['Down','Down'])/df_confusion.at['All','All'])"
   ]
  },
  {
   "cell_type": "markdown",
   "id": "7dcf5481-68f5-4421-bc48-54a3acedefe7",
   "metadata": {},
   "source": [
    "KNN-K"
   ]
  },
  {
   "cell_type": "code",
   "execution_count": 88,
   "id": "d473e375-9b9c-4799-a78f-9b3267cb395b",
   "metadata": {},
   "outputs": [
    {
     "name": "stdout",
     "output_type": "stream",
     "text": [
      "knn-15 with lag1 and lag2:\n"
     ]
    },
    {
     "data": {
      "text/html": [
       "<div>\n",
       "<style scoped>\n",
       "    .dataframe tbody tr th:only-of-type {\n",
       "        vertical-align: middle;\n",
       "    }\n",
       "\n",
       "    .dataframe tbody tr th {\n",
       "        vertical-align: top;\n",
       "    }\n",
       "\n",
       "    .dataframe thead th {\n",
       "        text-align: right;\n",
       "    }\n",
       "</style>\n",
       "<table border=\"1\" class=\"dataframe\">\n",
       "  <thead>\n",
       "    <tr style=\"text-align: right;\">\n",
       "      <th>Predicted</th>\n",
       "      <th>Down</th>\n",
       "      <th>Up</th>\n",
       "      <th>All</th>\n",
       "    </tr>\n",
       "    <tr>\n",
       "      <th>Actural</th>\n",
       "      <th></th>\n",
       "      <th></th>\n",
       "      <th></th>\n",
       "    </tr>\n",
       "  </thead>\n",
       "  <tbody>\n",
       "    <tr>\n",
       "      <th>Down</th>\n",
       "      <td>19</td>\n",
       "      <td>24</td>\n",
       "      <td>43</td>\n",
       "    </tr>\n",
       "    <tr>\n",
       "      <th>Up</th>\n",
       "      <td>18</td>\n",
       "      <td>43</td>\n",
       "      <td>61</td>\n",
       "    </tr>\n",
       "    <tr>\n",
       "      <th>All</th>\n",
       "      <td>37</td>\n",
       "      <td>67</td>\n",
       "      <td>104</td>\n",
       "    </tr>\n",
       "  </tbody>\n",
       "</table>\n",
       "</div>"
      ],
      "text/plain": [
       "Predicted  Down  Up  All\n",
       "Actural                 \n",
       "Down         19  24   43\n",
       "Up           18  43   61\n",
       "All          37  67  104"
      ]
     },
     "metadata": {},
     "output_type": "display_data"
    },
    {
     "name": "stdout",
     "output_type": "stream",
     "text": [
      "correct rate: 0.5961538461538461\n"
     ]
    }
   ],
   "source": [
    "correct_rate=0\n",
    "n=0\n",
    "for i in range(30):\n",
    "    knn = KNeighborsClassifier(n_neighbors=i+1)\n",
    "    knn.fit(X_train,y_train)\n",
    "    y_pred=knn.predict(X_test)\n",
    "    df_confusion=pd.crosstab(y_test,y_pred,rownames=['Actural'],colnames=['Predicted'],margins=True)\n",
    "    rate=(df_confusion.at['Up','Up']+df_confusion.at['Down','Down'])/df_confusion.at['All','All']\n",
    "    if rate>correct_rate:\n",
    "        correct_rate=rate\n",
    "        n=i+1\n",
    "\n",
    "knn=KNeighborsClassifier(n_neighbors=n)\n",
    "knn.fit(X_train,y_train)\n",
    "y_pred=knn.predict(X_test)\n",
    "df_confusion=pd.crosstab(y_test,y_pred,rownames=['Actural'],colnames=['Predicted'],margins=True)\n",
    "print(f'knn-{n} with lag1 and lag2:')\n",
    "display(df_confusion)\n",
    "print('correct rate:',(df_confusion.at['Up','Up']+df_confusion.at['Down','Down'])/df_confusion.at['All','All'])\n",
    "list_125.append((df_confusion.at['Up','Up']+df_confusion.at['Down','Down'])/df_confusion.at['All','All'])"
   ]
  },
  {
   "cell_type": "markdown",
   "id": "4f328fba-ce7f-4d11-8a8e-13451c4ecc84",
   "metadata": {},
   "source": [
    "naive Bayes"
   ]
  },
  {
   "cell_type": "code",
   "execution_count": 89,
   "id": "ac7476bd-bfa9-405c-b836-d2e9bfe82527",
   "metadata": {},
   "outputs": [
    {
     "name": "stdout",
     "output_type": "stream",
     "text": [
      "Gaussian naive Gayes confusion matrix:\n"
     ]
    },
    {
     "data": {
      "text/html": [
       "<div>\n",
       "<style scoped>\n",
       "    .dataframe tbody tr th:only-of-type {\n",
       "        vertical-align: middle;\n",
       "    }\n",
       "\n",
       "    .dataframe tbody tr th {\n",
       "        vertical-align: top;\n",
       "    }\n",
       "\n",
       "    .dataframe thead th {\n",
       "        text-align: right;\n",
       "    }\n",
       "</style>\n",
       "<table border=\"1\" class=\"dataframe\">\n",
       "  <thead>\n",
       "    <tr style=\"text-align: right;\">\n",
       "      <th>Predicted</th>\n",
       "      <th>Down</th>\n",
       "      <th>Up</th>\n",
       "      <th>All</th>\n",
       "    </tr>\n",
       "    <tr>\n",
       "      <th>Actual</th>\n",
       "      <th></th>\n",
       "      <th></th>\n",
       "      <th></th>\n",
       "    </tr>\n",
       "  </thead>\n",
       "  <tbody>\n",
       "    <tr>\n",
       "      <th>Down</th>\n",
       "      <td>7</td>\n",
       "      <td>36</td>\n",
       "      <td>43</td>\n",
       "    </tr>\n",
       "    <tr>\n",
       "      <th>Up</th>\n",
       "      <td>17</td>\n",
       "      <td>44</td>\n",
       "      <td>61</td>\n",
       "    </tr>\n",
       "    <tr>\n",
       "      <th>All</th>\n",
       "      <td>24</td>\n",
       "      <td>80</td>\n",
       "      <td>104</td>\n",
       "    </tr>\n",
       "  </tbody>\n",
       "</table>\n",
       "</div>"
      ],
      "text/plain": [
       "Predicted  Down  Up  All\n",
       "Actual                  \n",
       "Down          7  36   43\n",
       "Up           17  44   61\n",
       "All          24  80  104"
      ]
     },
     "metadata": {},
     "output_type": "display_data"
    },
    {
     "name": "stdout",
     "output_type": "stream",
     "text": [
      "0.49038461538461536\n"
     ]
    }
   ],
   "source": [
    "gnb = GaussianNB()\n",
    "gnb.fit(X_train, y_train)\n",
    "\n",
    "y_pred=gnb.predict(X_test)\n",
    "\n",
    "df_confusion = pd.crosstab(y_test, y_pred)\n",
    "df_confusion = pd.crosstab(y_test, y_pred, rownames=['Actual'], colnames=['Predicted'], margins=True)\n",
    "print('Gaussian naive Gayes confusion matrix:')\n",
    "display(df_confusion)\n",
    "print((df_confusion.at['Up','Up']+df_confusion.at['Down','Down'])/df_confusion.at['All','All'])\n",
    "list_125.append((df_confusion.at['Up','Up']+df_confusion.at['Down','Down'])/df_confusion.at['All','All'])"
   ]
  },
  {
   "cell_type": "code",
   "execution_count": 90,
   "id": "2030755c-f46b-4897-bba7-0839779dbcc8",
   "metadata": {},
   "outputs": [
    {
     "data": {
      "text/plain": [
       "[0.5576923076923077,\n",
       " 0.5576923076923077,\n",
       " 0.4807692307692308,\n",
       " 0.5961538461538461,\n",
       " 0.49038461538461536]"
      ]
     },
     "execution_count": 90,
     "metadata": {},
     "output_type": "execute_result"
    }
   ],
   "source": [
    "list_125"
   ]
  },
  {
   "cell_type": "code",
   "execution_count": 91,
   "id": "012d2b43-6c0e-4f78-85f6-cc2d03e44344",
   "metadata": {},
   "outputs": [],
   "source": [
    "df_correct=pd.DataFrame()\n",
    "df_correct['lag2']=list_2\n",
    "df_correct['lag1+lag2']=list_12\n",
    "df_correct['lag2+lag3']=list_23\n",
    "df_correct['lag2+lag4']=list_24\n",
    "df_correct['lag1+lag2+lag3']=list_123\n",
    "df_correct['lag1+lag2+lag4']=list_124\n",
    "df_correct['lag1+lag2+lag5']=list_125"
   ]
  },
  {
   "cell_type": "code",
   "execution_count": 92,
   "id": "6aa2c9ff-b107-4427-88b6-13b4d1c2b9e9",
   "metadata": {},
   "outputs": [],
   "source": [
    "df_correct.index=['LR','LDA','QDA','KNN','NB']"
   ]
  },
  {
   "cell_type": "code",
   "execution_count": 93,
   "id": "d85d9cc2-a959-430f-b020-8726477388c6",
   "metadata": {},
   "outputs": [
    {
     "data": {
      "text/html": [
       "<div>\n",
       "<style scoped>\n",
       "    .dataframe tbody tr th:only-of-type {\n",
       "        vertical-align: middle;\n",
       "    }\n",
       "\n",
       "    .dataframe tbody tr th {\n",
       "        vertical-align: top;\n",
       "    }\n",
       "\n",
       "    .dataframe thead th {\n",
       "        text-align: right;\n",
       "    }\n",
       "</style>\n",
       "<table border=\"1\" class=\"dataframe\">\n",
       "  <thead>\n",
       "    <tr style=\"text-align: right;\">\n",
       "      <th></th>\n",
       "      <th>lag2</th>\n",
       "      <th>lag1+lag2</th>\n",
       "      <th>lag2+lag3</th>\n",
       "      <th>lag2+lag4</th>\n",
       "      <th>lag1+lag2+lag3</th>\n",
       "      <th>lag1+lag2+lag4</th>\n",
       "      <th>lag1+lag2+lag5</th>\n",
       "    </tr>\n",
       "  </thead>\n",
       "  <tbody>\n",
       "    <tr>\n",
       "      <th>LR</th>\n",
       "      <td>0.625000</td>\n",
       "      <td>0.576923</td>\n",
       "      <td>0.625000</td>\n",
       "      <td>0.625000</td>\n",
       "      <td>0.576923</td>\n",
       "      <td>0.605769</td>\n",
       "      <td>0.557692</td>\n",
       "    </tr>\n",
       "    <tr>\n",
       "      <th>LDA</th>\n",
       "      <td>0.625000</td>\n",
       "      <td>0.576923</td>\n",
       "      <td>0.625000</td>\n",
       "      <td>0.625000</td>\n",
       "      <td>0.576923</td>\n",
       "      <td>0.605769</td>\n",
       "      <td>0.557692</td>\n",
       "    </tr>\n",
       "    <tr>\n",
       "      <th>QDA</th>\n",
       "      <td>0.586538</td>\n",
       "      <td>0.557692</td>\n",
       "      <td>0.605769</td>\n",
       "      <td>0.538462</td>\n",
       "      <td>0.548077</td>\n",
       "      <td>0.480769</td>\n",
       "      <td>0.480769</td>\n",
       "    </tr>\n",
       "    <tr>\n",
       "      <th>KNN</th>\n",
       "      <td>0.596154</td>\n",
       "      <td>0.625000</td>\n",
       "      <td>0.586538</td>\n",
       "      <td>0.615385</td>\n",
       "      <td>0.653846</td>\n",
       "      <td>0.548077</td>\n",
       "      <td>0.596154</td>\n",
       "    </tr>\n",
       "    <tr>\n",
       "      <th>NB</th>\n",
       "      <td>0.586538</td>\n",
       "      <td>0.538462</td>\n",
       "      <td>0.586538</td>\n",
       "      <td>0.538462</td>\n",
       "      <td>0.538462</td>\n",
       "      <td>0.509615</td>\n",
       "      <td>0.490385</td>\n",
       "    </tr>\n",
       "  </tbody>\n",
       "</table>\n",
       "</div>"
      ],
      "text/plain": [
       "         lag2  lag1+lag2  lag2+lag3  lag2+lag4  lag1+lag2+lag3  \\\n",
       "LR   0.625000   0.576923   0.625000   0.625000        0.576923   \n",
       "LDA  0.625000   0.576923   0.625000   0.625000        0.576923   \n",
       "QDA  0.586538   0.557692   0.605769   0.538462        0.548077   \n",
       "KNN  0.596154   0.625000   0.586538   0.615385        0.653846   \n",
       "NB   0.586538   0.538462   0.586538   0.538462        0.538462   \n",
       "\n",
       "     lag1+lag2+lag4  lag1+lag2+lag5  \n",
       "LR         0.605769        0.557692  \n",
       "LDA        0.605769        0.557692  \n",
       "QDA        0.480769        0.480769  \n",
       "KNN        0.548077        0.596154  \n",
       "NB         0.509615        0.490385  "
      ]
     },
     "execution_count": 93,
     "metadata": {},
     "output_type": "execute_result"
    }
   ],
   "source": [
    "df_correct"
   ]
  },
  {
   "cell_type": "markdown",
   "id": "1516beaa-087c-45a1-a29d-32049b8d12d6",
   "metadata": {},
   "source": [
    "<p>Comparing correct rate, I found the KNN-26 with variable lag1,lag2,lag3 provides best result<\\p>"
   ]
  },
  {
   "cell_type": "code",
   "execution_count": 94,
   "id": "ad431039-0b79-406e-bde9-7a0684e667ce",
   "metadata": {},
   "outputs": [
    {
     "name": "stdout",
     "output_type": "stream",
     "text": [
      "confusion matrix of KNN-26 with varibale lag1 lag2 lag3:\n"
     ]
    },
    {
     "data": {
      "text/html": [
       "<div>\n",
       "<style scoped>\n",
       "    .dataframe tbody tr th:only-of-type {\n",
       "        vertical-align: middle;\n",
       "    }\n",
       "\n",
       "    .dataframe tbody tr th {\n",
       "        vertical-align: top;\n",
       "    }\n",
       "\n",
       "    .dataframe thead th {\n",
       "        text-align: right;\n",
       "    }\n",
       "</style>\n",
       "<table border=\"1\" class=\"dataframe\">\n",
       "  <thead>\n",
       "    <tr style=\"text-align: right;\">\n",
       "      <th>Predicted</th>\n",
       "      <th>Down</th>\n",
       "      <th>Up</th>\n",
       "      <th>All</th>\n",
       "    </tr>\n",
       "    <tr>\n",
       "      <th>Actural</th>\n",
       "      <th></th>\n",
       "      <th></th>\n",
       "      <th></th>\n",
       "    </tr>\n",
       "  </thead>\n",
       "  <tbody>\n",
       "    <tr>\n",
       "      <th>Down</th>\n",
       "      <td>28</td>\n",
       "      <td>15</td>\n",
       "      <td>43</td>\n",
       "    </tr>\n",
       "    <tr>\n",
       "      <th>Up</th>\n",
       "      <td>21</td>\n",
       "      <td>40</td>\n",
       "      <td>61</td>\n",
       "    </tr>\n",
       "    <tr>\n",
       "      <th>All</th>\n",
       "      <td>49</td>\n",
       "      <td>55</td>\n",
       "      <td>104</td>\n",
       "    </tr>\n",
       "  </tbody>\n",
       "</table>\n",
       "</div>"
      ],
      "text/plain": [
       "Predicted  Down  Up  All\n",
       "Actural                 \n",
       "Down         28  15   43\n",
       "Up           21  40   61\n",
       "All          49  55  104"
      ]
     },
     "metadata": {},
     "output_type": "display_data"
    }
   ],
   "source": [
    "print('confusion matrix of KNN-26 with varibale lag1 lag2 lag3:')\n",
    "display(best_df)"
   ]
  },
  {
   "cell_type": "markdown",
   "id": "d49ea8e5-7a66-41e1-8dd5-c3b9f3e066ac",
   "metadata": {},
   "source": [
    "## Bootstrap Probabilities：exercise 2 from Section 5.4 of ISLR."
   ]
  },
  {
   "cell_type": "code",
   "execution_count": 95,
   "id": "0de3f02d-7f15-4919-9673-d4dcb677ec68",
   "metadata": {},
   "outputs": [],
   "source": [
    "import numpy as np\n",
    "import matplotlib.pyplot as plt"
   ]
  },
  {
   "cell_type": "code",
   "execution_count": 96,
   "id": "af82d3ec-d3f5-43e1-95a4-11f3094047e3",
   "metadata": {},
   "outputs": [],
   "source": [
    "n=[i+1 for i in range(100000)]\n",
    "p=[1-np.power(1-(1/j),j) for j in n]"
   ]
  },
  {
   "cell_type": "code",
   "execution_count": 97,
   "id": "2f9b54dc-ed1a-463f-9446-ba4a66d268e7",
   "metadata": {},
   "outputs": [
    {
     "data": {
      "image/png": "[encoded data removed]",
      "text/plain": [
       "<Figure size 432x288 with 1 Axes>"
      ]
     },
     "metadata": {},
     "output_type": "display_data"
    }
   ],
   "source": [
    "plt.figure()\n",
    "plt.plot(n,p)\n",
    "plt.xlabel('n')\n",
    "plt.ylabel('probability')\n",
    "plt.show()"
   ]
  },
  {
   "cell_type": "code",
   "execution_count": 98,
   "id": "b44815b1-19de-404d-b32e-ddcaa00ee344",
   "metadata": {},
   "outputs": [
    {
     "name": "stdout",
     "output_type": "stream",
     "text": [
      "estimated probability is 0.6265\n"
     ]
    }
   ],
   "source": [
    "list_j=[]\n",
    "for i in range(10000):\n",
    "    np.random.seed(i)\n",
    "    order=np.random.randint(1,101,100)\n",
    "    s=order.tolist()\n",
    "    list_j.append(4 in s)\n",
    "p_e=list_j.count(True)/10000\n",
    "print(f'estimated probability is {p_e}')"
   ]
  },
  {
   "cell_type": "code",
   "execution_count": null,
   "id": "80af1ebb-deed-4447-be2c-8a7f98b5e39d",
   "metadata": {},
   "outputs": [],
   "source": []
  },
  {
   "cell_type": "code",
   "execution_count": null,
   "id": "96b04bd8-c1fb-49c0-b0c0-ab2da5d085e6",
   "metadata": {},
   "outputs": [],
   "source": []
  }
 ],
 "metadata": {
  "kernelspec": {
   "display_name": "Python 3",
   "language": "python",
   "name": "python3"
  },
  "language_info": {
   "codemirror_mode": {
    "name": "ipython",
    "version": 3
   },
   "file_extension": ".py",
   "mimetype": "text/x-python",
   "name": "python",
   "nbconvert_exporter": "python",
   "pygments_lexer": "ipython3",
   "version": "3.8.8"
  }
 },
 "nbformat": 4,
 "nbformat_minor": 5
}
